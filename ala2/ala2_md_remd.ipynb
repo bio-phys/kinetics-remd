{
 "cells": [
  {
   "cell_type": "markdown",
   "metadata": {
    "run_control": {
     "frozen": false,
     "read_only": false
    },
    "toc": "true"
   },
   "source": [
    "# Table of Contents\n",
    " <p><div class=\"lev1 toc-item\"><a data-toc-modified-id=\"REMD-1\" href=\"#REMD\"><span class=\"toc-item-num\">1&nbsp;&nbsp;</span>REMD</a></div><div class=\"lev2 toc-item\"><a data-toc-modified-id=\"Estimate-errors-from-block-averaging-11\" href=\"#Estimate-errors-from-block-averaging\"><span class=\"toc-item-num\">1.1&nbsp;&nbsp;</span>Estimate errors from block averaging</a></div><div class=\"lev2 toc-item\"><a data-toc-modified-id=\"Symmetrize-counts-and-estimate-uncertainty-from-counts-12\" href=\"#Symmetrize-counts-and-estimate-uncertainty-from-counts\"><span class=\"toc-item-num\">1.2&nbsp;&nbsp;</span>Symmetrize counts and estimate uncertainty from counts</a></div><div class=\"lev2 toc-item\"><a data-toc-modified-id=\"Arrhenius-fits-13\" href=\"#Arrhenius-fits\"><span class=\"toc-item-num\">1.3&nbsp;&nbsp;</span>Arrhenius fits</a></div><div class=\"lev1 toc-item\"><a data-toc-modified-id=\"MD-2\" href=\"#MD\"><span class=\"toc-item-num\">2&nbsp;&nbsp;</span>MD</a></div><div class=\"lev2 toc-item\"><a data-toc-modified-id=\"Estimate-errors-from-block-averaging-21\" href=\"#Estimate-errors-from-block-averaging\"><span class=\"toc-item-num\">2.1&nbsp;&nbsp;</span>Estimate errors from block averaging</a></div><div class=\"lev2 toc-item\"><a data-toc-modified-id=\"now-symmetrise-and-calculate-erros-22\" href=\"#now-symmetrise-and-calculate-erros\"><span class=\"toc-item-num\">2.2&nbsp;&nbsp;</span>now symmetrise and calculate erros</a></div><div class=\"lev1 toc-item\"><a data-toc-modified-id=\"Comparison-3\" href=\"#Comparison\"><span class=\"toc-item-num\">3&nbsp;&nbsp;</span>Comparison</a></div><div class=\"lev1 toc-item\"><a data-toc-modified-id=\"quick-comparison-4\" href=\"#quick-comparison\"><span class=\"toc-item-num\">4&nbsp;&nbsp;</span>quick comparison</a></div>"
   ]
  },
  {
   "cell_type": "code",
   "execution_count": 3,
   "metadata": {
    "collapsed": false,
    "run_control": {
     "frozen": false,
     "read_only": false
    }
   },
   "outputs": [],
   "source": [
    "import sys\n",
    "sys.path.append(\"../bin/\")\n",
    "%matplotlib inline"
   ]
  },
  {
   "cell_type": "code",
   "execution_count": 4,
   "metadata": {
    "collapsed": false,
    "run_control": {
     "frozen": false,
     "read_only": false
    }
   },
   "outputs": [
    {
     "name": "stdout",
     "output_type": "stream",
     "text": [
      "    tp_comb_df (optional)\r\n",
      "    \r\n",
      "    \"\"\"                     \r\n",
      "    _pt = pd.concat(pt_l).groupby(\"temperature\").mean().reset_index()\r\n",
      "    tp_comb_df = pd.concat(tp_df_l)\r\n",
      "    r_c = rates_ala4_multi_temp(tp_comb_df, _pt, combined_total_time, n_states, trans_names=trans_names)\r\n",
      "    if return_all:\r\n",
      "        return r_c, _pt, tp_comb_df\r\n",
      "    else:\r\n",
      "        return r_c    \r\n"
     ]
    }
   ],
   "source": [
    "! tail ../bin/kinetics/ala_kinetics.py"
   ]
  },
  {
   "cell_type": "code",
   "execution_count": 6,
   "metadata": {
    "collapsed": false,
    "run_control": {
     "frozen": false,
     "read_only": false
    }
   },
   "outputs": [],
   "source": [
    "import seaborn as sns\n",
    "cl = sns.color_palette()\n",
    "from kinetics.ala_kinetics import *\n",
    "import os\n",
    "from kinetics.sorted_lifetimes import *\n",
    "import matplotlib\n",
    "import glob\n",
    "from kinetics.plt_kinetics import *\n",
    "from kinetics.arrhenius import *"
   ]
  },
  {
   "cell_type": "code",
   "execution_count": 16,
   "metadata": {
    "collapsed": true,
    "run_control": {
     "frozen": false,
     "read_only": false
    }
   },
   "outputs": [],
   "source": [
    "recalc=True"
   ]
  },
  {
   "cell_type": "code",
   "execution_count": 17,
   "metadata": {
    "collapsed": false,
    "run_control": {
     "frozen": false,
     "read_only": false
    }
   },
   "outputs": [],
   "source": [
    "# \"../../../alanine-dipeptide/remd-1/temp_list_formatted\"\n",
    "tmp_l = np.genfromtxt(\"temp_list_formatted\")"
   ]
  },
  {
   "cell_type": "code",
   "execution_count": null,
   "metadata": {
    "collapsed": true,
    "run_control": {
     "frozen": false,
     "read_only": false
    }
   },
   "outputs": [],
   "source": []
  },
  {
   "cell_type": "markdown",
   "metadata": {
    "run_control": {
     "frozen": false,
     "read_only": false
    }
   },
   "source": [
    "# REMD"
   ]
  },
  {
   "cell_type": "code",
   "execution_count": 18,
   "metadata": {
    "collapsed": true,
    "run_control": {
     "frozen": false,
     "read_only": false
    }
   },
   "outputs": [],
   "source": [
    "#q_path=\"/home/tb/lustelzl/Projects/kinetics/alanine-dipeptide/remd-1/out-st1/demux_1ps/process/phi_psi/*_phi_psi_p.txt\"\n",
    "q_path = \"./remd/*_phi_psi_p.txt\""
   ]
  },
  {
   "cell_type": "code",
   "execution_count": 19,
   "metadata": {
    "collapsed": false,
    "run_control": {
     "frozen": false,
     "read_only": false
    }
   },
   "outputs": [],
   "source": [
    "#! ls -lrt /home/tb/lustelzl/Projects/kinetics/alanine-dipeptide/remd-1/out-st1/demux_1ps/process/phi_psi/*_phi_psi_p.txt"
   ]
  },
  {
   "cell_type": "code",
   "execution_count": 20,
   "metadata": {
    "collapsed": false,
    "run_control": {
     "frozen": false,
     "read_only": false
    }
   },
   "outputs": [
    {
     "name": "stdout",
     "output_type": "stream",
     "text": [
      "0_phi_psi_p.txt   2_phi_psi_p.txt  6_phi_psi_p.txt  replica_temp_full.txt\r\n",
      "10_phi_psi_p.txt  3_phi_psi_p.txt  7_phi_psi_p.txt\r\n",
      "11_phi_psi_p.txt  4_phi_psi_p.txt  8_phi_psi_p.txt\r\n",
      "1_phi_psi_p.txt   5_phi_psi_p.txt  9_phi_psi_p.txt\r\n"
     ]
    }
   ],
   "source": [
    "! ls remd"
   ]
  },
  {
   "cell_type": "code",
   "execution_count": null,
   "metadata": {
    "collapsed": true,
    "run_control": {
     "frozen": false,
     "read_only": false
    }
   },
   "outputs": [],
   "source": []
  },
  {
   "cell_type": "code",
   "execution_count": 21,
   "metadata": {
    "collapsed": false,
    "run_control": {
     "frozen": false,
     "read_only": false
    }
   },
   "outputs": [],
   "source": [
    "q_dict = make_q_dict(q_path, \"_\", split_pos=0, last_index=-1)"
   ]
  },
  {
   "cell_type": "code",
   "execution_count": 22,
   "metadata": {
    "collapsed": false,
    "run_control": {
     "frozen": false,
     "read_only": false
    }
   },
   "outputs": [],
   "source": [
    "rep_ar = np.genfromtxt('remd/replica_temp_full.txt')\n",
    "run_name =\"remd-out/ala_remd_st1_dt1ps_23may17\"\n",
    "s=[[-100, 50], [0, 150]]"
   ]
  },
  {
   "cell_type": "code",
   "execution_count": 23,
   "metadata": {
    "collapsed": false,
    "run_control": {
     "frozen": false,
     "read_only": false
    }
   },
   "outputs": [
    {
     "name": "stdout",
     "output_type": "stream",
     "text": [
      "0\n",
      "1\n",
      "2\n",
      "3\n",
      "4\n",
      "5\n",
      "6\n",
      "7\n",
      "8\n",
      "9\n",
      "10\n",
      "11\n"
     ]
    }
   ],
   "source": [
    "o_remd_st1 = get_rates_pop_multi_temp(q_dict, rep_ar, run_name, state_def=s,\n",
    "                                      return_raw_events=True, remd=True,\n",
    "                                      recalc=recalc, split_state_tp=True,\n",
    "                                      stop_tp_at_next_end=True, verbose=False)"
   ]
  },
  {
   "cell_type": "code",
   "execution_count": 24,
   "metadata": {
    "collapsed": true,
    "run_control": {
     "frozen": false,
     "read_only": false
    }
   },
   "outputs": [],
   "source": [
    "state_df, all_tp_temp_df, pt, rates, events = o_remd_st1"
   ]
  },
  {
   "cell_type": "markdown",
   "metadata": {
    "run_control": {
     "frozen": false,
     "read_only": false
    }
   },
   "source": [
    "## Estimate errors from block averaging"
   ]
  },
  {
   "cell_type": "code",
   "execution_count": 25,
   "metadata": {
    "collapsed": false,
    "run_control": {
     "frozen": false,
     "read_only": false
    }
   },
   "outputs": [
    {
     "name": "stdout",
     "output_type": "stream",
     "text": [
      "30000\n",
      "[      0.   30000.   60000.   90000.  120000.  150000.]\n"
     ]
    }
   ],
   "source": [
    "pt_5bl, rt_5bl = block_rates_pop_m(state_df, rep_ar, all_tp_temp_df, s, 5 )"
   ]
  },
  {
   "cell_type": "code",
   "execution_count": 26,
   "metadata": {
    "collapsed": true,
    "run_control": {
     "frozen": false,
     "read_only": false
    }
   },
   "outputs": [],
   "source": [
    "bl = av_blks_df(rt_5bl, pad_number_blocks=5, return_event_weight=True, verbose=False)"
   ]
  },
  {
   "cell_type": "code",
   "execution_count": 27,
   "metadata": {
    "collapsed": false,
    "run_control": {
     "frozen": false,
     "read_only": false
    }
   },
   "outputs": [],
   "source": [
    "! mkdir -p remd-out/bl-av-err\n",
    "with open (\"remd-out/bl-av-err//bl_r_ala2_remd1_st1\", 'wb') as p:\n",
    "     pickle.dump(bl, p)\n",
    "        \n",
    "remd_st1_r_av = bl[0]\n",
    "remd_st1_err = bl[1]\n",
    "s_weights = bl[2]"
   ]
  },
  {
   "cell_type": "markdown",
   "metadata": {
    "run_control": {
     "frozen": false,
     "read_only": false
    }
   },
   "source": [
    "## Symmetrize counts and estimate uncertainty from counts"
   ]
  },
  {
   "cell_type": "code",
   "execution_count": 28,
   "metadata": {
    "collapsed": true,
    "run_control": {
     "frozen": false,
     "read_only": false
    }
   },
   "outputs": [],
   "source": [
    "remd_total_time = rep_ar[-1,0] - rep_ar[0,0]"
   ]
  },
  {
   "cell_type": "code",
   "execution_count": 29,
   "metadata": {
    "collapsed": true,
    "run_control": {
     "frozen": false,
     "read_only": false
    }
   },
   "outputs": [],
   "source": [
    "r_s = sym_counts_calc_rate(rates, pt,\n",
    "                          rates.type.unique(),\n",
    "                          remd_total_time,\n",
    "                          time_unit_factor=1000)"
   ]
  },
  {
   "cell_type": "code",
   "execution_count": 30,
   "metadata": {
    "collapsed": false,
    "run_control": {
     "frozen": false,
     "read_only": false
    }
   },
   "outputs": [
    {
     "name": "stderr",
     "output_type": "stream",
     "text": [
      "../bin/kinetics/ala_kinetics.py:784: RuntimeWarning: divide by zero encountered in double_scalars\n",
      "  return np.exp(- 1.0 / np.sqrt(N)), np.exp(1.0 / np.sqrt(N))\n",
      "../bin/kinetics/ala_kinetics.py:811: RuntimeWarning: invalid value encountered in double_scalars\n",
      "  c['std_p'] = c.apply(lambda x: np.float64(x['rate'])* count_err(x[weight_name])[1] if pd.notnull(x['rate'])  else 0, axis=1)\n"
     ]
    }
   ],
   "source": [
    "r_s_ln  = err_log_rate(r_s, weight_name=\"sym_weight\",\n",
    "                      diff_from_est=True)"
   ]
  },
  {
   "cell_type": "markdown",
   "metadata": {
    "run_control": {
     "frozen": false,
     "read_only": false
    }
   },
   "source": [
    "## Arrhenius fits"
   ]
  },
  {
   "cell_type": "code",
   "execution_count": 31,
   "metadata": {
    "collapsed": true,
    "run_control": {
     "frozen": false,
     "read_only": false
    }
   },
   "outputs": [],
   "source": [
    "ln_hc = np.log(r_s_ln[r_s_ln.type==(0,0,0,1)].rate.values.astype(np.float64))\n",
    "ln_ch = np.log(r_s_ln[r_s_ln.type==(0,1,0,0)].rate.values.astype(np.float64))"
   ]
  },
  {
   "cell_type": "code",
   "execution_count": 32,
   "metadata": {
    "collapsed": false,
    "run_control": {
     "frozen": false,
     "read_only": false
    }
   },
   "outputs": [
    {
     "data": {
      "text/plain": [
       "(14042.126247751974, 1795.7780759821746)"
      ]
     },
     "execution_count": 32,
     "metadata": {},
     "output_type": "execute_result"
    }
   ],
   "source": [
    "popt= curve_fit(arrhenius, tmp_l, ln_hc)\n",
    "Ea_hc, A_hc = popt[0][0], popt[0][1]\n",
    "Ea_hc, A_hc"
   ]
  },
  {
   "cell_type": "code",
   "execution_count": 33,
   "metadata": {
    "collapsed": false,
    "run_control": {
     "frozen": false,
     "read_only": false
    }
   },
   "outputs": [
    {
     "data": {
      "text/plain": [
       "(16425.789118242308, 3006.3526936664825)"
      ]
     },
     "execution_count": 33,
     "metadata": {},
     "output_type": "execute_result"
    }
   ],
   "source": [
    "popt = curve_fit(arrhenius, tmp_l, ln_ch)\n",
    "Ea_ch, A_ch = popt[0][0], popt[0][1]\n",
    "Ea_ch, A_ch"
   ]
  },
  {
   "cell_type": "markdown",
   "metadata": {
    "run_control": {
     "frozen": false,
     "read_only": false
    }
   },
   "source": [
    "# MD"
   ]
  },
  {
   "cell_type": "code",
   "execution_count": 34,
   "metadata": {
    "collapsed": true,
    "run_control": {
     "frozen": false,
     "read_only": false
    }
   },
   "outputs": [],
   "source": [
    "# \"/home/tb/lustelzl/Projects/kinetics/alanine-dipeptide/run1/out-st1-multi-temp/phi_psi/ala1_md_st1_{:.2f}_f.xtc_phi_psi_p.txt\"\n",
    "# /home/tb/lustelzl/Projects/kinetics/alanine-dipeptide/run1/out-st2-multi-temp/phi_psi/ala1_md_st1_{:.2f}_f.xtc_phi_psi_p.txt\n",
    "# /home/tb/lustelzl/Projects/kinetics/alanine-dipeptide/run1/out-st3-multi-temp/phi_psi/ala1_md_st3_{:.2f}_f.xtc_phi_psi_p.txt"
   ]
  },
  {
   "cell_type": "code",
   "execution_count": 35,
   "metadata": {
    "collapsed": false,
    "run_control": {
     "frozen": false,
     "read_only": false
    }
   },
   "outputs": [
    {
     "name": "stdout",
     "output_type": "stream",
     "text": [
      "/home/tb/lustelzl/Projects/kinetics/alanine-dipeptide/run1/out-st2-multi-temp/phi_psi/ala1_md_st1_305.00_f.xtc_phi_psi_p.txt\r\n",
      "/home/tb/lustelzl/Projects/kinetics/alanine-dipeptide/run1/out-st2-multi-temp/phi_psi/ala1_md_st1_310.00_f.xtc_phi_psi_p.txt\r\n",
      "/home/tb/lustelzl/Projects/kinetics/alanine-dipeptide/run1/out-st2-multi-temp/phi_psi/ala1_md_st1_315.00_f.xtc_phi_psi_p.txt\r\n",
      "/home/tb/lustelzl/Projects/kinetics/alanine-dipeptide/run1/out-st2-multi-temp/phi_psi/ala1_md_st1_320.00_f.xtc_phi_psi_p.txt\r\n",
      "/home/tb/lustelzl/Projects/kinetics/alanine-dipeptide/run1/out-st2-multi-temp/phi_psi/ala1_md_st1_325.00_f.xtc_phi_psi_p.txt\r\n",
      "/home/tb/lustelzl/Projects/kinetics/alanine-dipeptide/run1/out-st2-multi-temp/phi_psi/ala1_md_st1_330.00_f.xtc_phi_psi_p.txt\r\n",
      "/home/tb/lustelzl/Projects/kinetics/alanine-dipeptide/run1/out-st2-multi-temp/phi_psi/ala1_md_st1_335.00_f.xtc_phi_psi_p.txt\r\n",
      "/home/tb/lustelzl/Projects/kinetics/alanine-dipeptide/run1/out-st2-multi-temp/phi_psi/ala1_md_st1_340.00_f.xtc_phi_psi_p.txt\r\n",
      "/home/tb/lustelzl/Projects/kinetics/alanine-dipeptide/run1/out-st2-multi-temp/phi_psi/ala1_md_st1_345.00_f.xtc_phi_psi_p.txt\r\n",
      "/home/tb/lustelzl/Projects/kinetics/alanine-dipeptide/run1/out-st2-multi-temp/phi_psi/ala1_md_st1_350.00_f.xtc_phi_psi_p.txt\r\n"
     ]
    }
   ],
   "source": [
    "! ls /home/tb/lustelzl/Projects/kinetics/alanine-dipeptide/run1/out-st2-multi-temp/phi_psi/*_p.txt | tail"
   ]
  },
  {
   "cell_type": "code",
   "execution_count": 36,
   "metadata": {
    "collapsed": false,
    "run_control": {
     "frozen": false,
     "read_only": false
    }
   },
   "outputs": [],
   "source": [
    "md1_d = {}\n",
    "for i, t in enumerate(tmp_l):\n",
    "    md1_d[i] = np.genfromtxt(\"md_1/ala1_md_st1_{:.2f}_f.xtc_phi_psi_p.txt\".format(\n",
    "            t))\n",
    "\n",
    "md2_d = {}\n",
    "for i, t in enumerate(tmp_l):\n",
    "    md2_d[i] = np.genfromtxt(\n",
    "        \"md_2/ala1_md_st1_{:.2f}_f.xtc_phi_psi_p.txt\".format(\n",
    "            t))\n",
    "\n",
    "md3_d = {}\n",
    "for i, t in enumerate(tmp_l):\n",
    "    md3_d[i] = np.genfromtxt(\n",
    "        \"md_3/ala1_md_st3_{:.2f}_f.xtc_phi_psi_p.txt\".format(\n",
    "            t))"
   ]
  },
  {
   "cell_type": "code",
   "execution_count": 37,
   "metadata": {
    "collapsed": true,
    "run_control": {
     "frozen": false,
     "read_only": false
    }
   },
   "outputs": [],
   "source": [
    "d = {'md_st1' : md1_d, 'md_st2' : md2_d, 'md_st3' : md3_d}"
   ]
  },
  {
   "cell_type": "code",
   "execution_count": 38,
   "metadata": {
    "collapsed": true,
    "run_control": {
     "frozen": false,
     "read_only": false
    }
   },
   "outputs": [],
   "source": [
    "st_l =  ['md_st1', 'md_st2', 'md_st3']"
   ]
  },
  {
   "cell_type": "code",
   "execution_count": 39,
   "metadata": {
    "collapsed": false,
    "run_control": {
     "frozen": false,
     "read_only": false
    },
    "scrolled": true
   },
   "outputs": [
    {
     "name": "stdout",
     "output_type": "stream",
     "text": [
      "0\n",
      "md-out/st1/md_st1_corr\n",
      "prev calculated rates md-out/st1/md_st1_corr_rates.pickle\n",
      "30000\n",
      "[      0.   30000.   60000.   90000.  120000.  150000.]\n",
      "1\n",
      "md-out/st2/md_st2_corr\n",
      "prev calculated rates md-out/st2/md_st2_corr_rates.pickle\n",
      "30000\n",
      "[ 150000.  180000.  210000.  240000.  270000.  300000.]\n",
      "2\n",
      "md-out/st3/md_st3_corr\n",
      "prev calculated rates md-out/st3/md_st3_corr_rates.pickle\n",
      "30000\n",
      "[ 300000.  330000.  360000.  390000.  420000.  450000.]\n"
     ]
    }
   ],
   "source": [
    "corr_out_d = {}\n",
    "\n",
    "bl_l = []\n",
    "\n",
    "for i, st_name in enumerate(st_l):\n",
    "    print i\n",
    "    md_d = d[st_name]\n",
    "    _rep_fn =\"md-out/st{}/rep_md_\".format(i+1)+st_name+'_corr.npy'\n",
    "    if os.path.exists(_rep_fn):\n",
    "        rep_md = np.load(_rep_fn)\n",
    "    else:\n",
    "        rep_md = gen_rep_ar_md(tmp_l, time_pts= md_d[0][:,0])\n",
    "        np.save(_rep_fn,rep_md)\n",
    "    _run_name = \"md-out/st{}/\".format(i+1)+st_name+'_corr'\n",
    "    print _run_name\n",
    "    md_st_df, md_tp_df, md_p, md_r =  get_rates_pop_multi_temp(md_d, rep_md,\n",
    "                                                               _run_name,\n",
    "                                                               state_def=s, remd=False,\n",
    "                                                               recalc=False,\n",
    "                                                               split_state_tp=True,\n",
    "                                                               stop_tp_at_next_end=True, verbose=False)\n",
    "    \n",
    "   \n",
    "    md_p_5bl, md_r_5b =  block_rates_pop_m(md_st_df, rep_md, md_tp_df, s, 5)\n",
    "    \n",
    "    md_r_5b.dropna(inplace=True)\n",
    "    md_r_5b[\"rate\"] = md_r_5b[\"rate\"].astype(float)   \n",
    "    # don't average here concat the blocks\n",
    "    bl_l.append(md_r_5b)\n",
    "    \n",
    "    corr_out_d[st_name] =  md_st_df, md_tp_df, md_p, md_r\n",
    "    \n",
    "md_df_corr = pd.concat(bl_l)"
   ]
  },
  {
   "cell_type": "markdown",
   "metadata": {
    "run_control": {
     "frozen": false,
     "read_only": false
    }
   },
   "source": [
    "need to find combined rate for the three set of MD simulations"
   ]
  },
  {
   "cell_type": "code",
   "execution_count": null,
   "metadata": {
    "collapsed": false,
    "run_control": {
     "frozen": false,
     "read_only": false
    }
   },
   "outputs": [],
   "source": []
  },
  {
   "cell_type": "code",
   "execution_count": 40,
   "metadata": {
    "collapsed": false,
    "run_control": {
     "frozen": false,
     "read_only": false
    }
   },
   "outputs": [
    {
     "data": {
      "text/plain": [
       "['md_st3', 'md_st2', 'md_st1']"
      ]
     },
     "execution_count": 40,
     "metadata": {},
     "output_type": "execute_result"
    }
   ],
   "source": [
    "corr_out_d.keys()"
   ]
  },
  {
   "cell_type": "code",
   "execution_count": 41,
   "metadata": {
    "collapsed": false,
    "run_control": {
     "frozen": false,
     "read_only": false
    }
   },
   "outputs": [
    {
     "data": {
      "text/plain": [
       "4"
      ]
     },
     "execution_count": 41,
     "metadata": {},
     "output_type": "execute_result"
    }
   ],
   "source": [
    "corr_out_d['md_st1'].__len__() # md_st_df, md_tp_df, md_p"
   ]
  },
  {
   "cell_type": "code",
   "execution_count": 42,
   "metadata": {
    "collapsed": false,
    "run_control": {
     "frozen": false,
     "read_only": false
    }
   },
   "outputs": [],
   "source": [
    "pt_l_md = [ corr_out_d[st][2] for st  in st_l]"
   ]
  },
  {
   "cell_type": "code",
   "execution_count": 43,
   "metadata": {
    "collapsed": false,
    "run_control": {
     "frozen": false,
     "read_only": false
    }
   },
   "outputs": [],
   "source": [
    "tp_l_md = [ corr_out_d[st][1] for st in st_l]"
   ]
  },
  {
   "cell_type": "code",
   "execution_count": 44,
   "metadata": {
    "collapsed": false,
    "run_control": {
     "frozen": false,
     "read_only": false
    }
   },
   "outputs": [
    {
     "name": "stdout",
     "output_type": "stream",
     "text": [
      "150001\n",
      "150000.0\n",
      "150001\n",
      "150000.0\n",
      "150001\n",
      "150000.0\n"
     ]
    },
    {
     "data": {
      "text/plain": [
       "450003"
      ]
     },
     "execution_count": 44,
     "metadata": {},
     "output_type": "execute_result"
    }
   ],
   "source": [
    "total_time = 0\n",
    "for k, v in d.items():\n",
    "    print v[0].__len__()\n",
    "    total_time += v[0].__len__()\n",
    "    print  v[0][-1,0] - v[0][0,0]\n",
    "total_time"
   ]
  },
  {
   "cell_type": "code",
   "execution_count": 45,
   "metadata": {
    "collapsed": true,
    "run_control": {
     "frozen": false,
     "read_only": false
    }
   },
   "outputs": [],
   "source": [
    "ala_ttime = total_time - 3"
   ]
  },
  {
   "cell_type": "code",
   "execution_count": 46,
   "metadata": {
    "collapsed": false,
    "run_control": {
     "frozen": false,
     "read_only": false
    }
   },
   "outputs": [],
   "source": [
    "trans_l = possible_transitions(4)"
   ]
  },
  {
   "cell_type": "code",
   "execution_count": 47,
   "metadata": {
    "collapsed": false,
    "run_control": {
     "frozen": false,
     "read_only": false
    }
   },
   "outputs": [],
   "source": [
    "mdc_r, mdc_pt, mdc_tp = combine_rates_stages_simple(\n",
    "    pt_l_md, tp_l_md, ala_ttime, 4, trans_l, return_all=True)"
   ]
  },
  {
   "cell_type": "markdown",
   "metadata": {
    "run_control": {
     "frozen": false,
     "read_only": false
    }
   },
   "source": [
    "## Estimate errors from block averaging"
   ]
  },
  {
   "cell_type": "code",
   "execution_count": 48,
   "metadata": {
    "collapsed": true,
    "run_control": {
     "frozen": false,
     "read_only": false
    }
   },
   "outputs": [],
   "source": [
    "avr_md3, err_md3, w_md3 = av_blks_df(md_df_corr, pad_number_blocks=15,\n",
    "                                     return_event_weight=True)"
   ]
  },
  {
   "cell_type": "markdown",
   "metadata": {
    "collapsed": true,
    "run_control": {
     "frozen": false,
     "read_only": false
    }
   },
   "source": [
    "##  now symmetrise and calculate erros"
   ]
  },
  {
   "cell_type": "code",
   "execution_count": 49,
   "metadata": {
    "collapsed": true,
    "run_control": {
     "frozen": false,
     "read_only": false
    }
   },
   "outputs": [],
   "source": [
    "md_rt_s = sym_counts_calc_rate(mdc_r, mdc_pt, mdc_r.type.unique(),\n",
    "                              ala_ttime, verbose=False)"
   ]
  },
  {
   "cell_type": "code",
   "execution_count": 50,
   "metadata": {
    "collapsed": false,
    "run_control": {
     "frozen": false,
     "read_only": false
    }
   },
   "outputs": [],
   "source": [
    "md_rt_s_ln = err_log_rate(md_rt_s, weight_name=\"sym_weight\",\n",
    "                         diff_from_est=True)"
   ]
  },
  {
   "cell_type": "code",
   "execution_count": 51,
   "metadata": {
    "collapsed": false,
    "run_control": {
     "frozen": false,
     "read_only": false
    }
   },
   "outputs": [
    {
     "data": {
      "text/plain": [
       "Index([u'temperature', u'type', u'rate', u'events', u'sum_weight',\n",
       "       u'rev_events', u'rev_sum_weight', u'sym_weight', u'std_p', u'std_m',\n",
       "       u'err_m', u'err_p'],\n",
       "      dtype='object')"
      ]
     },
     "execution_count": 51,
     "metadata": {},
     "output_type": "execute_result"
    }
   ],
   "source": [
    "md_rt_s_ln.columns"
   ]
  },
  {
   "cell_type": "markdown",
   "metadata": {
    "run_control": {
     "frozen": false,
     "read_only": false
    }
   },
   "source": [
    "# Comparison\n",
    "\n",
    "* block averaging errors from MD\n",
    "* block averaging errors from REMD"
   ]
  },
  {
   "cell_type": "code",
   "execution_count": 52,
   "metadata": {
    "collapsed": false,
    "run_control": {
     "frozen": false,
     "read_only": false
    }
   },
   "outputs": [
    {
     "data": {
      "text/html": [
       "<div>\n",
       "<table border=\"1\" class=\"dataframe\">\n",
       "  <thead>\n",
       "    <tr style=\"text-align: right;\">\n",
       "      <th>type</th>\n",
       "      <th>(0, 0, 0, 1)</th>\n",
       "      <th>(0, 0, 1, 0)</th>\n",
       "      <th>(0, 0, 1, 1)</th>\n",
       "      <th>(0, 1, 0, 0)</th>\n",
       "      <th>(0, 1, 1, 0)</th>\n",
       "      <th>(0, 1, 1, 1)</th>\n",
       "      <th>(1, 0, 0, 0)</th>\n",
       "      <th>(1, 0, 0, 1)</th>\n",
       "      <th>(1, 0, 1, 1)</th>\n",
       "      <th>(1, 1, 0, 1)</th>\n",
       "      <th>(1, 1, 1, 0)</th>\n",
       "    </tr>\n",
       "    <tr>\n",
       "      <th>temperature</th>\n",
       "      <th></th>\n",
       "      <th></th>\n",
       "      <th></th>\n",
       "      <th></th>\n",
       "      <th></th>\n",
       "      <th></th>\n",
       "      <th></th>\n",
       "      <th></th>\n",
       "      <th></th>\n",
       "      <th></th>\n",
       "      <th></th>\n",
       "    </tr>\n",
       "  </thead>\n",
       "  <tbody>\n",
       "    <tr>\n",
       "      <th>0.0</th>\n",
       "      <td>0.825755</td>\n",
       "      <td>NaN</td>\n",
       "      <td>NaN</td>\n",
       "      <td>0.194199</td>\n",
       "      <td>0.032848</td>\n",
       "      <td>0.024609</td>\n",
       "      <td>0.847878</td>\n",
       "      <td>NaN</td>\n",
       "      <td>0.523376</td>\n",
       "      <td>NaN</td>\n",
       "      <td>11.525171</td>\n",
       "    </tr>\n",
       "    <tr>\n",
       "      <th>1.0</th>\n",
       "      <td>0.412159</td>\n",
       "      <td>NaN</td>\n",
       "      <td>NaN</td>\n",
       "      <td>0.378979</td>\n",
       "      <td>NaN</td>\n",
       "      <td>0.036807</td>\n",
       "      <td>NaN</td>\n",
       "      <td>NaN</td>\n",
       "      <td>2.273904</td>\n",
       "      <td>16.758198</td>\n",
       "      <td>22.152661</td>\n",
       "    </tr>\n",
       "    <tr>\n",
       "      <th>2.0</th>\n",
       "      <td>0.828086</td>\n",
       "      <td>NaN</td>\n",
       "      <td>NaN</td>\n",
       "      <td>0.859324</td>\n",
       "      <td>NaN</td>\n",
       "      <td>0.059537</td>\n",
       "      <td>2.599744</td>\n",
       "      <td>NaN</td>\n",
       "      <td>1.241983</td>\n",
       "      <td>9.115854</td>\n",
       "      <td>6.238652</td>\n",
       "    </tr>\n",
       "    <tr>\n",
       "      <th>3.0</th>\n",
       "      <td>0.487141</td>\n",
       "      <td>NaN</td>\n",
       "      <td>NaN</td>\n",
       "      <td>0.542855</td>\n",
       "      <td>0.039278</td>\n",
       "      <td>0.007170</td>\n",
       "      <td>NaN</td>\n",
       "      <td>0.877333</td>\n",
       "      <td>1.820382</td>\n",
       "      <td>5.796150</td>\n",
       "      <td>19.585844</td>\n",
       "    </tr>\n",
       "    <tr>\n",
       "      <th>4.0</th>\n",
       "      <td>0.634485</td>\n",
       "      <td>NaN</td>\n",
       "      <td>NaN</td>\n",
       "      <td>0.538051</td>\n",
       "      <td>0.040965</td>\n",
       "      <td>0.023679</td>\n",
       "      <td>NaN</td>\n",
       "      <td>0.590752</td>\n",
       "      <td>2.120572</td>\n",
       "      <td>12.405796</td>\n",
       "      <td>14.436461</td>\n",
       "    </tr>\n",
       "  </tbody>\n",
       "</table>\n",
       "</div>"
      ],
      "text/plain": [
       "type         (0, 0, 0, 1)  (0, 0, 1, 0)  (0, 0, 1, 1)  (0, 1, 0, 0)  \\\n",
       "temperature                                                           \n",
       "0.0              0.825755           NaN           NaN      0.194199   \n",
       "1.0              0.412159           NaN           NaN      0.378979   \n",
       "2.0              0.828086           NaN           NaN      0.859324   \n",
       "3.0              0.487141           NaN           NaN      0.542855   \n",
       "4.0              0.634485           NaN           NaN      0.538051   \n",
       "\n",
       "type         (0, 1, 1, 0)  (0, 1, 1, 1)  (1, 0, 0, 0)  (1, 0, 0, 1)  \\\n",
       "temperature                                                           \n",
       "0.0              0.032848      0.024609      0.847878           NaN   \n",
       "1.0                   NaN      0.036807           NaN           NaN   \n",
       "2.0                   NaN      0.059537      2.599744           NaN   \n",
       "3.0              0.039278      0.007170           NaN      0.877333   \n",
       "4.0              0.040965      0.023679           NaN      0.590752   \n",
       "\n",
       "type         (1, 0, 1, 1)  (1, 1, 0, 1)  (1, 1, 1, 0)  \n",
       "temperature                                            \n",
       "0.0              0.523376           NaN     11.525171  \n",
       "1.0              2.273904     16.758198     22.152661  \n",
       "2.0              1.241983      9.115854      6.238652  \n",
       "3.0              1.820382      5.796150     19.585844  \n",
       "4.0              2.120572     12.405796     14.436461  "
      ]
     },
     "execution_count": 52,
     "metadata": {},
     "output_type": "execute_result"
    }
   ],
   "source": [
    "remd_st1_err.head()"
   ]
  },
  {
   "cell_type": "code",
   "execution_count": 53,
   "metadata": {
    "collapsed": false,
    "run_control": {
     "frozen": false,
     "read_only": false
    }
   },
   "outputs": [
    {
     "data": {
      "text/html": [
       "<div>\n",
       "<table border=\"1\" class=\"dataframe\">\n",
       "  <thead>\n",
       "    <tr style=\"text-align: right;\">\n",
       "      <th>type</th>\n",
       "      <th>(0, 0, 0, 1)</th>\n",
       "      <th>(0, 0, 1, 0)</th>\n",
       "      <th>(0, 0, 1, 1)</th>\n",
       "      <th>(0, 1, 0, 0)</th>\n",
       "      <th>(0, 1, 1, 0)</th>\n",
       "      <th>(0, 1, 1, 1)</th>\n",
       "      <th>(1, 0, 0, 0)</th>\n",
       "      <th>(1, 0, 0, 1)</th>\n",
       "      <th>(1, 0, 1, 1)</th>\n",
       "      <th>(1, 1, 0, 0)</th>\n",
       "      <th>(1, 1, 0, 1)</th>\n",
       "      <th>(1, 1, 1, 0)</th>\n",
       "    </tr>\n",
       "    <tr>\n",
       "      <th>temperature</th>\n",
       "      <th></th>\n",
       "      <th></th>\n",
       "      <th></th>\n",
       "      <th></th>\n",
       "      <th></th>\n",
       "      <th></th>\n",
       "      <th></th>\n",
       "      <th></th>\n",
       "      <th></th>\n",
       "      <th></th>\n",
       "      <th></th>\n",
       "      <th></th>\n",
       "    </tr>\n",
       "  </thead>\n",
       "  <tbody>\n",
       "    <tr>\n",
       "      <th>0.0</th>\n",
       "      <td>0.804026</td>\n",
       "      <td>NaN</td>\n",
       "      <td>NaN</td>\n",
       "      <td>0.381262</td>\n",
       "      <td>NaN</td>\n",
       "      <td>0.024146</td>\n",
       "      <td>37.217387</td>\n",
       "      <td>NaN</td>\n",
       "      <td>20.548194</td>\n",
       "      <td>NaN</td>\n",
       "      <td>43.878212</td>\n",
       "      <td>45.710813</td>\n",
       "    </tr>\n",
       "    <tr>\n",
       "      <th>1.0</th>\n",
       "      <td>0.532967</td>\n",
       "      <td>0.070699</td>\n",
       "      <td>NaN</td>\n",
       "      <td>0.500330</td>\n",
       "      <td>NaN</td>\n",
       "      <td>0.035118</td>\n",
       "      <td>0.456613</td>\n",
       "      <td>NaN</td>\n",
       "      <td>4.113860</td>\n",
       "      <td>NaN</td>\n",
       "      <td>6.421248</td>\n",
       "      <td>23.960506</td>\n",
       "    </tr>\n",
       "    <tr>\n",
       "      <th>2.0</th>\n",
       "      <td>0.534953</td>\n",
       "      <td>0.069668</td>\n",
       "      <td>0.068787</td>\n",
       "      <td>0.527552</td>\n",
       "      <td>NaN</td>\n",
       "      <td>0.060107</td>\n",
       "      <td>0.218250</td>\n",
       "      <td>0.422815</td>\n",
       "      <td>2.360126</td>\n",
       "      <td>NaN</td>\n",
       "      <td>14.670700</td>\n",
       "      <td>16.722605</td>\n",
       "    </tr>\n",
       "    <tr>\n",
       "      <th>3.0</th>\n",
       "      <td>0.852880</td>\n",
       "      <td>NaN</td>\n",
       "      <td>NaN</td>\n",
       "      <td>0.546592</td>\n",
       "      <td>NaN</td>\n",
       "      <td>0.035070</td>\n",
       "      <td>1.397014</td>\n",
       "      <td>0.604385</td>\n",
       "      <td>2.033759</td>\n",
       "      <td>NaN</td>\n",
       "      <td>35.238433</td>\n",
       "      <td>29.927949</td>\n",
       "    </tr>\n",
       "    <tr>\n",
       "      <th>4.0</th>\n",
       "      <td>0.462056</td>\n",
       "      <td>0.039614</td>\n",
       "      <td>NaN</td>\n",
       "      <td>0.528149</td>\n",
       "      <td>0.044138</td>\n",
       "      <td>0.036660</td>\n",
       "      <td>0.311934</td>\n",
       "      <td>1.273013</td>\n",
       "      <td>2.514784</td>\n",
       "      <td>NaN</td>\n",
       "      <td>10.791250</td>\n",
       "      <td>23.100373</td>\n",
       "    </tr>\n",
       "  </tbody>\n",
       "</table>\n",
       "</div>"
      ],
      "text/plain": [
       "type         (0, 0, 0, 1)  (0, 0, 1, 0)  (0, 0, 1, 1)  (0, 1, 0, 0)  \\\n",
       "temperature                                                           \n",
       "0.0              0.804026           NaN           NaN      0.381262   \n",
       "1.0              0.532967      0.070699           NaN      0.500330   \n",
       "2.0              0.534953      0.069668      0.068787      0.527552   \n",
       "3.0              0.852880           NaN           NaN      0.546592   \n",
       "4.0              0.462056      0.039614           NaN      0.528149   \n",
       "\n",
       "type         (0, 1, 1, 0)  (0, 1, 1, 1)  (1, 0, 0, 0)  (1, 0, 0, 1)  \\\n",
       "temperature                                                           \n",
       "0.0                   NaN      0.024146     37.217387           NaN   \n",
       "1.0                   NaN      0.035118      0.456613           NaN   \n",
       "2.0                   NaN      0.060107      0.218250      0.422815   \n",
       "3.0                   NaN      0.035070      1.397014      0.604385   \n",
       "4.0              0.044138      0.036660      0.311934      1.273013   \n",
       "\n",
       "type         (1, 0, 1, 1)  (1, 1, 0, 0)  (1, 1, 0, 1)  (1, 1, 1, 0)  \n",
       "temperature                                                          \n",
       "0.0             20.548194           NaN     43.878212     45.710813  \n",
       "1.0              4.113860           NaN      6.421248     23.960506  \n",
       "2.0              2.360126           NaN     14.670700     16.722605  \n",
       "3.0              2.033759           NaN     35.238433     29.927949  \n",
       "4.0              2.514784           NaN     10.791250     23.100373  "
      ]
     },
     "execution_count": 53,
     "metadata": {},
     "output_type": "execute_result"
    }
   ],
   "source": [
    "err_md3.head()"
   ]
  },
  {
   "cell_type": "code",
   "execution_count": 56,
   "metadata": {
    "collapsed": false,
    "run_control": {
     "frozen": false,
     "read_only": false
    },
    "scrolled": true
   },
   "outputs": [
    {
     "name": "stdout",
     "output_type": "stream",
     "text": [
      "(0, 0, 0, 1)\n",
      "(0, 0, 1, 0)\n",
      "(0, 0, 1, 1)\n",
      "(0, 1, 0, 0)\n",
      "(0, 1, 1, 0)\n",
      "(0, 1, 1, 1)\n",
      "(1, 0, 0, 0)\n",
      "(1, 0, 0, 1)\n",
      "(1, 0, 1, 1)\n",
      "(1, 1, 0, 0)\n",
      "(1, 1, 0, 1)\n",
      "(1, 1, 1, 0)\n",
      "108 24\n"
     ]
    },
    {
     "data": {
      "image/png": "[encoded data removed]",
      "text/plain": [
       "<matplotlib.figure.Figure at 0x7f0058686dd0>"
      ]
     },
     "metadata": {},
     "output_type": "display_data"
    }
   ],
   "source": [
    "fig, ax = plt.subplots(2,1,figsize=(3,6.0))\n",
    "ax0, ax1 = ax[0], ax[1]\n",
    "\n",
    "sns.set_style(\"ticks\")\n",
    "#sns.set_style(\"ticks\",  {\"xtick.major.size\": 12, \"ytick.major.size\": 12})\n",
    "\n",
    "forward =(0,0,0,1)\n",
    "backward=(0,1,0,0)\n",
    "\n",
    "leg_d = {forward : r'$h \\rightarrow c$', backward : r'$c \\rightarrow h$'}\n",
    "\n",
    "md_c_l = [cl[0], cl[2]]\n",
    "\n",
    "legend_l1 = []\n",
    "label_l1 = []\n",
    "\n",
    "for ci, trans in enumerate([forward, backward]):\n",
    "    _label = \"{} \".format(leg_d[trans]) + r\"$\\mathregular{MD}$\"\n",
    "    _md_plot = md_rt_s_ln[(md_rt_s_ln.type == trans)] \n",
    "    _yerr = err_md3[trans] / np.sqrt(14)\n",
    "    \n",
    "    l = ax0.errorbar(_md_plot.temperature, _md_plot.rate,yerr=_yerr, \n",
    "                     fmt=\"o\",\n",
    "            label=_label, capthick=1.0, c=md_c_l[ci], mfc=\"None\", mec=md_c_l[ci], mew=1.0,\n",
    "                    markersize=2.6, capsize=2) \n",
    "    legend_l1.append(l)\n",
    "    label_l1.append(_label)\n",
    "\n",
    "remd_c_l = [cl[1], cl[3]]  \n",
    "legend_l2 = []\n",
    "label_l2 = []\n",
    "\n",
    "\n",
    "for ci, trans in enumerate([forward, backward]):\n",
    "    _label = \"{} \".format(leg_d[trans]) + r\"$\\mathregular{REMD}$\"\n",
    "    _remd_plot = r_s_ln[(r_s_ln.type == trans)]\n",
    "    _yerr = remd_st1_err[trans]/ np.sqrt(4)\n",
    "    # [_remd_plot.err_m, _remd_plot.err_p]\n",
    "    l =ax0.errorbar(_remd_plot.temperature, _remd_plot.rate,yerr=_yerr , fmt=\"s\"\n",
    "            ,label=_label, capthick=1.0, c=remd_c_l[ci], mfc=\"None\", mec=remd_c_l[ci], mew=1.0,\n",
    "                   markersize=2.6, capsize=2)\n",
    "    legend_l2.append(l)\n",
    "    label_l2.append(_label)\n",
    "    \n",
    "l1 = ax0.legend([legend_l1[0],legend_l2[0]], [label_l1[0], label_l2[0]], loc=[-0.03, 0.75],\n",
    "                handletextpad=-0.6) # loc=(-0.03,0.51)\n",
    "l2 = ax0.legend([legend_l1[1],legend_l2[1]], [label_l1[1],label_l2[1]], loc=(0.4, 0.01),\n",
    "                handletextpad=-0.6)\n",
    "ax0.add_artist(l1)\n",
    "\n",
    "font_size=12\n",
    "rotation=90\n",
    "ax0.set_xticks(np.arange(12))\n",
    "ax0.set_xticklabels(tmp_l.astype(int), rotation=rotation)\n",
    "ax0.set_yticks(np.arange(4,20,step=2))\n",
    "\n",
    "ax0.set_ylabel(r\"$\\mathregular{k}_{h/c}}$ [$\\mathregular{ns^{-1}}$]\", fontsize=font_size)\n",
    "ax0.set_xlabel(\"$\\mathregular{T \\, [K]}$\", fontsize=font_size)\n",
    "ax0.set_xlim(-0.5,11.5)\n",
    "ax0.set_ylim(3,15.3)\n",
    "\n",
    "\n",
    "R=8.3145\n",
    "x = np.arange(12)\n",
    "ax0.plot(x, A_hc*np.exp(- Ea_hc / (R*tmp_l)), '-', c=cl[1], lw=2.0, label=\"_nolegend_\")\n",
    "ax0.plot(x, A_ch*np.exp(- Ea_ch / (R*tmp_l)), '-', c=cl[3], lw=2.0, label=\"_nolegend_\")\n",
    "\n",
    "fig, ax1 = plot_kji(r_s_ln, md_rt_s_ln, err_is_err_bar=False, fig_ax = [fig, ax1],\n",
    "                   highlight_trans=[(0,0,0,1),(0,1,0,0)], highlight_colour=cl[2],\n",
    "                    verbose=True, highlight_alpha=0.0)\n",
    "\n",
    "fig, ax1 = plot_kji(r_s_ln, md_rt_s_ln, err_is_err_bar=False, fig_ax = [fig, ax1],\n",
    "                   highlight_trans=[(0,0,0,1),(0,1,0,0)], highlight_colour=cl[2],\n",
    "                    verbose=False, other_pts_alpha=0.0, highlight_alpha=1, highlight_only=True)\n",
    "\n",
    "ax1.set_ylim(10**-3.2, 10**2.2)\n",
    "ax1.set_xlim(10**-3.2, 10**2.2)\n",
    "\n",
    "ax1.set_xlabel(\n",
    "    r'$\\mathregular{k_{mn} (T)} \\, \\mathregular{-MD} \\; \\mathregular{[ns^{-1}]}$', fontsize=12)\n",
    "ax1.set_ylabel(r'$\\mathregular{k_{mn} (T)} \\, \\mathregular{-REMD} \\; \\mathregular{[ns^{-1}]}$', fontsize=12)\n",
    "ax1.tick_params(which='minor', length=4)\n",
    "\n",
    "ax1.text(10**-0.69, 13, r\"$c \\; \\leftrightharpoons \\; h$\", fontsize=16,color=cl[2])\n",
    "\n",
    "#ax1.yaxis.set_label_coords(-0.25,0.5)\n",
    "#ax1.axis('equal')\n",
    "#ax1.text(10**-3.61,160, \"B\", fontsize=18)\n",
    "#ax0.text(-2.6,16.0, \"A\", fontsize=18)\n",
    "\n",
    "#ax1.text(10**-5.3,150, \"B\", fontsize=18)\n",
    "#ax0.text(-5,15.50, \"A\", fontsize=18)\n",
    "\n",
    "ax1.tick_params(axis=\"both\", which=\"major\", labelsize=\"12\")\n",
    "ax0.tick_params(axis=\"both\", which=\"major\", labelsize=\"12\")\n",
    "\n",
    "\n",
    "\n",
    "ax1.set_xticks([10**-3, 10**-2, 10**-1, 10**0, 10**1, 10**2])\n",
    "ax1.set_yticks([10**-3, 10**-2, 10**-1, 10**0, 10**1, 10**2])\n",
    "\n",
    "ax0.get_xlim()\n",
    "x0, x1 = ax0.get_xlim()\n",
    "y0, y1 = ax0.get_ylim()\n",
    "ax0.set_aspect((x1-x0)/(y1-y0))\n",
    "\n",
    "ax1.set_aspect('equal')\n",
    "\n",
    "\n",
    "fig.subplots_adjust(left=0.1)\n",
    "\n",
    "fig.tight_layout()\n",
    "\n",
    "fig.savefig(\"plot/ala_rates.pdf\")\n",
    "fig.savefig(\"plot/ala_rates.png\")"
   ]
  },
  {
   "cell_type": "markdown",
   "metadata": {
    "collapsed": true,
    "run_control": {
     "frozen": false,
     "read_only": false
    }
   },
   "source": [
    "# quick comparison"
   ]
  },
  {
   "cell_type": "code",
   "execution_count": null,
   "metadata": {
    "collapsed": false,
    "run_control": {
     "frozen": false,
     "read_only": false
    }
   },
   "outputs": [],
   "source": [
    "\n",
    "mdc_r.head()\n"
   ]
  },
  {
   "cell_type": "code",
   "execution_count": null,
   "metadata": {
    "collapsed": false,
    "run_control": {
     "frozen": false,
     "read_only": false
    }
   },
   "outputs": [],
   "source": [
    "rates.head()"
   ]
  },
  {
   "cell_type": "code",
   "execution_count": null,
   "metadata": {
    "collapsed": true,
    "run_control": {
     "frozen": false,
     "read_only": false
    }
   },
   "outputs": [],
   "source": []
  }
 ],
 "metadata": {
  "anaconda-cloud": {},
  "kernelspec": {
   "display_name": "Python 2",
   "language": "python",
   "name": "python2"
  },
  "language_info": {
   "codemirror_mode": {
    "name": "ipython",
    "version": 2
   },
   "file_extension": ".py",
   "mimetype": "text/x-python",
   "name": "python",
   "nbconvert_exporter": "python",
   "pygments_lexer": "ipython2",
   "version": "2.7.12"
  },
  "toc": {
   "colors": {
    "hover_highlight": "#DAA520",
    "running_highlight": "#FF0000",
    "selected_highlight": "#FFD700"
   },
   "moveMenuLeft": true,
   "nav_menu": {
    "height": "49px",
    "width": "252px"
   },
   "navigate_menu": true,
   "number_sections": true,
   "sideBar": true,
   "threshold": 4,
   "toc_cell": true,
   "toc_position": {
    "height": "664px",
    "left": "0px",
    "right": "auto",
    "top": "107px",
    "width": "275px"
   },
   "toc_section_display": "block",
   "toc_window_display": true
  }
 },
 "nbformat": 4,
 "nbformat_minor": 0
}

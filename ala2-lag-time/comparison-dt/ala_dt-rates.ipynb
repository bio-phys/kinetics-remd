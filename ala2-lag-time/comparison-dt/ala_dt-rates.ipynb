{
 "cells": [
  {
   "cell_type": "code",
   "execution_count": null,
   "metadata": {
    "collapsed": true
   },
   "outputs": [],
   "source": []
  },
  {
   "cell_type": "code",
   "execution_count": 48,
   "metadata": {
    "collapsed": true
   },
   "outputs": [],
   "source": [
    "import pandas as pd\n",
    "%matplotlib inline\n",
    "import glob, os\n",
    "from kinetics.ala_kinetics import *\n",
    "from kinetics.waiting_time import *\n",
    "from kinetics.sorted_lifetimes import *\n",
    "import pyprind\n",
    "from kinetics.check_expon import *"
   ]
  },
  {
   "cell_type": "code",
   "execution_count": 2,
   "metadata": {
    "collapsed": true
   },
   "outputs": [],
   "source": [
    "cl = sns.color_palette()"
   ]
  },
  {
   "cell_type": "code",
   "execution_count": 3,
   "metadata": {
    "collapsed": false
   },
   "outputs": [
    {
     "name": "stdout",
     "output_type": "stream",
     "text": [
      "md_st2md_dt5000__27jan16_blNone_pop.pickle\r\n",
      "md_st2md_dt5000__27jan16_blNone_rates.pickle\r\n",
      "md_st2md_dt5000__27jan16_blNone_tba.pickle\r\n",
      "md_st2md_dt5000__27jan16_blNone_tp.pickle\r\n",
      "\r\n",
      "../dt5000/md_dt5000_st3/:\r\n",
      "md_st3md_dt5000__27jan16_blNone_pop.pickle\r\n",
      "md_st3md_dt5000__27jan16_blNone_rates.pickle\r\n",
      "md_st3md_dt5000__27jan16_blNone_tba.pickle\r\n",
      "md_st3md_dt5000__27jan16_blNone_tp.pickle\r\n"
     ]
    }
   ],
   "source": [
    "! ls ../dt*/md_dt*/ | tail "
   ]
  },
  {
   "cell_type": "code",
   "execution_count": 4,
   "metadata": {
    "collapsed": false
   },
   "outputs": [
    {
     "data": {
      "text/plain": [
       "['1',\n",
       " '10',\n",
       " '100',\n",
       " '1000',\n",
       " '2',\n",
       " '20',\n",
       " '200',\n",
       " '25',\n",
       " '2500',\n",
       " '5',\n",
       " '50',\n",
       " '500',\n",
       " '5000']"
      ]
     },
     "execution_count": 4,
     "metadata": {},
     "output_type": "execute_result"
    }
   ],
   "source": [
    "dt_key_l = glob.glob(\"../dt*\")\n",
    "dt_key_l = [ k[5:] for k in dt_key_l]\n",
    "dt_key_l"
   ]
  },
  {
   "cell_type": "markdown",
   "metadata": {},
   "source": [
    "# Lag-time dependency of lifetimes from MD\n",
    "\n",
    "* load MD transition paths and transition-based state assignments\n",
    "\n",
    "## Calculate lifetimes MD"
   ]
  },
  {
   "cell_type": "code",
   "execution_count": 5,
   "metadata": {
    "collapsed": false
   },
   "outputs": [],
   "source": [
    "md_dt_tp_d = {}\n",
    "md_dt_state_d = {}\n",
    "\n",
    "#for key in md_r_dt_d.keys():\n",
    "for key in dt_key_l:\n",
    "    #print \"../dt{}/md*/*blNone_tp.pickle\".format(dt)\n",
    "    #dt_tp_l  = [glob.glob(\"../dt{}/md*/md_st{}*blNone_tp.pickle\".format(dt,st))[0] for st in range(1,4)]\n",
    "    _dt_tp_l = []\n",
    "    _dt_st_l = []\n",
    "    for st in range(1,4):\n",
    "        _dt_tp_l.extend(glob.glob(\"../dt{}/md*_st{}/md_st{}md*_27jan16_blNone_tp.pickle\".format(key,st,st)))\n",
    "        _dt_st_l.extend(glob.glob(\"../dt{}/md*_st{}/md_st{}md*_27jan16_blNone_tba.pickle\".format(key,st,st)))\n",
    "        # print _dt_st_l\n",
    "    md_dt_tp_d[key] = _dt_tp_l\n",
    "    md_dt_state_d[key] = _dt_st_l"
   ]
  },
  {
   "cell_type": "code",
   "execution_count": 6,
   "metadata": {
    "collapsed": true
   },
   "outputs": [],
   "source": [
    "trans_from_h = [t for t in possible_transitions(4) if t[:2] == (0,0,)]\n",
    "trans_from_c = [t for t in possible_transitions(4) if t[:2] == (0,1,)]\n",
    "\n",
    "trans_from_11 =  [t for t in possible_transitions(4) if t[:2] == (1,1,)]\n",
    "trans_from_10 =  [t for t in possible_transitions(4) if t[:2] == (1,0,)]"
   ]
  },
  {
   "cell_type": "code",
   "execution_count": 7,
   "metadata": {
    "collapsed": false
   },
   "outputs": [
    {
     "name": "stderr",
     "output_type": "stream",
     "text": [
      "0%                          100%\n",
      "[                              ]"
     ]
    },
    {
     "name": "stdout",
     "output_type": "stream",
     "text": [
      "10\n",
      "5000\n"
     ]
    },
    {
     "name": "stderr",
     "output_type": "stream",
     "text": [
      "[#                             ] | ETA: 00:05:04"
     ]
    },
    {
     "name": "stdout",
     "output_type": "stream",
     "text": [
      "20\n"
     ]
    },
    {
     "name": "stderr",
     "output_type": "stream",
     "text": [
      "[##                            ] | ETA: 00:05:58"
     ]
    },
    {
     "name": "stdout",
     "output_type": "stream",
     "text": [
      "200\n"
     ]
    },
    {
     "name": "stderr",
     "output_type": "stream",
     "text": [
      "[###                           ] | ETA: 00:05:04"
     ]
    },
    {
     "name": "stdout",
     "output_type": "stream",
     "text": [
      "50\n",
      "1\n"
     ]
    },
    {
     "name": "stderr",
     "output_type": "stream",
     "text": [
      "[####                          ] | ETA: 00:06:51"
     ]
    },
    {
     "name": "stdout",
     "output_type": "stream",
     "text": [
      "2\n"
     ]
    },
    {
     "name": "stderr",
     "output_type": "stream",
     "text": [
      "[#####                         ] | ETA: 00:07:21"
     ]
    },
    {
     "name": "stdout",
     "output_type": "stream",
     "text": [
      "5\n"
     ]
    },
    {
     "name": "stderr",
     "output_type": "stream",
     "text": [
      "[######                        ] | ETA: 00:07:22"
     ]
    },
    {
     "name": "stdout",
     "output_type": "stream",
     "text": [
      "25\n",
      "100\n"
     ]
    },
    {
     "name": "stderr",
     "output_type": "stream",
     "text": [
      "[#######                       ] | ETA: 00:06:35"
     ]
    },
    {
     "name": "stdout",
     "output_type": "stream",
     "text": [
      "2500\n"
     ]
    },
    {
     "name": "stderr",
     "output_type": "stream",
     "text": [
      "[########                      ] | ETA: 00:05:48"
     ]
    },
    {
     "name": "stdout",
     "output_type": "stream",
     "text": [
      "500\n"
     ]
    },
    {
     "name": "stderr",
     "output_type": "stream",
     "text": [
      "[#########                     ] | ETA: 00:05:13"
     ]
    },
    {
     "name": "stdout",
     "output_type": "stream",
     "text": [
      "1000\n"
     ]
    }
   ],
   "source": [
    "md_dt_hdw_d = {}\n",
    "md_dt_cdw_d = {}\n",
    "md_dt_11dw_d = {}\n",
    "md_dt_10dw_d = {}\n",
    "bar = pyprind.ProgBar(len(dt_key_l)*3)\n",
    "\n",
    "for k, v in md_dt_tp_d.items():\n",
    "    _tba = md_dt_state_d[k]\n",
    "    print k\n",
    "    md_h_l = []\n",
    "    md_c_l = []\n",
    "    md_11_l = []\n",
    "    md_10_l = []\n",
    "    \n",
    "    for i, _tp_fn in enumerate(v):\n",
    "        _st_fn = _tba[i]\n",
    "        \n",
    "        _tp_df = pd.read_pickle(_tp_fn)\n",
    "        _st_df = pd.read_pickle(_st_fn)\n",
    "        \n",
    "        _tp_df0 = _tp_df[_tp_df.temperature==0]\n",
    "        _st_df0 = _st_df[_st_df.temperature==0]\n",
    "        \n",
    "        _dw_h = loop_dwell_trans_temp(_tp_df0,\n",
    "                                      _st_df0, trans_from_h, tu=float(k))\n",
    "        md_h_l.append(_dw_h)\n",
    "        _dw_c = loop_dwell_trans_temp(_tp_df0,\n",
    "                                      _st_df0, trans_from_c, tu=float(k))\n",
    "        md_c_l.append(_dw_c)\n",
    "        \n",
    "        # lifetimes in the minor states\n",
    "        _dw_10 = loop_dwell_trans_temp(_tp_df0,\n",
    "                                      _st_df0, trans_from_10, tu=float(k))\n",
    "        md_10_l.append(_dw_10)\n",
    "        \n",
    "        _dw_11 = loop_dwell_trans_temp(_tp_df0,\n",
    "                                      _st_df0, trans_from_11, tu=float(k))\n",
    "        md_11_l.append(_dw_11)\n",
    "        \n",
    "    \n",
    "    md_dt_hdw_d[k] = pd.concat(md_h_l)\n",
    "    md_dt_cdw_d[k] = pd.concat(md_c_l)\n",
    "    md_dt_10dw_d[k] = pd.concat(md_10_l)\n",
    "    md_dt_11dw_d[k] = pd.concat(md_11_l)\n",
    "    \n",
    "    bar.update()"
   ]
  },
  {
   "cell_type": "markdown",
   "metadata": {},
   "source": [
    "## Quick comparison of MD lifetime distributions"
   ]
  },
  {
   "cell_type": "code",
   "execution_count": 8,
   "metadata": {
    "collapsed": true
   },
   "outputs": [],
   "source": [
    "_blog = np.logspace(-3,1, 5000)"
   ]
  },
  {
   "cell_type": "code",
   "execution_count": 9,
   "metadata": {
    "collapsed": false
   },
   "outputs": [
    {
     "data": {
      "image/png": "[encoded data removed]",
      "text/plain": [
       "<matplotlib.figure.Figure at 0x1175a94d0>"
      ]
     },
     "metadata": {},
     "output_type": "display_data"
    }
   ],
   "source": [
    "fig, ax = plt.subplots(2,2, figsize=(8,4))\n",
    "\n",
    "tf = 1.0 / 1000\n",
    "\n",
    "_ = fit_plot_cdf(ax[0,0], md_dt_hdw_d['1'].wait_T * tf, bins=_blog,\n",
    "                dist_label=\"$h$, dt=1 ps\", )\n",
    "_ = fit_plot_cdf(ax[0,1], md_dt_hdw_d['5'].wait_T * tf, bins=_blog, plot_fit=False,\n",
    "                dist_label=\"$h$, dt=5 ps\")\n",
    "\n",
    " \n",
    "_ = fit_plot_cdf(ax[1,0], md_dt_hdw_d['10'].wait_T * tf, bins=_blog, plot_fit=True,\n",
    "                dist_label=\"$h$, dt=10 ps\")\n",
    "\n",
    "_ = fit_plot_cdf(ax[1,1], md_dt_hdw_d['25'].wait_T * tf, bins=_blog, plot_fit=True,\n",
    "                dist_label=\"$h$, dt=25 ps\")\n",
    "#_ = fit_plot_cdf(ax[2,1], md_dt_hdw_d['50'].wait_T * tf, bins=_blog, plot_fit=True)\n",
    "\n",
    "\n",
    "_ = fit_plot_cdf(ax[0,0], md_dt_cdw_d['1'].wait_T * tf, bins=_blog,\n",
    "                dist_label=\"$c$, dt=1 ps\")\n",
    "_ = fit_plot_cdf(ax[0,1], md_dt_cdw_d['5'].wait_T * tf, bins=_blog, plot_fit=True,\n",
    "                dist_label=\"$c$, dt=5 ps\")\n",
    "_ = fit_plot_cdf(ax[1,0], md_dt_cdw_d['10'].wait_T * tf, bins=_blog, plot_fit=True,\n",
    "                dist_label=\"$c$, dt=10 ps\")\n",
    "\n",
    "_ = fit_plot_cdf(ax[1,1], md_dt_cdw_d['25'].wait_T * tf, bins=_blog, plot_fit=True,\n",
    "                dist_label=\"$c$, dt=25 ps\")\n",
    "#_ = fit_plot_cdf(ax[2,1], md_dt_cdw_d['50'].wait_T * tf, bins=_blog, plot_fit=True)\n",
    "\n",
    "\n",
    "for a in ax.flat:\n",
    "    a.semilogx()\n",
    "    a.legend(loc=2)"
   ]
  },
  {
   "cell_type": "markdown",
   "metadata": {},
   "source": [
    "## Uncertainty in $\\tau$ REMD from counts"
   ]
  },
  {
   "cell_type": "code",
   "execution_count": 10,
   "metadata": {
    "collapsed": true
   },
   "outputs": [],
   "source": [
    "md_r_dt_d = {}\n",
    "for dt_fn_name in glob.glob(\"../dt*/c_md_dt*/rates_md_st1-3_sym_ln__27jan16.pickle\"):\n",
    "    dt = dt_fn_name.split(\"/\")[1][2:]\n",
    "    md_r_dt_d[dt] = pd.read_pickle(dt_fn_name)"
   ]
  },
  {
   "cell_type": "markdown",
   "metadata": {},
   "source": [
    "# Lag-time dependency of lifetimes from REMD\n",
    "\n",
    "## Calculate "
   ]
  },
  {
   "cell_type": "code",
   "execution_count": 11,
   "metadata": {
    "collapsed": true
   },
   "outputs": [],
   "source": [
    "remd_dt_tp_l = glob.glob(\"../dt*/remd_dt*/*_27jan16_tp.pickle\")"
   ]
  },
  {
   "cell_type": "code",
   "execution_count": 12,
   "metadata": {
    "collapsed": false
   },
   "outputs": [],
   "source": [
    "remd_dt_st_l = glob.glob(\"../dt*/remd_dt*/*_27jan16_tba.pickle\")"
   ]
  },
  {
   "cell_type": "code",
   "execution_count": 13,
   "metadata": {
    "collapsed": true
   },
   "outputs": [],
   "source": [
    "remd_dt_tp_d = {}\n",
    "remd_dt_st_d = {}\n",
    "\n",
    "for fn in remd_dt_tp_l:\n",
    "    dt = fn.split(\"/\")[1][2:]\n",
    "    #print dt\n",
    "    remd_dt_tp_d[dt] = pd.read_pickle(fn)\n",
    "\n",
    "for fn in remd_dt_st_l:\n",
    "    dt = fn.split(\"/\")[1][2:]\n",
    "    remd_dt_st_d[dt] = pd.read_pickle(fn)"
   ]
  },
  {
   "cell_type": "code",
   "execution_count": 14,
   "metadata": {
    "collapsed": false
   },
   "outputs": [
    {
     "name": "stderr",
     "output_type": "stream",
     "text": [
      "0%                          100%\n",
      "[#######                       ] | ETA: 00:03:32"
     ]
    }
   ],
   "source": [
    "remd_dt_hdw_d = {}\n",
    "remd_dt_cdw_d = {}\n",
    "remd_dt_10w_d = {}\n",
    "remd_dt_11dw_d = {}\n",
    "\n",
    "bar = pyprind.ProgBar(len(remd_dt_tp_l)*4)\n",
    "\n",
    "for k, _tp in remd_dt_tp_d.items():\n",
    "    _tba = remd_dt_st_d[k]\n",
    "    _tp0 = _tp[_tp.temperature==0]\n",
    "    _tba0 = _tba[_tba.temperature==0]\n",
    "    \n",
    "    _dw_h = loop_dwell_trans_temp(_tp0,\n",
    "                                  _tba0, trans_from_h, tu=float(k))\n",
    "    \n",
    "    _dw_c = loop_dwell_trans_temp(_tp0,\n",
    "                                  _tba0, trans_from_c, tu=float(k))\n",
    "    remd_dt_hdw_d[k] = _dw_h\n",
    "    remd_dt_cdw_d[k] = _dw_c\n",
    "    \n",
    "    remd_dt_10w_d[k] = loop_dwell_trans_temp(_tp0, _tba0,\n",
    "                                            trans_from_10,\n",
    "                                            tu=float(k))\n",
    "    remd_dt_11dw_d[k] = loop_dwell_trans_temp(_tp0, _tba0,\n",
    "                                             trans_from_11,\n",
    "                                             tu=float(k))\n",
    "    \n",
    "    bar.update()\n",
    "\n"
   ]
  },
  {
   "cell_type": "markdown",
   "metadata": {},
   "source": [
    "## Uncertainty in $\\tau$ REMD from counts"
   ]
  },
  {
   "cell_type": "code",
   "execution_count": 15,
   "metadata": {
    "collapsed": false
   },
   "outputs": [],
   "source": [
    "remd_r_dt_d = {}\n",
    "for dt_fn_name in glob.glob(\"../dt*/remd_dt*/ala_remd_st1_dt*ps__27jan16_rates_sym_ln__27jan16.pickle\"):\n",
    "    dt = dt_fn_name.split(\"/\")[1][2:]\n",
    "    #print dt\n",
    "    remd_r_dt_d[dt] = pd.read_pickle(dt_fn_name)"
   ]
  },
  {
   "cell_type": "markdown",
   "metadata": {},
   "source": [
    "# Comparing lag-time dependences from MD and REMD"
   ]
  },
  {
   "cell_type": "markdown",
   "metadata": {},
   "source": [
    "## Lagtime independent rate coefficients\n",
    "\n",
    "assume that Ala2 is a quasi two-state system.\n",
    "\n",
    "First fit $k$\n",
    "\n",
    "\\begin{equation}\n",
    "\\frac{1}{<\\tau_F>_{\\text{app}}} + \\frac{1}{<\\tau_U>_{\\text{app}}} =  \\frac{1 - \\exp(-k t) }{ t}\n",
    "\\end{equation}\n",
    "\n",
    "Then fit the relative populations.\n",
    "\n",
    "\\begin{equation}\n",
    "\\frac{1}{<\\tau_F>_{\\text{app}}} = \\frac{pU' (1 - \\exp(-kt)}{t} = k_{U \\leftarrow F}\n",
    "\\end{equation}\n",
    "\n",
    "### rate arrays"
   ]
  },
  {
   "cell_type": "code",
   "execution_count": 16,
   "metadata": {
    "collapsed": false
   },
   "outputs": [
    {
     "data": {
      "text/html": [
       "<div>\n",
       "<table border=\"1\" class=\"dataframe\">\n",
       "  <thead>\n",
       "    <tr style=\"text-align: right;\">\n",
       "      <th></th>\n",
       "      <th>temperature</th>\n",
       "      <th>type</th>\n",
       "      <th>traj</th>\n",
       "      <th>start</th>\n",
       "      <th>stop</th>\n",
       "      <th>weight</th>\n",
       "      <th>wait_T</th>\n",
       "      <th>wait</th>\n",
       "      <th>prev_state</th>\n",
       "    </tr>\n",
       "  </thead>\n",
       "  <tbody>\n",
       "    <tr>\n",
       "      <th>0</th>\n",
       "      <td>0.0</td>\n",
       "      <td>(0.0, 1.0, 0.0, 0.0)</td>\n",
       "      <td>0.0</td>\n",
       "      <td>0.0</td>\n",
       "      <td>145.0</td>\n",
       "      <td>1.0</td>\n",
       "      <td>80.0</td>\n",
       "      <td>145.0</td>\n",
       "      <td>NaN</td>\n",
       "    </tr>\n",
       "    <tr>\n",
       "      <th>1</th>\n",
       "      <td>0.0</td>\n",
       "      <td>(0.0, 1.0, 0.0, 0.0)</td>\n",
       "      <td>0.0</td>\n",
       "      <td>148.0</td>\n",
       "      <td>699.0</td>\n",
       "      <td>1.0</td>\n",
       "      <td>401.0</td>\n",
       "      <td>551.0</td>\n",
       "      <td>NaN</td>\n",
       "    </tr>\n",
       "    <tr>\n",
       "      <th>2</th>\n",
       "      <td>0.0</td>\n",
       "      <td>(0.0, 1.0, 0.0, 0.0)</td>\n",
       "      <td>0.0</td>\n",
       "      <td>706.0</td>\n",
       "      <td>929.0</td>\n",
       "      <td>1.0</td>\n",
       "      <td>111.0</td>\n",
       "      <td>223.0</td>\n",
       "      <td>NaN</td>\n",
       "    </tr>\n",
       "    <tr>\n",
       "      <th>3</th>\n",
       "      <td>0.0</td>\n",
       "      <td>(0.0, 1.0, 0.0, 0.0)</td>\n",
       "      <td>0.0</td>\n",
       "      <td>939.0</td>\n",
       "      <td>1068.0</td>\n",
       "      <td>1.0</td>\n",
       "      <td>39.0</td>\n",
       "      <td>129.0</td>\n",
       "      <td>NaN</td>\n",
       "    </tr>\n",
       "    <tr>\n",
       "      <th>4</th>\n",
       "      <td>0.0</td>\n",
       "      <td>(0.0, 1.0, 0.0, 0.0)</td>\n",
       "      <td>0.0</td>\n",
       "      <td>1073.0</td>\n",
       "      <td>1355.0</td>\n",
       "      <td>1.0</td>\n",
       "      <td>89.0</td>\n",
       "      <td>282.0</td>\n",
       "      <td>NaN</td>\n",
       "    </tr>\n",
       "  </tbody>\n",
       "</table>\n",
       "</div>"
      ],
      "text/plain": [
       "   temperature                  type  traj   start    stop  weight  wait_T  \\\n",
       "0          0.0  (0.0, 1.0, 0.0, 0.0)   0.0     0.0   145.0     1.0    80.0   \n",
       "1          0.0  (0.0, 1.0, 0.0, 0.0)   0.0   148.0   699.0     1.0   401.0   \n",
       "2          0.0  (0.0, 1.0, 0.0, 0.0)   0.0   706.0   929.0     1.0   111.0   \n",
       "3          0.0  (0.0, 1.0, 0.0, 0.0)   0.0   939.0  1068.0     1.0    39.0   \n",
       "4          0.0  (0.0, 1.0, 0.0, 0.0)   0.0  1073.0  1355.0     1.0    89.0   \n",
       "\n",
       "    wait  prev_state  \n",
       "0  145.0         NaN  \n",
       "1  551.0         NaN  \n",
       "2  223.0         NaN  \n",
       "3  129.0         NaN  \n",
       "4  282.0         NaN  "
      ]
     },
     "execution_count": 16,
     "metadata": {},
     "output_type": "execute_result"
    }
   ],
   "source": [
    "md_dt_cdw_d['1'].head() # wait in the coil state"
   ]
  },
  {
   "cell_type": "code",
   "execution_count": 17,
   "metadata": {
    "collapsed": false
   },
   "outputs": [
    {
     "data": {
      "text/html": [
       "<div>\n",
       "<table border=\"1\" class=\"dataframe\">\n",
       "  <thead>\n",
       "    <tr style=\"text-align: right;\">\n",
       "      <th></th>\n",
       "      <th>temperature</th>\n",
       "      <th>type</th>\n",
       "      <th>traj</th>\n",
       "      <th>start</th>\n",
       "      <th>stop</th>\n",
       "      <th>weight</th>\n",
       "      <th>wait_T</th>\n",
       "      <th>wait</th>\n",
       "      <th>prev_state</th>\n",
       "    </tr>\n",
       "  </thead>\n",
       "  <tbody>\n",
       "    <tr>\n",
       "      <th>0</th>\n",
       "      <td>0.0</td>\n",
       "      <td>(0.0, 0.0, 0.0, 1.0)</td>\n",
       "      <td>0.0</td>\n",
       "      <td>0.0</td>\n",
       "      <td>63.0</td>\n",
       "      <td>1.0</td>\n",
       "      <td>63.0</td>\n",
       "      <td>63.0</td>\n",
       "      <td>NaN</td>\n",
       "    </tr>\n",
       "    <tr>\n",
       "      <th>1</th>\n",
       "      <td>0.0</td>\n",
       "      <td>(0.0, 0.0, 0.0, 1.0)</td>\n",
       "      <td>0.0</td>\n",
       "      <td>68.0</td>\n",
       "      <td>295.0</td>\n",
       "      <td>1.0</td>\n",
       "      <td>149.0</td>\n",
       "      <td>227.0</td>\n",
       "      <td>NaN</td>\n",
       "    </tr>\n",
       "    <tr>\n",
       "      <th>2</th>\n",
       "      <td>0.0</td>\n",
       "      <td>(0.0, 0.0, 0.0, 1.0)</td>\n",
       "      <td>0.0</td>\n",
       "      <td>301.0</td>\n",
       "      <td>816.0</td>\n",
       "      <td>1.0</td>\n",
       "      <td>114.0</td>\n",
       "      <td>515.0</td>\n",
       "      <td>NaN</td>\n",
       "    </tr>\n",
       "    <tr>\n",
       "      <th>3</th>\n",
       "      <td>0.0</td>\n",
       "      <td>(0.0, 0.0, 0.0, 1.0)</td>\n",
       "      <td>0.0</td>\n",
       "      <td>821.0</td>\n",
       "      <td>1027.0</td>\n",
       "      <td>1.0</td>\n",
       "      <td>93.0</td>\n",
       "      <td>206.0</td>\n",
       "      <td>NaN</td>\n",
       "    </tr>\n",
       "    <tr>\n",
       "      <th>4</th>\n",
       "      <td>0.0</td>\n",
       "      <td>(0.0, 0.0, 0.0, 1.0)</td>\n",
       "      <td>0.0</td>\n",
       "      <td>1032.0</td>\n",
       "      <td>1264.0</td>\n",
       "      <td>1.0</td>\n",
       "      <td>194.0</td>\n",
       "      <td>232.0</td>\n",
       "      <td>NaN</td>\n",
       "    </tr>\n",
       "  </tbody>\n",
       "</table>\n",
       "</div>"
      ],
      "text/plain": [
       "   temperature                  type  traj   start    stop  weight  wait_T  \\\n",
       "0          0.0  (0.0, 0.0, 0.0, 1.0)   0.0     0.0    63.0     1.0    63.0   \n",
       "1          0.0  (0.0, 0.0, 0.0, 1.0)   0.0    68.0   295.0     1.0   149.0   \n",
       "2          0.0  (0.0, 0.0, 0.0, 1.0)   0.0   301.0   816.0     1.0   114.0   \n",
       "3          0.0  (0.0, 0.0, 0.0, 1.0)   0.0   821.0  1027.0     1.0    93.0   \n",
       "4          0.0  (0.0, 0.0, 0.0, 1.0)   0.0  1032.0  1264.0     1.0   194.0   \n",
       "\n",
       "    wait  prev_state  \n",
       "0   63.0         NaN  \n",
       "1  227.0         NaN  \n",
       "2  515.0         NaN  \n",
       "3  206.0         NaN  \n",
       "4  232.0         NaN  "
      ]
     },
     "execution_count": 17,
     "metadata": {},
     "output_type": "execute_result"
    }
   ],
   "source": [
    "md_dt_hdw_d['1'].head() # wait in the helix state"
   ]
  },
  {
   "cell_type": "code",
   "execution_count": 18,
   "metadata": {
    "collapsed": true
   },
   "outputs": [],
   "source": [
    "tf = 1.0 / 1000.0"
   ]
  },
  {
   "cell_type": "code",
   "execution_count": 19,
   "metadata": {
    "collapsed": false
   },
   "outputs": [],
   "source": [
    "md_lagtime_l = []\n",
    "md_kc_l, md_kh_l = [], []\n",
    "\n",
    "for dt in sorted([int(k) for k in md_dt_cdw_d.keys()]):\n",
    "    md_lagtime_l.append(dt)\n",
    "    _c = md_dt_cdw_d[str(dt)]\n",
    "    _h = md_dt_hdw_d[str(dt)]\n",
    "    md_kh_l.extend([_c[_c.temperature==0].wait_T.mean()])\n",
    "    md_kc_l.extend([_h[_h.temperature==0].wait_T.mean()])    \n",
    "md_kc_ar = 1.0 / (np.array(md_kc_l)*tf)\n",
    "md_kh_ar = 1.0/  (np.array(md_kh_l)*tf)\n",
    "md_kc_kh_ar = md_kc_ar + md_kh_ar\n",
    "\n",
    "md_lagtime_ar = np.array(md_lagtime_l)"
   ]
  },
  {
   "cell_type": "code",
   "execution_count": 20,
   "metadata": {
    "collapsed": false
   },
   "outputs": [
    {
     "data": {
      "text/plain": [
       "array([ 9.38203042,  9.25406793,  9.04817276,  8.72595441,  8.14774794,\n",
       "        7.87115053,  6.76873198,  5.07903558,  3.21880651,  1.44015157,\n",
       "        0.67970888,  0.33750258,  0.16809117])"
      ]
     },
     "execution_count": 20,
     "metadata": {},
     "output_type": "execute_result"
    }
   ],
   "source": [
    "md_kc_kh_ar"
   ]
  },
  {
   "cell_type": "code",
   "execution_count": 21,
   "metadata": {
    "collapsed": false
   },
   "outputs": [
    {
     "data": {
      "text/plain": [
       "3.7332389118955613"
      ]
     },
     "execution_count": 21,
     "metadata": {},
     "output_type": "execute_result"
    }
   ],
   "source": [
    " 1/ (md_dt_cdw_d['1'][md_dt_cdw_d['1'].temperature==0].wait_T.mean() / 1000.0)"
   ]
  },
  {
   "cell_type": "code",
   "execution_count": 22,
   "metadata": {
    "collapsed": false
   },
   "outputs": [
    {
     "data": {
      "text/plain": [
       "5.648791509837093"
      ]
     },
     "execution_count": 22,
     "metadata": {},
     "output_type": "execute_result"
    }
   ],
   "source": [
    " 1/ (md_dt_hdw_d['1'][md_dt_hdw_d['1'].temperature==0].wait_T.mean() / 1000.0)"
   ]
  },
  {
   "cell_type": "code",
   "execution_count": 23,
   "metadata": {
    "collapsed": false
   },
   "outputs": [
    {
     "data": {
      "text/html": [
       "<div>\n",
       "<table border=\"1\" class=\"dataframe\">\n",
       "  <thead>\n",
       "    <tr style=\"text-align: right;\">\n",
       "      <th></th>\n",
       "      <th>temperature</th>\n",
       "      <th>type</th>\n",
       "      <th>rate</th>\n",
       "      <th>events</th>\n",
       "      <th>sum_weight</th>\n",
       "      <th>rev_events</th>\n",
       "      <th>rev_sum_weight</th>\n",
       "      <th>sym_weight</th>\n",
       "      <th>std_p</th>\n",
       "      <th>std_m</th>\n",
       "      <th>err_m</th>\n",
       "      <th>err_p</th>\n",
       "    </tr>\n",
       "  </thead>\n",
       "  <tbody>\n",
       "    <tr>\n",
       "      <th>36</th>\n",
       "      <td>0.0</td>\n",
       "      <td>(0, 1, 0, 0)</td>\n",
       "      <td>3.676874</td>\n",
       "      <td>964.0</td>\n",
       "      <td>964.0</td>\n",
       "      <td>965.0</td>\n",
       "      <td>965.0</td>\n",
       "      <td>1929.0</td>\n",
       "      <td>3.761551</td>\n",
       "      <td>3.594103</td>\n",
       "      <td>0.082771</td>\n",
       "      <td>0.084677</td>\n",
       "    </tr>\n",
       "  </tbody>\n",
       "</table>\n",
       "</div>"
      ],
      "text/plain": [
       "    temperature          type      rate  events  sum_weight  rev_events  \\\n",
       "36          0.0  (0, 1, 0, 0)  3.676874   964.0       964.0       965.0   \n",
       "\n",
       "    rev_sum_weight  sym_weight     std_p     std_m     err_m     err_p  \n",
       "36           965.0      1929.0  3.761551  3.594103  0.082771  0.084677  "
      ]
     },
     "execution_count": 23,
     "metadata": {},
     "output_type": "execute_result"
    }
   ],
   "source": [
    "md_r_dt_d['1'][(md_r_dt_d['1'].temperature==0) & (md_r_dt_d['1'].type==(0,1,0,0))]"
   ]
  },
  {
   "cell_type": "code",
   "execution_count": 24,
   "metadata": {
    "collapsed": false
   },
   "outputs": [
    {
     "name": "stdout",
     "output_type": "stream",
     "text": [
      "1\n",
      "2\n",
      "5\n",
      "10\n",
      "20\n",
      "25\n",
      "50\n",
      "100\n",
      "200\n",
      "500\n",
      "1000\n",
      "2500\n",
      "5000\n"
     ]
    }
   ],
   "source": [
    "remd_lagtime_l = []\n",
    "remd_kc_l, remd_kh_l = [], []\n",
    "\n",
    "for dt in sorted([int(k) for k in remd_dt_hdw_d.keys()]):\n",
    "    print dt\n",
    "    remd_lagtime_l.append(dt)\n",
    "    _c = remd_dt_cdw_d[str(dt)]\n",
    "    _h = remd_dt_hdw_d[str(dt)]\n",
    "    # tau_av = np.average(v.wait_T/ v.weight, weights=v.weight)\n",
    "    _c0 = _c[_c.temperature==0]\n",
    "    _h0 = _h[_h.temperature==0]\n",
    "    remd_kh_l.extend([np.average(_c0.wait_T / _c0.weight, weights=_c0.weight)])\n",
    "    remd_kc_l.extend([np.average(_h0.wait_T / _h0.weight, weights=_h0.weight)])    \n",
    "remd_kc_ar = 1.0 / (np.array(remd_kc_l)*tf)\n",
    "remd_kh_ar = 1.0/  (np.array(remd_kh_l)*tf)\n",
    "remd_kc_kh_ar = remd_kc_ar + remd_kh_ar\n",
    "\n",
    "remd_lagtime_ar = np.array(remd_lagtime_l)"
   ]
  },
  {
   "cell_type": "code",
   "execution_count": 25,
   "metadata": {
    "collapsed": false
   },
   "outputs": [
    {
     "data": {
      "text/plain": [
       "6.813287676068768"
      ]
     },
     "execution_count": 25,
     "metadata": {},
     "output_type": "execute_result"
    }
   ],
   "source": [
    "1/ (remd_dt_hdw_d['1'][remd_dt_hdw_d['1'].temperature==0].wait_T.mean() / 1000.0)"
   ]
  },
  {
   "cell_type": "code",
   "execution_count": 26,
   "metadata": {
    "collapsed": false
   },
   "outputs": [
    {
     "data": {
      "text/plain": [
       "4.470001829156759"
      ]
     },
     "execution_count": 26,
     "metadata": {},
     "output_type": "execute_result"
    }
   ],
   "source": [
    "1/ (remd_dt_cdw_d['1'][remd_dt_cdw_d['1'].temperature==0].wait_T.mean() / 1000.0)"
   ]
  },
  {
   "cell_type": "code",
   "execution_count": 27,
   "metadata": {
    "collapsed": false
   },
   "outputs": [
    {
     "data": {
      "text/plain": [
       "array([ 9.38203042,  9.25406793,  9.04817276,  8.72595441,  8.14774794,\n",
       "        7.87115053,  6.76873198,  5.07903558,  3.21880651,  1.44015157,\n",
       "        0.67970888,  0.33750258,  0.16809117])"
      ]
     },
     "execution_count": 27,
     "metadata": {},
     "output_type": "execute_result"
    }
   ],
   "source": [
    "md_kc_kh_ar"
   ]
  },
  {
   "cell_type": "code",
   "execution_count": 28,
   "metadata": {
    "collapsed": false
   },
   "outputs": [
    {
     "data": {
      "text/plain": [
       "array([ 9.93467867,  9.80515758,  9.4242392 ,  9.11657163,  8.39944827,\n",
       "        7.99680929,  7.05139893,  5.20324584,  3.51125646,  1.32326228,\n",
       "        0.57495685,  0.28231217,  0.12527778])"
      ]
     },
     "execution_count": 28,
     "metadata": {},
     "output_type": "execute_result"
    }
   ],
   "source": [
    "remd_kc_kh_ar"
   ]
  },
  {
   "cell_type": "code",
   "execution_count": 29,
   "metadata": {
    "collapsed": false
   },
   "outputs": [
    {
     "data": {
      "text/plain": [
       "array([   1,    2,    5,   10,   20,   25,   50,  100,  200,  500, 1000,\n",
       "       2500, 5000])"
      ]
     },
     "execution_count": 29,
     "metadata": {},
     "output_type": "execute_result"
    }
   ],
   "source": [
    "remd_lagtime_ar"
   ]
  },
  {
   "cell_type": "code",
   "execution_count": 30,
   "metadata": {
    "collapsed": false
   },
   "outputs": [
    {
     "name": "stdout",
     "output_type": "stream",
     "text": [
      "(array([ 9.44258411]), array([[ 0.04464302]]))\n"
     ]
    }
   ],
   "source": [
    "popt_kex_remd = curve_fit(sum_inv_lifetimes_two_state_lagtime,\n",
    "                         remd_lagtime_ar[:]*tf, remd_kc_kh_ar[:], p0=10)\n",
    "kex_fit_remd = popt_kex_remd[0][0]\n",
    "print popt_kex_remd"
   ]
  },
  {
   "cell_type": "code",
   "execution_count": 31,
   "metadata": {
    "collapsed": false
   },
   "outputs": [
    {
     "name": "stdout",
     "output_type": "stream",
     "text": [
      "(array([ 9.00931758]), array([[ 0.03963532]]))\n"
     ]
    }
   ],
   "source": [
    "popt = curve_fit(sum_inv_lifetimes_two_state_lagtime, md_lagtime_ar[:]*tf, md_kc_kh_ar[:], p0=[10.0]) \n",
    "print popt\n",
    "k_ex_fit = popt[0][0]"
   ]
  },
  {
   "cell_type": "code",
   "execution_count": 32,
   "metadata": {
    "collapsed": false
   },
   "outputs": [
    {
     "data": {
      "text/plain": [
       "[]"
      ]
     },
     "execution_count": 32,
     "metadata": {},
     "output_type": "execute_result"
    },
    {
     "data": {
      "image/png": "[encoded data removed]",
      "text/plain": [
       "<matplotlib.figure.Figure at 0x11759a450>"
      ]
     },
     "metadata": {},
     "output_type": "display_data"
    }
   ],
   "source": [
    "fig, ax = plt.subplots(figsize=(3,3))\n",
    "plt.plot(md_lagtime_ar / 1000.0, md_kc_kh_ar, \".\")\n",
    "plt.plot(md_lagtime_ar/ 1000.0, sum_inv_lifetimes_two_state_lagtime(md_lagtime_ar*tf, k_ex_fit))\n",
    "\n",
    "plt.plot(remd_lagtime_ar / 1000.0, remd_kc_kh_ar, \".\")\n",
    "plt.plot(remd_lagtime_ar/ 1000.0, sum_inv_lifetimes_two_state_lagtime(remd_lagtime_ar*tf, kex_fit_remd))\n",
    "\n",
    "plt.loglog()"
   ]
  },
  {
   "cell_type": "markdown",
   "metadata": {},
   "source": [
    "### $p'$ fit to determine lag time independent rate coefficients and populations\n",
    "#### MD"
   ]
  },
  {
   "cell_type": "code",
   "execution_count": 33,
   "metadata": {
    "collapsed": true
   },
   "outputs": [],
   "source": [
    "f = lambda  t, p : inv_lifetime_two_state_lagtime(t, p, k_ex_fit)"
   ]
  },
  {
   "cell_type": "code",
   "execution_count": 34,
   "metadata": {
    "collapsed": false
   },
   "outputs": [
    {
     "name": "stdout",
     "output_type": "stream",
     "text": [
      "(array([ 0.59058842]), array([[ 0.00018217]]))\n",
      "(array([ 0.39729415]), array([[  4.00681632e-05]]))\n"
     ]
    }
   ],
   "source": [
    "popt_pc = curve_fit(f, md_lagtime_ar[:] / 1000.0, md_kc_ar[:])\n",
    "print popt_pc\n",
    "\n",
    "popt_ph = curve_fit(f, md_lagtime_ar[:]/1000.0, md_kh_ar[:])\n",
    "print popt_ph"
   ]
  },
  {
   "cell_type": "code",
   "execution_count": 35,
   "metadata": {
    "collapsed": true
   },
   "outputs": [],
   "source": [
    "pc = popt_pc[0][0] / (popt_pc[0][0] + popt_ph[0][0])\n",
    "ph = popt_ph[0][0] / (popt_pc[0][0] + popt_ph[0][0])"
   ]
  },
  {
   "cell_type": "code",
   "execution_count": 36,
   "metadata": {
    "collapsed": false
   },
   "outputs": [
    {
     "data": {
      "text/plain": [
       "(5.3860638692643912, 3.6232537105041218)"
      ]
     },
     "execution_count": 36,
     "metadata": {},
     "output_type": "execute_result"
    }
   ],
   "source": [
    "k_ex_fit * pc, k_ex_fit * ph"
   ]
  },
  {
   "cell_type": "code",
   "execution_count": 37,
   "metadata": {
    "collapsed": false
   },
   "outputs": [
    {
     "data": {
      "text/html": [
       "<div>\n",
       "<table border=\"1\" class=\"dataframe\">\n",
       "  <thead>\n",
       "    <tr style=\"text-align: right;\">\n",
       "      <th></th>\n",
       "      <th>temperature</th>\n",
       "      <th>type</th>\n",
       "      <th>rate</th>\n",
       "      <th>events</th>\n",
       "      <th>sum_weight</th>\n",
       "      <th>rev_events</th>\n",
       "      <th>rev_sum_weight</th>\n",
       "      <th>sym_weight</th>\n",
       "      <th>std_p</th>\n",
       "      <th>std_m</th>\n",
       "      <th>err_m</th>\n",
       "      <th>err_p</th>\n",
       "    </tr>\n",
       "  </thead>\n",
       "  <tbody>\n",
       "    <tr>\n",
       "      <th>0</th>\n",
       "      <td>0.0</td>\n",
       "      <td>(0, 0, 0, 1)</td>\n",
       "      <td>5.565691</td>\n",
       "      <td>965.0</td>\n",
       "      <td>965.0</td>\n",
       "      <td>964.0</td>\n",
       "      <td>964.0</td>\n",
       "      <td>1929.0</td>\n",
       "      <td>5.693867</td>\n",
       "      <td>5.440401</td>\n",
       "      <td>0.125291</td>\n",
       "      <td>0.128176</td>\n",
       "    </tr>\n",
       "    <tr>\n",
       "      <th>36</th>\n",
       "      <td>0.0</td>\n",
       "      <td>(0, 1, 0, 0)</td>\n",
       "      <td>3.676874</td>\n",
       "      <td>964.0</td>\n",
       "      <td>964.0</td>\n",
       "      <td>965.0</td>\n",
       "      <td>965.0</td>\n",
       "      <td>1929.0</td>\n",
       "      <td>3.761551</td>\n",
       "      <td>3.594103</td>\n",
       "      <td>0.082771</td>\n",
       "      <td>0.084677</td>\n",
       "    </tr>\n",
       "  </tbody>\n",
       "</table>\n",
       "</div>"
      ],
      "text/plain": [
       "    temperature          type      rate  events  sum_weight  rev_events  \\\n",
       "0           0.0  (0, 0, 0, 1)  5.565691   965.0       965.0       964.0   \n",
       "36          0.0  (0, 1, 0, 0)  3.676874   964.0       964.0       965.0   \n",
       "\n",
       "    rev_sum_weight  sym_weight     std_p     std_m     err_m     err_p  \n",
       "0            964.0      1929.0  5.693867  5.440401  0.125291  0.128176  \n",
       "36           965.0      1929.0  3.761551  3.594103  0.082771  0.084677  "
      ]
     },
     "execution_count": 37,
     "metadata": {},
     "output_type": "execute_result"
    }
   ],
   "source": [
    "md_r_dt_d['1'][(md_r_dt_d['1'].temperature==0) & (md_r_dt_d['1'].type.isin([(0,0,0,1), (0,1,0,0)]))]"
   ]
  },
  {
   "cell_type": "markdown",
   "metadata": {},
   "source": [
    "#### REMD"
   ]
  },
  {
   "cell_type": "code",
   "execution_count": 38,
   "metadata": {
    "collapsed": true
   },
   "outputs": [],
   "source": [
    "f_remd = lambda t, p: inv_lifetime_two_state_lagtime(t, p, kex_fit_remd)"
   ]
  },
  {
   "cell_type": "code",
   "execution_count": 39,
   "metadata": {
    "collapsed": false
   },
   "outputs": [
    {
     "name": "stdout",
     "output_type": "stream",
     "text": [
      "(array([ 0.61844082]), array([[ 0.00022834]]))\n",
      "(array([ 0.41136535]), array([[  6.47087531e-05]]))\n",
      "0.600540993681 0.399459006319\n"
     ]
    }
   ],
   "source": [
    "popt_pc_remd = curve_fit(f, remd_lagtime_ar[:]*tf, remd_kc_ar[:])\n",
    "print popt_pc_remd\n",
    "popt_ph_remd = curve_fit(f, remd_lagtime_ar[:]*tf, remd_kh_ar[:])\n",
    "print popt_ph_remd\n",
    "pc_remd = popt_pc_remd[0][0] / (popt_pc_remd[0][0] + popt_ph_remd[0][0])\n",
    "ph_remd = popt_ph_remd[0][0] / (popt_pc_remd[0][0] + popt_ph_remd[0][0])\n",
    "print pc_remd, ph_remd"
   ]
  },
  {
   "cell_type": "code",
   "execution_count": 40,
   "metadata": {
    "collapsed": false
   },
   "outputs": [
    {
     "data": {
      "text/plain": [
       "(5.6450847289329289, 3.7974993774089545)"
      ]
     },
     "execution_count": 40,
     "metadata": {},
     "output_type": "execute_result"
    }
   ],
   "source": [
    "kex_fit_remd * pc, kex_fit_remd * ph"
   ]
  },
  {
   "cell_type": "markdown",
   "metadata": {},
   "source": [
    "## Load minor state lag-time dependences expected for ideal rate kinetics"
   ]
  },
  {
   "cell_type": "code",
   "execution_count": 41,
   "metadata": {
    "collapsed": false
   },
   "outputs": [],
   "source": [
    "syn_ar = np.genfromtxt(\"../from-syn-trj/syn_dt_ala_st3_st4_c.txt\")"
   ]
  },
  {
   "cell_type": "markdown",
   "metadata": {},
   "source": [
    "## Comparison plot"
   ]
  },
  {
   "cell_type": "code",
   "execution_count": 72,
   "metadata": {
    "collapsed": false
   },
   "outputs": [
    {
     "name": "stdout",
     "output_type": "stream",
     "text": [
      "pt_md_st1-3__27jan16.txt              rates_md_st1-3_sym_ln__27jan16.pickle\r\n",
      "rates_md_st1-3__27jan16.txt           rep_ar_md_st1-3__27jan16.txt\r\n"
     ]
    }
   ],
   "source": [
    "! ls ../dt10/c_md_dt10/\n",
    "! mkdir -p plot"
   ]
  },
  {
   "cell_type": "markdown",
   "metadata": {},
   "source": [
    "* error estimates from the count statistics"
   ]
  },
  {
   "cell_type": "code",
   "execution_count": 43,
   "metadata": {
    "collapsed": false
   },
   "outputs": [
    {
     "data": {
      "text/html": [
       "<div>\n",
       "<table border=\"1\" class=\"dataframe\">\n",
       "  <thead>\n",
       "    <tr style=\"text-align: right;\">\n",
       "      <th></th>\n",
       "      <th>temperature</th>\n",
       "      <th>type</th>\n",
       "      <th>rate</th>\n",
       "      <th>events</th>\n",
       "      <th>sum_weight</th>\n",
       "      <th>rev_events</th>\n",
       "      <th>rev_sum_weight</th>\n",
       "      <th>sym_weight</th>\n",
       "      <th>std_p</th>\n",
       "      <th>std_m</th>\n",
       "      <th>err_m</th>\n",
       "      <th>err_p</th>\n",
       "    </tr>\n",
       "  </thead>\n",
       "  <tbody>\n",
       "    <tr>\n",
       "      <th>72</th>\n",
       "      <td>0.0</td>\n",
       "      <td>(1, 0, 0, 0)</td>\n",
       "      <td>0.148457</td>\n",
       "      <td>1.0</td>\n",
       "      <td>1.0</td>\n",
       "      <td>0.0</td>\n",
       "      <td>0.0</td>\n",
       "      <td>1.0</td>\n",
       "      <td>0.403548</td>\n",
       "      <td>0.054614</td>\n",
       "      <td>0.093843</td>\n",
       "      <td>0.255091</td>\n",
       "    </tr>\n",
       "    <tr>\n",
       "      <th>73</th>\n",
       "      <td>1.0</td>\n",
       "      <td>(1, 0, 0, 0)</td>\n",
       "      <td>0.000000</td>\n",
       "      <td>NaN</td>\n",
       "      <td>NaN</td>\n",
       "      <td>0.0</td>\n",
       "      <td>0.0</td>\n",
       "      <td>0.0</td>\n",
       "      <td>NaN</td>\n",
       "      <td>0.000000</td>\n",
       "      <td>0.000000</td>\n",
       "      <td>NaN</td>\n",
       "    </tr>\n",
       "    <tr>\n",
       "      <th>74</th>\n",
       "      <td>2.0</td>\n",
       "      <td>(1, 0, 0, 0)</td>\n",
       "      <td>0.270858</td>\n",
       "      <td>2.0</td>\n",
       "      <td>2.0</td>\n",
       "      <td>0.0</td>\n",
       "      <td>0.0</td>\n",
       "      <td>2.0</td>\n",
       "      <td>0.549331</td>\n",
       "      <td>0.133551</td>\n",
       "      <td>0.137306</td>\n",
       "      <td>0.278473</td>\n",
       "    </tr>\n",
       "    <tr>\n",
       "      <th>75</th>\n",
       "      <td>3.0</td>\n",
       "      <td>(1, 0, 0, 0)</td>\n",
       "      <td>0.000000</td>\n",
       "      <td>NaN</td>\n",
       "      <td>NaN</td>\n",
       "      <td>0.0</td>\n",
       "      <td>0.0</td>\n",
       "      <td>0.0</td>\n",
       "      <td>NaN</td>\n",
       "      <td>0.000000</td>\n",
       "      <td>0.000000</td>\n",
       "      <td>NaN</td>\n",
       "    </tr>\n",
       "    <tr>\n",
       "      <th>76</th>\n",
       "      <td>4.0</td>\n",
       "      <td>(1, 0, 0, 0)</td>\n",
       "      <td>0.000000</td>\n",
       "      <td>NaN</td>\n",
       "      <td>NaN</td>\n",
       "      <td>0.0</td>\n",
       "      <td>0.0</td>\n",
       "      <td>0.0</td>\n",
       "      <td>NaN</td>\n",
       "      <td>0.000000</td>\n",
       "      <td>0.000000</td>\n",
       "      <td>NaN</td>\n",
       "    </tr>\n",
       "  </tbody>\n",
       "</table>\n",
       "</div>"
      ],
      "text/plain": [
       "    temperature          type      rate  events  sum_weight  rev_events  \\\n",
       "72          0.0  (1, 0, 0, 0)  0.148457     1.0         1.0         0.0   \n",
       "73          1.0  (1, 0, 0, 0)  0.000000     NaN         NaN         0.0   \n",
       "74          2.0  (1, 0, 0, 0)  0.270858     2.0         2.0         0.0   \n",
       "75          3.0  (1, 0, 0, 0)  0.000000     NaN         NaN         0.0   \n",
       "76          4.0  (1, 0, 0, 0)  0.000000     NaN         NaN         0.0   \n",
       "\n",
       "    rev_sum_weight  sym_weight     std_p     std_m     err_m     err_p  \n",
       "72             0.0         1.0  0.403548  0.054614  0.093843  0.255091  \n",
       "73             0.0         0.0       NaN  0.000000  0.000000       NaN  \n",
       "74             0.0         2.0  0.549331  0.133551  0.137306  0.278473  \n",
       "75             0.0         0.0       NaN  0.000000  0.000000       NaN  \n",
       "76             0.0         0.0       NaN  0.000000  0.000000       NaN  "
      ]
     },
     "execution_count": 43,
     "metadata": {},
     "output_type": "execute_result"
    }
   ],
   "source": [
    "remd_r_dt_d['1'][(remd_r_dt_d['1'].type.isin(trans_from_10))].head()"
   ]
  },
  {
   "cell_type": "code",
   "execution_count": 44,
   "metadata": {
    "collapsed": true
   },
   "outputs": [],
   "source": [
    "def _count_err_from_rate_calc(tau, r_df, trans):\n",
    "    md_r = r_df[(r_df.type.isin(trans))]\n",
    "    _sum = md_r.rate.sum()\n",
    "    if _sum > 0:\n",
    "        _N = md_r.sym_weight.sum()\n",
    "    return tau*np.exp(1/_N**0.5), tau*np.exp(-1/_N**0.5)  \n",
    "\n",
    "\n",
    "def _count_err_at_temp(r_df, trans, temp):\n",
    "    p, m = _count_err_from_rate_calc(r_df[r_df.temperature==temp], trans)\n",
    "    return m, p"
   ]
  },
  {
   "cell_type": "code",
   "execution_count": 73,
   "metadata": {
    "collapsed": false
   },
   "outputs": [
    {
     "data": {
      "image/png": "[encoded data removed]",
      "text/plain": [
       "<matplotlib.figure.Figure at 0x126feb090>"
      ]
     },
     "metadata": {},
     "output_type": "display_data"
    }
   ],
   "source": [
    "fig, ax = plt.subplots(2,2, figsize=(6.5,6))\n",
    "sns.set_style(\"ticks\")\n",
    "\n",
    "for k, v in remd_dt_hdw_d.items():\n",
    "    dt_r = remd_r_dt_d[str(k)]\n",
    "    md_r = dt_r[(dt_r.temperature==0) & (dt_r.type==(0,0,0,1))]\n",
    "    tau_av = np.average(v.wait_T/ v.weight, weights=v.weight)\n",
    "    lg1_remd = ax[0,1].errorbar(int(k)*tf,  1.0/tau_av*1000.0, yerr=[md_r.err_m.values ,\n",
    "                                 md_r.err_p.values ],c=cl[1], fmt=\".\",\n",
    "                                 label=r\"$h \\rightarrow c$\")\n",
    "    \n",
    "for k, v in remd_dt_cdw_d.items():\n",
    "    dt_r = remd_r_dt_d[str(k)]\n",
    "    md_r = dt_r[(dt_r.temperature==0) & (dt_r.type==(0,1,0,0))]\n",
    "    tau_av = np.average(v.wait_T/ v.weight, weights=v.weight)\n",
    "    #lg2_remd, = ax[0,1].plot(int(k)*tf, 1.0 / tau_av*1000.0 , \"s\", c=cl[3])   \n",
    "    lg2_remd = ax[0,1].errorbar(int(k)*tf,  1.0/tau_av*1000.0, yerr=[md_r.err_m.values ,\n",
    "                                 md_r.err_p.values ],c=cl[3], fmt=\".\",\n",
    "                                 label=r\"$c \\rightarrow h$\")\n",
    "        \n",
    "for k, v in remd_dt_10w_d.items():\n",
    "    dt_r = remd_r_dt_d[str(k)]\n",
    "    md_r = dt_r[(dt_r.temperature==0) & (dt_r.type.isin(trans_from_10))]\n",
    "    \n",
    "    if np.any(v.wait_T > 0) and md_r.rate.sum() > 0 :\n",
    "        tau_av = np.average(v.wait_T/ v.weight, weights=v.weight)\n",
    "        \n",
    "        _m, _p = _count_err_from_rate_calc( 1.0/ tau_av * 1000.0,\n",
    "                                           md_r, trans_from_10)\n",
    "        ax[1,1].plot([int(k)*tf]*2, [ _m,  _p], \"-\", c=cl[4] )\n",
    "        lg3_remd, = ax[1,1].plot(int(k)*tf, 1.0/ tau_av * 1000.0 , \".\", c=cl[4], mec=cl[4]) #  mew=1.0, mfc=\"None\"\n",
    "    \n",
    "for k, v in remd_dt_11dw_d.items():\n",
    "    dt_r = remd_r_dt_d[str(k)]\n",
    "    md_r = dt_r[(dt_r.temperature==0) & (dt_r.type.isin(trans_from_11))]\n",
    "    if np.any(v.wait_T.values > 0) and md_r.rate.sum() > 0 :\n",
    "\n",
    "        tau_av = np.average(v.wait_T/ v.weight, weights=v.weight)\n",
    "        _m, _p = _count_err_from_rate_calc( 1.0/ tau_av * 1000.0,\n",
    "                                           md_r, trans_from_11)\n",
    "        ax[1,1].plot([int(k)*tf]*2, [ _m,  _p], \"-\", c=cl[5] )\n",
    "        lg4_remd, = ax[1,1].plot(int(k)*tf, 1.0/ tau_av * 1000.0 , \".\", c=cl[5], mec=cl[5]) #  mew=1.0, mfc=\"None\"  \n",
    "        \n",
    "# mfpt h\n",
    "ax[0,1].plot(remd_lagtime_ar*tf, inv_lifetime_two_state_lagtime(\n",
    "    remd_lagtime_ar*tf, popt_ph[0][0], kex_fit_remd),\n",
    "          c=cl[3])\n",
    "# mfpt c\n",
    "ax[0,1].plot(remd_lagtime_ar*tf, inv_lifetime_two_state_lagtime(\n",
    "    remd_lagtime_ar*tf, popt_pc[0][0], kex_fit_remd),\n",
    "          c=cl[1])\n",
    "    \n",
    "    \n",
    "for k, v in md_dt_hdw_d.items():\n",
    "    dt_r = md_r_dt_d[str(k)]\n",
    "    md_r = dt_r[(dt_r.temperature==0) & (dt_r.type==(0,0,0,1))]\n",
    "  \n",
    "    _temp =v.wait_T / v.weight\n",
    "    if np.any(_temp.values > 0):\n",
    "        tau_av, var_tau = weights_first_second_moment(v.weight, v.wait_T)\n",
    "        lg1_md = ax[0,0].errorbar(int(k)*tf,  1.0/tau_av*1000.0, yerr=[md_r.err_m.values ,\n",
    "                                 md_r.err_p.values ],c=cl[0], fmt=\".\",\n",
    "                                 label=r\"$h \\rightarrow c$\")\n",
    "        \n",
    "\n",
    "    \n",
    "for k, v in md_dt_cdw_d.items():\n",
    "    dt_r = md_r_dt_d[str(k)]\n",
    "    md_r = dt_r[(dt_r.temperature==0) & (dt_r.type==(0,1,0,0))]\n",
    "    _temp =v.wait_T / v.weight\n",
    "    if np.any(_temp.values > 0):\n",
    "        tau_av, var_tau = weights_first_second_moment(v.weight, v.wait_T)\n",
    "        #lg2_md, = ax[0,0].plot(int(k)*tf, 1.0/tau_av*1000.0, \"o\", c=cl[2])\n",
    "        lg2_md = ax[0,0].errorbar(int(k)*tf,  1.0/tau_av*1000.0, yerr=[md_r.err_m.values ,\n",
    "                                 md_r.err_p.values ],c=cl[2], fmt=\".\",\n",
    "                                 label=r\"$c \\rightarrow h$\")\n",
    "        \n",
    "ax[0,0].legend([lg1_md, lg2_md], [r\"MD $h \\rightarrow c$\",\n",
    "                               r\"MD $c \\rightarrow h$\"],\n",
    "            loc=3)\n",
    "        \n",
    "ax[0,1].legend([lg1_remd, lg2_remd], [r\"REMD $h \\rightarrow c$\",\n",
    "                               r\"REMD $c \\rightarrow h$\"], loc=3)       \n",
    "    \n",
    "for k, v in md_dt_10dw_d.items():\n",
    "    dt_r = md_r_dt_d[str(k)]\n",
    "    md_r = dt_r[(dt_r.temperature==0) & (dt_r.type.isin(trans_from_10))]\n",
    "    if np.any(v.wait_T > 0) and md_r.rate.sum() > 0 :\n",
    "        tau_av = np.average(v.wait_T/ v.weight, weights=v.weight)\n",
    "        \n",
    "        _m, _p = _count_err_from_rate_calc( 1.0/ tau_av * 1000.0,\n",
    "                                           md_r, trans_from_10)\n",
    "        ax[1,0].plot([int(k)*tf]*2, [ _m,  _p], \"-\", c=cl[4] )\n",
    "        #tau_av, var_tau = weights_first_second_moment(v.weight, v.wait_T)  \n",
    "        lg3_md, = ax[1,0].plot(int(k)*tf, 1.0/tau_av*1000.0, \".\", c=cl[4],  mfc=cl[4], mec=cl[4])\n",
    "        \n",
    "\n",
    "\n",
    "\n",
    "for k, v in md_dt_11dw_d.items():\n",
    "    \n",
    "    dt_r = md_r_dt_d[str(k)]\n",
    "    md_r = dt_r[(dt_r.temperature==0) & (dt_r.type.isin(trans_from_11))]\n",
    "    \n",
    "    if np.any(v.wait_T > 0) and md_r.rate.sum() > 0 :\n",
    "        tau_av = np.average(v.wait_T/ v.weight, weights=v.weight)\n",
    "        \n",
    "        _m, _p = _count_err_from_rate_calc( 1.0/ tau_av * 1000.0,\n",
    "                                           md_r, trans_from_11)\n",
    "        ax[1,0].plot([int(k)*tf]*2, [ _m,  _p], \"-\", c=cl[5] )\n",
    "        #tau_av, var_tau = weights_first_second_moment(v.weight, v.wait_T)\n",
    "        lg4_md, = ax[1,0].plot(int(k)*tf,  1.0/tau_av*1000.0, \".\", c=cl[5],  mfc=cl[5], mec=cl[5])\n",
    "\n",
    "        \n",
    "ax[1,0].legend([lg3_md, lg4_md], [r'MD $\\sum_{l(\\neq)3}k_{l3}$',\n",
    "                           r'MD $\\sum_{l(\\neq)4}k_{l4}$'],\n",
    "               loc=3, handletextpad=-0.5,handleheight=0.5,\n",
    "              borderaxespad=0.01)\n",
    "\n",
    "#mfpt h\n",
    "ax[0,0].plot(md_lagtime_ar*tf, inv_lifetime_two_state_lagtime(\n",
    "        md_lagtime_ar*tf, popt_ph[0][0], k_ex_fit), \"-\",\n",
    "          c=cl[2])\n",
    "#mfpt c\n",
    "ax[0,0].plot(md_lagtime_ar*tf, inv_lifetime_two_state_lagtime(\n",
    "        md_lagtime_ar*tf, popt_pc[0][0], k_ex_fit),\n",
    "          c=cl[0])       \n",
    "        \n",
    "ax[1,1].legend([lg3_remd, lg4_remd], [r'REMD $\\sum_{l(\\neq)3}k_{l3}$',\n",
    "                           r'REMD $\\sum_{l(\\neq)4}k_{l4}$'],\n",
    "               loc=3, handletextpad=-0.5,handleheight=0.5,\n",
    "              borderaxespad=0.01)\n",
    "            \n",
    "    \n",
    "\n",
    "for a in ax.flat:\n",
    "    a.loglog()\n",
    "    a.set_xlabel(\"$\\mathregular{\\Delta t \\, [ns]}$\", fontsize=12)\n",
    "    a.set_xlim(10**-3.2, 10**1)\n",
    "    a.tick_params(axis='both', which='major', labelsize=12)\n",
    "    a.tick_params(axis='both', which='both', top=True , right=True)\n",
    "    \n",
    "\n",
    "    \n",
    "for i, a in enumerate([\"A\", \"B\"]):\n",
    "    ax.flat[i].text(10**-5, 10**0.7, a, fontsize=20)\n",
    "    ax.flat[i].set_ylabel(r\"$\\mathregular{k \\, [ns^{-1}]}$\", fontsize=12)\n",
    "\n",
    "    \n",
    "for i, a in enumerate([\"C\", \"D\"]):\n",
    "    ax.flat[i+2].text(10**-5, 10**1.7, a, fontsize=20)\n",
    "    ax.flat[i+2].set_ylabel(r\"$\\mathregular{k \\, [ns^{-1}]}$\", fontsize=12)\n",
    "    \n",
    "    \n",
    "ax[1,0].plot(syn_ar[:,0], syn_ar[:,1], c='grey')\n",
    "ax[1,0].plot(syn_ar[:,0], syn_ar[:,2], c='black')    \n",
    "ax[1,1].plot(syn_ar[:,0], syn_ar[:,1], c='grey')\n",
    "ax[1,1].plot(syn_ar[:,0], syn_ar[:,2], c='black')\n",
    "\n",
    "for a in ax[0,:]:\n",
    "    a.set_yticks([10**-2, 10**-1, 10**0, 10**1])\n",
    "    a.set_xticks([10**-3, 10**-2, 10**-1, 10**0, 10**1])\n",
    "    \n",
    "for a in ax[1,:]:\n",
    "    a.set_yticks([10**-2, 10**-1, 10**0, 10**1, 10**2])\n",
    "    a.set_xticks([10**-3, 10**-2, 10**-1, 10**0, 10**1])\n",
    "    \n",
    "fig.tight_layout()\n",
    "\n",
    "fig.savefig(\"plot/ala_dt-rate.png\")\n",
    "fig.savefig(\"plot/ala_dt-rate.pdf\")"
   ]
  },
  {
   "cell_type": "markdown",
   "metadata": {},
   "source": [
    "# Lag-time dependence of $\\mathrm{var}(\\tau)$"
   ]
  },
  {
   "cell_type": "code",
   "execution_count": 74,
   "metadata": {
    "collapsed": false
   },
   "outputs": [],
   "source": [
    "var_mcmc_h = np.genfromtxt(\"../from-syn-trj/var_dt/var_lifetimes_h_ns.txt\")\n",
    "var_mcmc_c = np.genfromtxt(\"../from-syn-trj/var_dt/var_lifetimes_c_ns.txt\")\n",
    "var_mcmc_st3 = np.genfromtxt(\"../from-syn-trj/var_dt/var_lifetimes_st3_ns.txt\")\n",
    "var_mcmc_st4 = np.genfromtxt(\"../from-syn-trj/var_dt/var_lifetimes_st4_ns.txt\")"
   ]
  },
  {
   "cell_type": "code",
   "execution_count": 75,
   "metadata": {
    "collapsed": true
   },
   "outputs": [],
   "source": [
    "fig_l = [\"A\", \"B\", \"C\", \"D\"]"
   ]
  },
  {
   "cell_type": "code",
   "execution_count": 76,
   "metadata": {
    "collapsed": false
   },
   "outputs": [
    {
     "data": {
      "image/png": "[encoded data removed]",
      "text/plain": [
       "<matplotlib.figure.Figure at 0x126fa5150>"
      ]
     },
     "metadata": {},
     "output_type": "display_data"
    }
   ],
   "source": [
    "fig, ax = plt.subplots(2,2, figsize=(6.5,6))\n",
    "\n",
    "for k, v in md_dt_hdw_d.items():\n",
    "    _exp = check_moments_w(v.wait_T*tf, v.weight)\n",
    "    lg_md, = ax[0,0].plot(int(k)*tf,  _exp[1] , \"o\", c=cl[0])\n",
    "    \n",
    "for k, v in md_dt_cdw_d.items():\n",
    "    _exp = check_moments_w(v.wait_T*tf, v.weight)\n",
    "    lg2_md, = ax[0,0].plot(int(k)*tf,  _exp[1] , \"o\", c=cl[2], label=\"$c \\rightarrow h$\")\n",
    "\n",
    "for k, v in md_dt_10dw_d.items():  \n",
    "    if np.any(v.wait_T > 0) :\n",
    "        _exp = check_moments_w(v.wait_T*tf , v.weight)\n",
    "        lg3_md, = ax[1,0].plot(int(k)*tf, _exp[1], \"o\", c=cl[4])\n",
    "        \n",
    "\n",
    "for k, v in md_dt_11dw_d.items():  \n",
    "    if np.any(v.wait_T > 0) :\n",
    "        _exp = check_moments_w(v.wait_T*tf , v.weight)\n",
    "        lg4_md, = ax[1,0].plot(int(k)*tf, _exp[1], \"o\", c=cl[5])\n",
    "\n",
    "# exclude empty arrays    \n",
    "    \n",
    "for k, v in remd_dt_hdw_d.items():\n",
    "    _exp = check_moments_w( v.wait_T*tf, v.weight)\n",
    "    lg1_remd, = ax[0,1].plot(int(k)*tf,  _exp[1] , \"s\", c=cl[1])   \n",
    "    \n",
    "for k, v in remd_dt_cdw_d.items():\n",
    "    _exp = check_moments_w(v.wait_T*tf , v.weight)\n",
    "    lg2_remd, = ax[0,1].plot(int(k)*tf, _exp[1] , \"s\", c=cl[3], label=\"$c \\rightarrow h$\")   \n",
    "    \n",
    "for k, v in remd_dt_10w_d.items():\n",
    "    dt_r = remd_r_dt_d[str(k)]\n",
    "    md_r = dt_r[(dt_r.temperature==0) & (dt_r.type.isin(trans_from_10))]\n",
    "    \n",
    "    if np.any(v.wait_T > 0) and md_r.rate.sum() > 0 :\n",
    "        _exp = check_moments_w(v.wait_T*tf , v.weight)\n",
    "        lg3_remd, = ax[1,1].plot(int(k)*tf, _exp[1], \"s\", c=cl[4])\n",
    "        \n",
    "for k, v in remd_dt_11dw_d.items():\n",
    "    dt_r = remd_r_dt_d[str(k)]\n",
    "    md_r = dt_r[(dt_r.temperature==0) & (dt_r.type.isin(trans_from_11))]\n",
    "    \n",
    "    if np.any(v.wait_T > 0) and md_r.rate.sum() > 0 :\n",
    "        _exp = check_moments_w(v.wait_T*tf , v.weight)\n",
    "        lg4_remd, = ax[1,1].plot(int(k)*tf, _exp[1], \"s\", c=cl[5])\n",
    "        \n",
    "\n",
    "for a in ax[0,:]:\n",
    "    a.plot(var_mcmc_h[:,0]/1000.0, var_mcmc_h[:,2], c=\"k\")\n",
    "    a.plot(var_mcmc_c[:,0]/1000.0, var_mcmc_c[:,2], c=\"grey\")\n",
    "    a.set_ylim(10**-2, 10**3)\n",
    "    \n",
    "for a in ax[1,:]:\n",
    "    a.plot(var_mcmc_st3[:,0]/1000.0, var_mcmc_st3[:,2], \"-D\", c='k',\n",
    "           mfc=\"None\", mec='k', mew=1.0, zorder=1)\n",
    "    a.plot(var_mcmc_st4[:,0]/1000.0, var_mcmc_st4[:,2], \"-D\", c='grey',\n",
    "           mfc=\"None\", mec='grey', mew=1.0, zorder=1)\n",
    "    a.set_ylim(10**-4, 10**3)\n",
    "    \n",
    "    \n",
    "for a in ax.flat:\n",
    "    a.loglog()\n",
    "    a.set_xlabel(\"$\\mathregular{\\Delta t \\, [ns]}$\", fontsize=12)\n",
    "    a.set_xlim(10**-3.2, 10**1)  \n",
    "    a.tick_params(axis='both', which='major', labelsize=12)\n",
    "    a.tick_params(axis='both', which='both', top=True , right=True)\n",
    "    \n",
    "for i, a in enumerate(fig_l):\n",
    "    ax.flat[i].text(10**-5, 10**3, a, fontsize=20)\n",
    "    ax.flat[i].set_ylabel(r\"$\\mathregular{ var(\\tau) \\, [ns^2]}$\", fontsize=12)\n",
    "    \n",
    "    ax.flat[i].set_xticks([10**-3, 10**-2, 10**-1, 10**0, 10**1])\n",
    "\n",
    "    \n",
    "ax[0,1].legend([lg1_remd, lg2_remd], [r\"REMD $h \\rightarrow c$\",\n",
    "                               r\"REMD $c \\rightarrow h$\"], loc=2,  borderaxespad=-0.1)\n",
    "ax[0,0].legend([lg1_md, lg2_md], [r\"MD $h \\rightarrow c$\",\n",
    "                               r\"MD $c \\rightarrow h$\"], loc=2,  borderaxespad=-0.1)\n",
    "\n",
    "ax[1,1].legend([lg3_remd, lg4_remd], [r\"REMD state 3\",\n",
    "                               r\"REMD state 4\"], loc=2,  borderaxespad=-0.1)\n",
    "ax[1,0].legend([lg3_md, lg4_md], [r\"MD state 3\",\n",
    "                               r\"MD state 4\"], loc=2,  borderaxespad=-0.1)\n",
    "\n",
    "\n",
    "fig.tight_layout()\n",
    "\n",
    "fig.savefig(\"plot/ala_dt-var_tau.png\")\n",
    "fig.savefig(\"plot/ala_dt-var_tau.pdf\")"
   ]
  },
  {
   "cell_type": "code",
   "execution_count": null,
   "metadata": {
    "collapsed": false
   },
   "outputs": [],
   "source": []
  },
  {
   "cell_type": "code",
   "execution_count": null,
   "metadata": {
    "collapsed": true
   },
   "outputs": [],
   "source": []
  }
 ],
 "metadata": {
  "anaconda-cloud": {},
  "kernelspec": {
   "display_name": "Python [Root]",
   "language": "python",
   "name": "Python [Root]"
  },
  "language_info": {
   "codemirror_mode": {
    "name": "ipython",
    "version": 2
   },
   "file_extension": ".py",
   "mimetype": "text/x-python",
   "name": "python",
   "nbconvert_exporter": "python",
   "pygments_lexer": "ipython2",
   "version": "2.7.11"
  },
  "toc": {
   "colors": {
    "hover_highlight": "#DAA520",
    "running_highlight": "#FF0000",
    "selected_highlight": "#FFD700"
   },
   "moveMenuLeft": true,
   "nav_menu": {
    "height": "318px",
    "width": "252px"
   },
   "navigate_menu": true,
   "number_sections": true,
   "sideBar": true,
   "threshold": 4,
   "toc_cell": false,
   "toc_position": {
    "height": "819px",
    "left": "0px",
    "right": "auto",
    "top": "105px",
    "width": "282px"
   },
   "toc_section_display": "block",
   "toc_window_display": true
  }
 },
 "nbformat": 4,
 "nbformat_minor": 0
}

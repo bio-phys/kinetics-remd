{
 "cells": [
  {
   "cell_type": "code",
   "execution_count": 1,
   "metadata": {
    "collapsed": false,
    "run_control": {
     "frozen": false,
     "read_only": false
    }
   },
   "outputs": [],
   "source": [
    "import pandas as pd\n",
    "%matplotlib inline\n",
    "import glob, os\n",
    "from kinetics.ala_kinetics import *\n",
    "from kinetics.waiting_time import *\n",
    "from kinetics.sorted_lifetimes import *\n",
    "import pyprind"
   ]
  },
  {
   "cell_type": "markdown",
   "metadata": {
    "run_control": {
     "frozen": false,
     "read_only": false
    }
   },
   "source": [
    "# Load data"
   ]
  },
  {
   "cell_type": "code",
   "execution_count": 2,
   "metadata": {
    "collapsed": false,
    "run_control": {
     "frozen": false,
     "read_only": false
    }
   },
   "outputs": [
    {
     "name": "stderr",
     "output_type": "stream",
     "text": [
      "/home/tb/lustelzl/anaconda2/lib/python2.7/site-packages/IPython/core/formatters.py:90: DeprecationWarning: DisplayFormatter._ipython_display_formatter_default is deprecated: use @default decorator instead.\n",
      "  def _ipython_display_formatter_default(self):\n",
      "/home/tb/lustelzl/anaconda2/lib/python2.7/site-packages/IPython/core/formatters.py:667: DeprecationWarning: PlainTextFormatter._singleton_printers_default is deprecated: use @default decorator instead.\n",
      "  def _singleton_printers_default(self):\n"
     ]
    },
    {
     "data": {
      "text/plain": [
       "u'/home/tb/lustelzl/Projects/kinetics/alanine-dipeptide/compare_remd_md/dt-comparison/comparison'"
      ]
     },
     "execution_count": 2,
     "metadata": {},
     "output_type": "execute_result"
    }
   ],
   "source": [
    "pwd"
   ]
  },
  {
   "cell_type": "code",
   "execution_count": 3,
   "metadata": {
    "collapsed": false,
    "run_control": {
     "frozen": false,
     "read_only": false
    }
   },
   "outputs": [
    {
     "name": "stdout",
     "output_type": "stream",
     "text": [
      "../dt1000/remd_dt1000/ala_remd_st1_dt1000ps__6jan16_rates_sym_ln__6jan16.pickle\r\n",
      "../dt100/remd_dt100/ala_remd_st1_dt100ps__6jan16_rates_sym_ln__6jan16.pickle\r\n",
      "../dt10/remd_dt10/ala_remd_st1_dt10ps__6jan16_rates_sym_ln__6jan16.pickle\r\n",
      "../dt1/remd_dt1/ala_remd_st1_dt1ps__6jan16_rates_sym_ln__6jan16.pickle\r\n",
      "../dt200/remd_dt200/ala_remd_st1_dt200ps__6jan16_rates_sym_ln__6jan16.pickle\r\n",
      "../dt20/remd_dt20/ala_remd_st1_dt20ps__6jan16_rates_sym_ln__6jan16.pickle\r\n",
      "../dt2500/remd_dt2500/ala_remd_st1_dt2500ps__6jan16_rates_sym_ln__6jan16.pickle\r\n",
      "../dt25/remd_dt25/ala_remd_st1_dt25ps__6jan16_rates_sym_ln__6jan16.pickle\r\n",
      "../dt2/remd_dt2/ala_remd_st1_dt2ps__6jan16_rates_sym_ln__6jan16.pickle\r\n",
      "../dt5000/remd_dt5000/ala_remd_st1_dt5000ps__6jan16_rates_sym_ln__6jan16.pickle\r\n",
      "../dt500/remd_dt500/ala_remd_st1_dt500ps__6jan16_rates_sym_ln__6jan16.pickle\r\n",
      "../dt50/remd_dt50/ala_remd_st1_dt50ps__6jan16_rates_sym_ln__6jan16.pickle\r\n",
      "../dt5/remd_dt5/ala_remd_st1_dt5ps__6jan16_rates_sym_ln__6jan16.pickle\r\n"
     ]
    }
   ],
   "source": [
    "ls ../dt*/remd_dt*/*rates_sym_ln*_6jan16.pickle"
   ]
  },
  {
   "cell_type": "code",
   "execution_count": 4,
   "metadata": {
    "collapsed": false,
    "run_control": {
     "frozen": false,
     "read_only": false
    }
   },
   "outputs": [
    {
     "name": "stdout",
     "output_type": "stream",
     "text": [
      "../dt1000/c_md_dt1000/rates_md_st1-3_sym_ln__6jan16.pickle\r\n",
      "../dt100/c_md_dt100/rates_md_st1-3_sym_ln__6jan16.pickle\r\n",
      "../dt10/c_md_dt10/rates_md_st1-3_sym_ln__6jan16.pickle\r\n",
      "../dt1/c_md_dt1/rates_md_st1-3_sym_ln__6jan16.pickle\r\n",
      "../dt200/c_md_dt200/rates_md_st1-3_sym_ln__6jan16.pickle\r\n",
      "../dt20/c_md_dt20/rates_md_st1-3_sym_ln__6jan16.pickle\r\n",
      "../dt2500/c_md_dt2500/rates_md_st1-3_sym_ln__6jan16.pickle\r\n",
      "../dt25/c_md_dt25/rates_md_st1-3_sym_ln__6jan16.pickle\r\n",
      "../dt2/c_md_dt2/rates_md_st1-3_sym_ln__6jan16.pickle\r\n",
      "../dt5000/c_md_dt5000/rates_md_st1-3_sym_ln__6jan16.pickle\r\n",
      "../dt500/c_md_dt500/rates_md_st1-3_sym_ln__6jan16.pickle\r\n",
      "../dt50/c_md_dt50/rates_md_st1-3_sym_ln__6jan16.pickle\r\n",
      "../dt5/c_md_dt5/rates_md_st1-3_sym_ln__6jan16.pickle\r\n"
     ]
    }
   ],
   "source": [
    "ls ../dt*/c_md_dt*/rates_md_st1-3_sym_ln*_6jan16.pickle"
   ]
  },
  {
   "cell_type": "code",
   "execution_count": 5,
   "metadata": {
    "collapsed": false,
    "run_control": {
     "frozen": false,
     "read_only": false
    }
   },
   "outputs": [
    {
     "name": "stdout",
     "output_type": "stream",
     "text": [
      "2500\n",
      "500\n",
      "200\n",
      "20\n",
      "2\n",
      "50\n",
      "5\n",
      "25\n",
      "100\n",
      "10\n",
      "5000\n",
      "1000\n",
      "1\n"
     ]
    }
   ],
   "source": [
    "remd_r_dt_d = {}\n",
    "for dt_fn_name in glob.glob(\"../dt*/remd_dt*/*rates_sym_ln*_6jan16.pickle\"):\n",
    "    dt = dt_fn_name.split(\"/\")[1][2:]\n",
    "    print dt\n",
    "    remd_r_dt_d[dt] = pd.read_pickle(dt_fn_name)"
   ]
  },
  {
   "cell_type": "code",
   "execution_count": 6,
   "metadata": {
    "collapsed": false,
    "run_control": {
     "frozen": false,
     "read_only": false
    }
   },
   "outputs": [],
   "source": [
    "md_r_dt_d = {}\n",
    "for dt_fn_name in glob.glob(\"../dt*/c_md_dt*/rates_md_st1-3_sym_ln_*6jan16.pickle\"):\n",
    "\n",
    "    dt = dt_fn_name.split(\"/\")[1][2:]\n",
    "    md_r_dt_d[dt] = pd.read_pickle(dt_fn_name)\n",
    "#ls ../dt*/c_md_dt*/rates_md_st1-3_sym_ln.pickle"
   ]
  },
  {
   "cell_type": "code",
   "execution_count": 7,
   "metadata": {
    "collapsed": false,
    "run_control": {
     "frozen": false,
     "read_only": false
    }
   },
   "outputs": [
    {
     "data": {
      "text/plain": [
       "[]"
      ]
     },
     "execution_count": 7,
     "metadata": {},
     "output_type": "execute_result"
    },
    {
     "data": {
      "image/png": "[encoded data removed]",
      "text/plain": [
       "<matplotlib.figure.Figure at 0x7f1f9887e610>"
      ]
     },
     "metadata": {},
     "output_type": "display_data"
    }
   ],
   "source": [
    "for dt, dt_r in md_r_dt_d.items():\n",
    "    md_r = dt_r[(dt_r.temperature==0) & (dt_r.type==(0,0,0,1))]\n",
    "    plt.plot(dt, 1.0 / md_r.rate, \"o\")\n",
    "    plt.plot(dt, 1.0 /  md_r.std_m, \".\")\n",
    "    plt.plot(dt, 1.0/ md_r.std_p, \".\")\n",
    "    \n",
    "plt.semilogx()\n",
    "plt.semilogy()"
   ]
  },
  {
   "cell_type": "code",
   "execution_count": 8,
   "metadata": {
    "collapsed": false,
    "run_control": {
     "frozen": false,
     "read_only": false
    }
   },
   "outputs": [],
   "source": [
    "%%capture c\n",
    "\n",
    "for dt, dt_r in md_r_dt_d.items():\n",
    "    print dt\n",
    "    md_r = dt_r[(dt_r.temperature==0) & (dt_r.type==(0,0,0,1))]\n",
    "    #ax[0].plot(dt, 1.0 / md_r.rate.values, \"o\", c='red')\n",
    "    print md_r.rate.shape, md_r.err_m.shape\n",
    "    plt.errorbar(int(dt),  md_r.rate, yerr=[ md_r.std_m.values, md_r.std_p.values] )"
   ]
  },
  {
   "cell_type": "code",
   "execution_count": 9,
   "metadata": {
    "collapsed": true,
    "run_control": {
     "frozen": false,
     "read_only": false
    }
   },
   "outputs": [],
   "source": [
    "cl = sns.color_palette()"
   ]
  },
  {
   "cell_type": "code",
   "execution_count": 10,
   "metadata": {
    "collapsed": false,
    "run_control": {
     "frozen": false,
     "read_only": false
    }
   },
   "outputs": [],
   "source": [
    "\n",
    "#fig.savefig(\"ala_md_remd_r_dt_1.png\", dpi=800)\n",
    "#fig.savefig(\"ala_md_remd_r_dt_1.pdf\")"
   ]
  },
  {
   "cell_type": "markdown",
   "metadata": {
    "run_control": {
     "frozen": false,
     "read_only": false
    }
   },
   "source": [
    "# $\\Delta t$ rate comparison"
   ]
  },
  {
   "cell_type": "code",
   "execution_count": 11,
   "metadata": {
    "collapsed": false,
    "run_control": {
     "frozen": false,
     "read_only": false
    }
   },
   "outputs": [
    {
     "name": "stdout",
     "output_type": "stream",
     "text": [
      "200\n",
      "5000\n",
      "20\n",
      "25\n",
      "50\n",
      "10\n",
      "1\n",
      "2\n",
      "5\n",
      "100\n",
      "1000\n",
      "500\n",
      "2500\n"
     ]
    },
    {
     "data": {
      "image/png": "[encoded data removed]",
      "text/plain": [
       "<matplotlib.figure.Figure at 0x7f1f8dbd9dd0>"
      ]
     },
     "metadata": {},
     "output_type": "display_data"
    }
   ],
   "source": [
    "fig, ax = plt.subplots(1,2, figsize=(6,3))\n",
    "sns.set_style('ticks')\n",
    "\n",
    "# add errrorbars!\n",
    "\n",
    "for dt, dt_r in md_r_dt_d.items():\n",
    "    print dt\n",
    "    md_r = dt_r[(dt_r.temperature==0) & (dt_r.type==(0,0,0,1))]\n",
    "    #ax[0].plot(dt, 1.0 / md_r.rate.values, \"o\", c='red')\n",
    "    md_lg = ax[0].errorbar(int(dt) / 1000.0,  md_r.rate.values, yerr=[md_r.err_m.values ,\n",
    "                                                              md_r.err_p.values ],\n",
    "                   c=cl[0], fmt=\".\", label=r\"$h \\rightarrow c$\")\n",
    "    \n",
    "    md_r = dt_r[(dt_r.temperature==0) & (dt_r.type==(0,1,0,0))]\n",
    "    #ax[0].plot(dt, 1.0 / md_r.rate.values, \"o\", c='blue')\n",
    "    md_lg2 = ax[0].errorbar(int(dt)/ 1000.0,  md_r.rate.values, yerr=[md_r.err_m.values ,\n",
    "                                                                  md_r.err_p.values ],\n",
    "                   c=cl[2], fmt=\".\", label=r\"$c \\rightarrow h$\" )\n",
    "      \n",
    "ax[0].legend([md_lg, md_lg2], [r\"MD $h \\rightarrow c$\",\n",
    "                               r\"MD $c \\rightarrow h$\"],\n",
    "            loc=1)\n",
    "        \n",
    "\n",
    "for dt, dt_r in remd_r_dt_d.items():\n",
    "    md_r = dt_r[(dt_r.temperature==0) & (dt_r.type==(0,0,0,1))]\n",
    "\n",
    "    lg_remd = ax[1].errorbar(int(dt) /1000.0,  md_r.rate.values, yerr=[ md_r.err_m.values ,\n",
    "                                                                   md_r.err_p.values ],\n",
    "                  c=cl[1], fmt=\".\",  label=r\"$h \\rightarrow c$\")\n",
    "    md_r = dt_r[(dt_r.temperature==0) & (dt_r.type==(0,1,0,0))]\n",
    "    \n",
    "    lg_remd2 = ax[1].errorbar(int(dt)/ 1000.0,  md_r.rate.values, yerr=[md_r.err_m.values ,\n",
    "                                                          md_r.err_p.values ],\n",
    "                  c=cl[3], fmt=\".\", label=r\"$c \\rightarrow h$\" )\n",
    "\n",
    "ax[1].legend([lg_remd, lg_remd2], [r\"REMD $h \\rightarrow c$\",\n",
    "                               r\"REMD $c \\rightarrow h$\"],\n",
    "            loc=1)\n",
    "\n",
    "#ax[0].semilogx()\n",
    "#plt.semilogx()\n",
    "\n",
    "for a in ax:\n",
    "    a.loglog()\n",
    "    a.set_xlim(10**-3.1, 10**3.1)\n",
    "    a.set_ylim(10**-3.1, 10**3.1)\n",
    "    #a.plot([10**-3.1, 10**1], 1*np.array([10**-3.1, 10**1]), \"--\", c='grey') \n",
    "    a.plot([10**-3.1, 10**3.1], np.array([10**-3.1, 10**3.1])**-1, \"--\", c='grey') \n",
    "    a.set_xlabel(\"$\\mathregular{\\Delta t \\, [ns]}$\", fontsize=12)\n",
    "    a.set_ylabel(r\"$\\mathregular{k_{c,h} \\, [ns^{-1}]}$\", fontsize=12)\n",
    "   \n",
    "\n",
    "fig.tight_layout()\n",
    "#fig.savefig(\"ala_md_remd_r_dt_c2.png\", dpi=800)\n",
    "#fig.savefig(\"ala_md_remd_r_dt_c2.pdf\")"
   ]
  },
  {
   "cell_type": "code",
   "execution_count": 12,
   "metadata": {
    "collapsed": false,
    "run_control": {
     "frozen": false,
     "read_only": false
    }
   },
   "outputs": [],
   "source": [
    "\n",
    "#fig.savefig(\"ala_md_remd_r_dt_c3.png\", dpi=800)\n",
    "#fig.savefig(\"ala_md_remd_r_dt_c3.pdf\")"
   ]
  },
  {
   "cell_type": "markdown",
   "metadata": {
    "collapsed": false,
    "run_control": {
     "frozen": false,
     "read_only": false
    }
   },
   "source": [
    "need to look at lagtime dependence in the other two states. need to sum rate coefficients"
   ]
  },
  {
   "cell_type": "code",
   "execution_count": 13,
   "metadata": {
    "collapsed": false,
    "run_control": {
     "frozen": false,
     "read_only": false
    }
   },
   "outputs": [],
   "source": [
    "trans_from_h = [t for t in possible_transitions(4) if t[:2] == (0,0,)]\n",
    "trans_from_c = [t for t in possible_transitions(4) if t[:2] == (0,1,)]\n",
    "\n",
    "trans_from_11 =  [t for t in possible_transitions(4) if t[:2] == (1,1,)]\n",
    "trans_from_10 =  [t for t in possible_transitions(4) if t[:2] == (1,0,)]"
   ]
  },
  {
   "cell_type": "code",
   "execution_count": 14,
   "metadata": {
    "collapsed": false,
    "run_control": {
     "frozen": false,
     "read_only": false
    }
   },
   "outputs": [
    {
     "data": {
      "text/plain": [
       "0    True\n",
       "1    True\n",
       "2    True\n",
       "3    True\n",
       "4    True\n",
       "Name: type, dtype: bool"
      ]
     },
     "execution_count": 14,
     "metadata": {},
     "output_type": "execute_result"
    }
   ],
   "source": [
    "md_r_dt_d['5'].type.isin(trans_from_h).head()"
   ]
  },
  {
   "cell_type": "code",
   "execution_count": 15,
   "metadata": {
    "collapsed": false,
    "run_control": {
     "frozen": false,
     "read_only": false
    }
   },
   "outputs": [
    {
     "data": {
      "text/plain": [
       "(3.5282702025620445, 36    3.51298\n",
       " Name: rate, dtype: float64)"
      ]
     },
     "execution_count": 15,
     "metadata": {},
     "output_type": "execute_result"
    }
   ],
   "source": [
    "md_r_dt_d['5'][(md_r_dt_d['5'].temperature==0) & (md_r_dt_d['5'].type.isin(trans_from_c))].rate.sum(), \\\n",
    "md_r_dt_d['5'][(md_r_dt_d['5'].temperature==0) & (md_r_dt_d['5'].type==(0,1,0,0))].rate"
   ]
  },
  {
   "cell_type": "code",
   "execution_count": 16,
   "metadata": {
    "collapsed": false,
    "run_control": {
     "frozen": false,
     "read_only": false
    }
   },
   "outputs": [
    {
     "data": {
      "text/plain": [
       "(5.286924880409854, 0    5.281178\n",
       " Name: rate, dtype: float64)"
      ]
     },
     "execution_count": 16,
     "metadata": {},
     "output_type": "execute_result"
    }
   ],
   "source": [
    "md_r_dt_d['5'][(md_r_dt_d['5'].temperature==0) & (md_r_dt_d['5'].type.isin(trans_from_h))].rate.sum(), \\\n",
    "md_r_dt_d['5'][(md_r_dt_d['5'].temperature==0) & (md_r_dt_d['5'].type==(0,0,0,1))].rate"
   ]
  },
  {
   "cell_type": "code",
   "execution_count": 17,
   "metadata": {
    "collapsed": false,
    "run_control": {
     "frozen": false,
     "read_only": false
    }
   },
   "outputs": [
    {
     "data": {
      "text/html": [
       "<div>\n",
       "<table border=\"1\" class=\"dataframe\">\n",
       "  <thead>\n",
       "    <tr style=\"text-align: right;\">\n",
       "      <th></th>\n",
       "      <th>temperature</th>\n",
       "      <th>type</th>\n",
       "      <th>rate</th>\n",
       "      <th>events</th>\n",
       "      <th>sum_weight</th>\n",
       "      <th>rev_events</th>\n",
       "      <th>rev_sum_weight</th>\n",
       "      <th>sym_weight</th>\n",
       "      <th>std_p</th>\n",
       "      <th>std_m</th>\n",
       "      <th>err_m</th>\n",
       "      <th>err_p</th>\n",
       "    </tr>\n",
       "  </thead>\n",
       "  <tbody>\n",
       "    <tr>\n",
       "      <th>0</th>\n",
       "      <td>0</td>\n",
       "      <td>(0, 0, 0, 1)</td>\n",
       "      <td>5.281178</td>\n",
       "      <td>920</td>\n",
       "      <td>920</td>\n",
       "      <td>918</td>\n",
       "      <td>918</td>\n",
       "      <td>1838</td>\n",
       "      <td>5.405811</td>\n",
       "      <td>5.159419</td>\n",
       "      <td>0.12176</td>\n",
       "      <td>0.124633</td>\n",
       "    </tr>\n",
       "  </tbody>\n",
       "</table>\n",
       "</div>"
      ],
      "text/plain": [
       "   temperature          type      rate  events  sum_weight  rev_events  \\\n",
       "0            0  (0, 0, 0, 1)  5.281178     920         920         918   \n",
       "\n",
       "   rev_sum_weight  sym_weight     std_p     std_m    err_m     err_p  \n",
       "0             918        1838  5.405811  5.159419  0.12176  0.124633  "
      ]
     },
     "execution_count": 17,
     "metadata": {},
     "output_type": "execute_result"
    }
   ],
   "source": [
    "md_r_dt_d['5'][(md_r_dt_d['5'].temperature==0) & (md_r_dt_d['5'].type==(0,0,0,1))]"
   ]
  },
  {
   "cell_type": "code",
   "execution_count": 18,
   "metadata": {
    "collapsed": false,
    "run_control": {
     "frozen": false,
     "read_only": false
    }
   },
   "outputs": [],
   "source": [
    "dw_l = [trans_from_h, trans_from_c, trans_from_10, trans_from_11]"
   ]
  },
  {
   "cell_type": "code",
   "execution_count": 19,
   "metadata": {
    "collapsed": true,
    "run_control": {
     "frozen": false,
     "read_only": false
    }
   },
   "outputs": [],
   "source": [
    "err_log_rate??"
   ]
  },
  {
   "cell_type": "markdown",
   "metadata": {
    "run_control": {
     "frozen": false,
     "read_only": false
    }
   },
   "source": [
    "## current figure"
   ]
  },
  {
   "cell_type": "code",
   "execution_count": 20,
   "metadata": {
    "collapsed": false,
    "run_control": {
     "frozen": false,
     "read_only": false
    }
   },
   "outputs": [
    {
     "data": {
      "image/png": "[encoded data removed]",
      "text/plain": [
       "<matplotlib.figure.Figure at 0x7f1f8cbcc610>"
      ]
     },
     "metadata": {},
     "output_type": "display_data"
    }
   ],
   "source": [
    "md_dw_colour_l = [cl[0], cl[2],'grey', 'grey']\n",
    "remd_dw_colour_l = [cl[1], cl[3], cl[4], cl[5]]\n",
    "\n",
    "fig, ax = plt.subplots(2,2, figsize=(6,6))\n",
    "for dt, dt_r in md_r_dt_d.items():    \n",
    "    md_t0 = dt_r[dt_r.temperature==0]\n",
    "    for i, trans in enumerate(dw_l):\n",
    "        md_r = md_t0[md_t0.type.isin(trans)]\n",
    "        _sum = md_r.rate.sum()\n",
    "        if _sum > 0:\n",
    "            _tau = 1.0 / _sum\n",
    "            _N = md_r.sym_weight.sum()\n",
    "            #print _tau, _tau*np.exp(1/_N**0.5), _tau*np.exp(-1/_N**0.5)\n",
    "            ax.flat[i].plot(int(dt) / 1000.0, _tau, \".\",c=md_dw_colour_l[i])\n",
    "            ax.flat[i].plot([int(dt) / 1000.0]*2, [ _tau*np.exp(1/_N**0.5), _tau*np.exp(-1/_N**0.5)],\n",
    "                            \"-\", c=md_dw_colour_l[i])\n",
    "            #md_lg = ax.flat[i].errorbar(int(dt) / 1000.0, np.array([_tau]), c=md_dw_colour_l[i], fmt=\"o\",\n",
    "            #                            yerr=[_tau - 0.59, _tau - 0.65])\n",
    "\n",
    "for dt, dt_r in remd_r_dt_d.items():    \n",
    "    md_t0 = dt_r[dt_r.temperature==0]\n",
    "    for i, trans in enumerate(dw_l):\n",
    "        md_r = md_t0[md_t0.type.isin(trans)]\n",
    "        _sum = md_r.rate.sum()\n",
    "        if _sum > 0:\n",
    "            _tau = 1.0 / _sum\n",
    "            _N = md_r.sym_weight.sum()\n",
    "            #print _tau, _tau*np.exp(1/_N**0.5), _tau*np.exp(-1/_N**0.5)\n",
    "            ax.flat[i].plot(int(dt) / 1000.0, _tau, \".\",c=remd_dw_colour_l[i])\n",
    "            ax.flat[i].plot([int(dt) / 1000.0]*2, [ _tau*np.exp(1/_N**0.5), _tau*np.exp(-1/_N**0.5)],\n",
    "                            \"-\", c=md_dw_colour_l[i])\n",
    "            \n",
    "            \n",
    "for a in ax.flat:\n",
    "\n",
    "    a.loglog()\n",
    "    a.set_ylim(10**-3.1, 10**2.1)\n",
    "    a.set_xlim(10**-3.1, 10**2.1)\n",
    "    #a.plot([10**-3.1, 10**3.1], np.array([10**-3.1, 10**3.1])**1, \"--\", c='grey') \n",
    "    a.set_xlabel(\"$\\mathregular{\\Delta t \\, [ns]}$\", fontsize=12)\n",
    "    a.set_ylabel(r\"$\\mathregular{\\tau \\, [ns]}$\", fontsize=12)\n",
    "    \n",
    "fig.tight_layout()"
   ]
  },
  {
   "cell_type": "code",
   "execution_count": 21,
   "metadata": {
    "collapsed": false,
    "run_control": {
     "frozen": false,
     "read_only": false
    },
    "scrolled": true
   },
   "outputs": [
    {
     "data": {
      "image/png": "[encoded data removed]",
      "text/plain": [
       "<matplotlib.figure.Figure at 0x7f1f8ba68f90>"
      ]
     },
     "metadata": {},
     "output_type": "display_data"
    }
   ],
   "source": [
    "fig, ax = plt.subplots(1,2, figsize=(6,3))\n",
    "\n",
    "for dt, dt_r in md_r_dt_d.items():\n",
    "    #print dt\n",
    "    md_r = dt_r[(dt_r.temperature==0) & (dt_r.type==(0,0,0,1))]\n",
    "    md_lg = ax[0].errorbar(int(dt) / 1000.0, 1.0 / md_r.rate.values, yerr=[ np.sqrt((md_r.err_m.values / md_r.rate)**2),\n",
    "                                                          np.sqrt((md_r.err_p.values / md_r.rate)**2)],\n",
    "                   c='red', fmt=\".\" )\n",
    "    \n",
    "    md_r = dt_r[(dt_r.temperature==0) & (dt_r.type==(0,1,0,0))]\n",
    "\n",
    "    md_lg2 = ax[0].errorbar(int(dt)/ 1000.0, 1.0 / md_r.rate.values, yerr=[np.sqrt((md_r.err_m.values / md_r.rate)**2),\n",
    "                                                          np.sqrt((md_r.err_p.values / md_r.rate)**2)],\n",
    "                   c='blue', fmt=\".\" )\n",
    "    \n",
    "      \n",
    "ax[0].legend([md_lg, md_lg2], [r\"MD $h \\rightarrow c$\",\n",
    "                               r\"MD $c \\rightarrow h$\"],\n",
    "            loc=4)\n",
    "        \n",
    "\n",
    "for dt, dt_r in remd_r_dt_d.items():\n",
    "    md_r = dt_r[(dt_r.temperature==0) & (dt_r.type==(0,0,0,1))]\n",
    "\n",
    "    lg_remd= ax[1].errorbar(int(dt) /1000.0, 1.0 / md_r.rate.values,\n",
    "                   yerr=[ np.sqrt((md_r.err_m.values / md_r.rate)**2),\n",
    "                          np.sqrt((md_r.err_p.values / md_r.rate)**2)],\n",
    "                  c=cl[1], fmt=\".\" )\n",
    "    md_r = dt_r[(dt_r.temperature==0) & (dt_r.type==(0,1,0,0))]\n",
    "    \n",
    "    lg_remd2= ax[1].errorbar(int(dt)/ 1000.0, 1.0 / md_r.rate.values,\n",
    "                             yerr=[ np.sqrt((md_r.err_m.values / md_r.rate)**2),\n",
    "                                    np.sqrt((md_r.err_p.values / md_r.rate)**2)],\n",
    "                  c=cl[3], fmt=\".\" )\n",
    "\n",
    "ax[1].legend([lg_remd, lg_remd2], [r\"REMD $h \\rightarrow c$\",\n",
    "                               r\"REMD $c \\rightarrow h$\"], loc=4)\n",
    "    \n",
    "ax[0].text( 10**-4.9, 10**2,\"A\", fontsize=24)\n",
    "ax[1].text( 10**-4.9, 10**2,\"B\", fontsize=24)\n",
    "\n",
    "for a in ax:\n",
    "    a.loglog()\n",
    "    a.set_ylim(10**-3.1, 10**2.1)\n",
    "    a.set_xlim(10**-3.1, 10**2.1)\n",
    "    a.plot([10**-3.1, 10**3.1], np.array([10**-3.1, 10**3.1])**1, \"--\", c='grey') \n",
    "    a.set_xlabel(\"$\\mathregular{\\Delta t \\, [ns]}$\", fontsize=12)\n",
    "    a.set_ylabel(r\"$\\mathregular{\\tau_{c,h} \\, [ns]}$\", fontsize=12)\n",
    "    \n",
    "fig.tight_layout()\n",
    "#fig.savefig(\"ala_md_remd_tau_dt_c.png\", dpi=400)\n",
    "#fig.savefig(\"alla_md_remd_tau_dt_c.pdf\")"
   ]
  },
  {
   "cell_type": "markdown",
   "metadata": {
    "run_control": {
     "frozen": false,
     "read_only": false
    }
   },
   "source": [
    "## Lagtime independent rate coefficients\n",
    "\n",
    "assume that Ala2 is a quasi two-state system.\n",
    "\n",
    "First fit $k$\n",
    "\n",
    "\\begin{equation}\n",
    "\\frac{1}{<\\tau_F>_{\\text{app}}} + \\frac{1}{<\\tau_U>_{\\text{app}}} =  \\frac{1 - \\exp(-k t) }{ t}\n",
    "\\end{equation}\n",
    "\n",
    "Then fit the relative populations.\n",
    "\n",
    "\\begin{equation}\n",
    "\\frac{1}{<\\tau_F>_{\\text{app}}} = \\frac{pU' (1 - \\exp(-kt)}{t} = k_{U \\leftarrow F}\n",
    "\\end{equation}\n",
    "\n",
    "### rate arrays"
   ]
  },
  {
   "cell_type": "code",
   "execution_count": 22,
   "metadata": {
    "collapsed": true,
    "run_control": {
     "frozen": false,
     "read_only": false
    }
   },
   "outputs": [],
   "source": [
    "tf = 1.0 / 1000.0"
   ]
  },
  {
   "cell_type": "code",
   "execution_count": 23,
   "metadata": {
    "collapsed": false,
    "run_control": {
     "frozen": false,
     "read_only": false
    }
   },
   "outputs": [],
   "source": [
    "md_lagtime_l = []\n",
    "md_kc_l, md_kh_l = [], []\n",
    "\n",
    "for dt in sorted([int(k) for k in md_r_dt_d.keys()]):\n",
    "    #print dt\n",
    "    md_lagtime_l.append(dt)\n",
    "    dt_r = md_r_dt_d[str(dt)]\n",
    "    md_kh_l.extend(dt_r[(dt_r.temperature==0) & (dt_r.type==(0,1,0,0))].rate.values)\n",
    "    md_kc_l.extend(dt_r[(dt_r.temperature==0) & (dt_r.type==(0,0,0,1))].rate.values)    \n",
    "md_kc_ar = np.array(md_kc_l)\n",
    "md_kh_ar = np.array(md_kh_l)\n",
    "md_kc_kh_ar = md_kc_ar + md_kh_ar\n",
    "\n",
    "md_lagtime_ar = np.array(md_lagtime_l)"
   ]
  },
  {
   "cell_type": "code",
   "execution_count": 24,
   "metadata": {
    "collapsed": true,
    "run_control": {
     "frozen": false,
     "read_only": false
    }
   },
   "outputs": [],
   "source": [
    "remd_lagtime_l = []\n",
    "remd_kc_l, remd_kh_l = [], []\n",
    "for dt in sorted([int(k) for k in remd_r_dt_d.keys()]):\n",
    "    remd_lagtime_l.append(dt)\n",
    "    dt_r = remd_r_dt_d[str(dt)]\n",
    "    remd_kh_l.extend(dt_r[(dt_r.temperature==0) & (dt_r.type==(0,1,0,0))].rate.values)\n",
    "    remd_kc_l.extend(dt_r[(dt_r.temperature==0) & (dt_r.type==(0,0,0,1))].rate.values)\n",
    "remd_kc_ar = np.array(remd_kc_l)\n",
    "remd_kh_ar = np.array(remd_kh_l)\n",
    "remd_kc_kh_ar = remd_kc_ar + remd_kh_ar\n",
    "remd_lagtime_ar = np.array(remd_lagtime_l)"
   ]
  },
  {
   "cell_type": "markdown",
   "metadata": {
    "run_control": {
     "frozen": false,
     "read_only": false
    }
   },
   "source": [
    "### fit $1/k_{ex = }1/k_c + 1/ k_h$ "
   ]
  },
  {
   "cell_type": "code",
   "execution_count": 25,
   "metadata": {
    "collapsed": false,
    "run_control": {
     "frozen": false,
     "read_only": false
    }
   },
   "outputs": [
    {
     "name": "stdout",
     "output_type": "stream",
     "text": [
      "(array([ 8.87243231]), array([[ 0.09071566]]))\n"
     ]
    }
   ],
   "source": [
    "popt_kex_remd = curve_fit(sum_inv_lifetimes_two_state_lagtime,\n",
    "                         remd_lagtime_ar[:]*tf, remd_kc_kh_ar[:], p0=10)\n",
    "kex_fit_remd = popt_kex_remd[0][0]\n",
    "print popt_kex_remd"
   ]
  },
  {
   "cell_type": "code",
   "execution_count": 26,
   "metadata": {
    "collapsed": false,
    "run_control": {
     "frozen": false,
     "read_only": false
    }
   },
   "outputs": [
    {
     "name": "stdout",
     "output_type": "stream",
     "text": [
      "(array([ 8.54260282]), array([[ 0.09270747]]))\n"
     ]
    }
   ],
   "source": [
    "popt = curve_fit(sum_inv_lifetimes_two_state_lagtime, md_lagtime_ar[:]*tf, md_kc_kh_ar[:], p0=[10.0]) \n",
    "print popt\n",
    "k_ex_fit = popt[0][0]"
   ]
  },
  {
   "cell_type": "code",
   "execution_count": 27,
   "metadata": {
    "collapsed": false,
    "run_control": {
     "frozen": false,
     "read_only": false
    }
   },
   "outputs": [
    {
     "data": {
      "text/plain": [
       "(0    5.565691\n",
       " Name: rate, dtype: float64, 36    3.676874\n",
       " Name: rate, dtype: float64)"
      ]
     },
     "execution_count": 27,
     "metadata": {},
     "output_type": "execute_result"
    }
   ],
   "source": [
    "md_r_dt_d['1'][(md_r_dt_d['1'].temperature==0) & (md_r_dt_d['1'].type==(0,0,0,1))].rate, \\\n",
    "md_r_dt_d['1'][(md_r_dt_d['1'].temperature==0) & (md_r_dt_d['1'].type==(0,1,0,0))].rate"
   ]
  },
  {
   "cell_type": "code",
   "execution_count": 28,
   "metadata": {
    "collapsed": false,
    "run_control": {
     "frozen": false,
     "read_only": false
    }
   },
   "outputs": [
    {
     "data": {
      "text/plain": [
       "array([ 9.24256456,  9.08735196,  8.79415798,  8.35937817,  7.60653429,\n",
       "        7.29720765,  6.07102677,  4.43502331,  2.77705138,  1.21380732,\n",
       "        0.57873921,  0.26881593,  0.12543172])"
      ]
     },
     "execution_count": 28,
     "metadata": {},
     "output_type": "execute_result"
    }
   ],
   "source": [
    "md_kc_kh_ar"
   ]
  },
  {
   "cell_type": "code",
   "execution_count": 29,
   "metadata": {
    "collapsed": false,
    "run_control": {
     "frozen": false,
     "read_only": false
    }
   },
   "outputs": [
    {
     "data": {
      "text/plain": [
       "array([  1.00000000e-03,   2.00000000e-03,   5.00000000e-03,\n",
       "         1.00000000e-02,   2.00000000e-02,   2.50000000e-02,\n",
       "         5.00000000e-02,   1.00000000e-01,   2.00000000e-01,\n",
       "         5.00000000e-01,   1.00000000e+00,   2.50000000e+00,\n",
       "         5.00000000e+00])"
      ]
     },
     "execution_count": 29,
     "metadata": {},
     "output_type": "execute_result"
    }
   ],
   "source": [
    "md_lagtime_ar/ 1000.0"
   ]
  },
  {
   "cell_type": "code",
   "execution_count": 30,
   "metadata": {
    "collapsed": false,
    "run_control": {
     "frozen": false,
     "read_only": false
    }
   },
   "outputs": [
    {
     "data": {
      "text/plain": [
       "array([ 8.50621847,  8.4700406 ,  8.36273269,  8.18789444,  7.85268637,\n",
       "        7.69201596,  6.95242709,  5.74402103,  4.09433215,  1.9720728 ,\n",
       "        0.99980502,  0.4       ,  0.2       ])"
      ]
     },
     "execution_count": 30,
     "metadata": {},
     "output_type": "execute_result"
    }
   ],
   "source": [
    "sum_inv_lifetimes_two_state_lagtime(md_lagtime_ar / 1000.0, k_ex_fit)"
   ]
  },
  {
   "cell_type": "code",
   "execution_count": 31,
   "metadata": {
    "collapsed": false,
    "run_control": {
     "frozen": false,
     "read_only": false
    }
   },
   "outputs": [
    {
     "data": {
      "text/plain": [
       "[]"
      ]
     },
     "execution_count": 31,
     "metadata": {},
     "output_type": "execute_result"
    },
    {
     "data": {
      "image/png": "[encoded data removed]",
      "text/plain": [
       "<matplotlib.figure.Figure at 0x7f1f8b247250>"
      ]
     },
     "metadata": {},
     "output_type": "display_data"
    }
   ],
   "source": [
    "fig, ax = plt.subplots(figsize=(3,3))\n",
    "plt.plot(md_lagtime_ar / 1000.0, md_kc_kh_ar, \".\")\n",
    "plt.plot(md_lagtime_ar/ 1000.0, sum_inv_lifetimes_two_state_lagtime(md_lagtime_ar*tf, k_ex_fit))\n",
    "\n",
    "plt.plot(remd_lagtime_ar / 1000.0, remd_kc_kh_ar, \".\")\n",
    "plt.plot(remd_lagtime_ar/ 1000.0, sum_inv_lifetimes_two_state_lagtime(remd_lagtime_ar*tf, kex_fit_remd))\n",
    "\n",
    "plt.loglog()"
   ]
  },
  {
   "cell_type": "markdown",
   "metadata": {
    "run_control": {
     "frozen": false,
     "read_only": false
    }
   },
   "source": [
    "### $p'$ fit to determine lagtime independent rate coefficients and populations\n",
    "#### MD"
   ]
  },
  {
   "cell_type": "code",
   "execution_count": 32,
   "metadata": {
    "collapsed": true,
    "run_control": {
     "frozen": false,
     "read_only": false
    }
   },
   "outputs": [],
   "source": [
    "f = lambda  t, p : inv_lifetime_two_state_lagtime(t, p, k_ex_fit)"
   ]
  },
  {
   "cell_type": "code",
   "execution_count": 33,
   "metadata": {
    "collapsed": false,
    "run_control": {
     "frozen": false,
     "read_only": false
    }
   },
   "outputs": [
    {
     "name": "stdout",
     "output_type": "stream",
     "text": [
      "(array([ 0.58381003]), array([[ 0.00045066]]))\n",
      "(array([ 0.39740205]), array([[ 0.00011567]]))\n"
     ]
    }
   ],
   "source": [
    "popt_pc = curve_fit(f, md_lagtime_ar[:] / 1000.0, md_kc_ar[:])\n",
    "print popt_pc\n",
    "\n",
    "popt_ph = curve_fit(f, md_lagtime_ar[:]/1000.0, md_kh_ar[:])\n",
    "print popt_ph"
   ]
  },
  {
   "cell_type": "code",
   "execution_count": 34,
   "metadata": {
    "collapsed": false,
    "run_control": {
     "frozen": false,
     "read_only": false
    }
   },
   "outputs": [],
   "source": [
    "pc = popt_pc[0][0] / (popt_pc[0][0] + popt_ph[0][0])\n",
    "ph = popt_ph[0][0] / (popt_pc[0][0] + popt_ph[0][0])"
   ]
  },
  {
   "cell_type": "code",
   "execution_count": 35,
   "metadata": {
    "collapsed": false,
    "run_control": {
     "frozen": false,
     "read_only": false
    }
   },
   "outputs": [
    {
     "data": {
      "text/plain": [
       "(5.0827515524634252, 3.4598512720013197)"
      ]
     },
     "execution_count": 35,
     "metadata": {},
     "output_type": "execute_result"
    }
   ],
   "source": [
    "k_ex_fit * pc, k_ex_fit * ph"
   ]
  },
  {
   "cell_type": "code",
   "execution_count": 36,
   "metadata": {
    "collapsed": false,
    "run_control": {
     "frozen": false,
     "read_only": false
    }
   },
   "outputs": [
    {
     "data": {
      "text/html": [
       "<div>\n",
       "<table border=\"1\" class=\"dataframe\">\n",
       "  <thead>\n",
       "    <tr style=\"text-align: right;\">\n",
       "      <th></th>\n",
       "      <th>temperature</th>\n",
       "      <th>type</th>\n",
       "      <th>rate</th>\n",
       "      <th>events</th>\n",
       "      <th>sum_weight</th>\n",
       "      <th>rev_events</th>\n",
       "      <th>rev_sum_weight</th>\n",
       "      <th>sym_weight</th>\n",
       "      <th>std_p</th>\n",
       "      <th>std_m</th>\n",
       "      <th>err_m</th>\n",
       "      <th>err_p</th>\n",
       "    </tr>\n",
       "  </thead>\n",
       "  <tbody>\n",
       "    <tr>\n",
       "      <th>0</th>\n",
       "      <td>0</td>\n",
       "      <td>(0, 0, 0, 1)</td>\n",
       "      <td>5.565691</td>\n",
       "      <td>965</td>\n",
       "      <td>965</td>\n",
       "      <td>964</td>\n",
       "      <td>964</td>\n",
       "      <td>1929</td>\n",
       "      <td>5.693867</td>\n",
       "      <td>5.440401</td>\n",
       "      <td>0.125291</td>\n",
       "      <td>0.128176</td>\n",
       "    </tr>\n",
       "    <tr>\n",
       "      <th>36</th>\n",
       "      <td>0</td>\n",
       "      <td>(0, 1, 0, 0)</td>\n",
       "      <td>3.676874</td>\n",
       "      <td>964</td>\n",
       "      <td>964</td>\n",
       "      <td>965</td>\n",
       "      <td>965</td>\n",
       "      <td>1929</td>\n",
       "      <td>3.761551</td>\n",
       "      <td>3.594103</td>\n",
       "      <td>0.082771</td>\n",
       "      <td>0.084677</td>\n",
       "    </tr>\n",
       "  </tbody>\n",
       "</table>\n",
       "</div>"
      ],
      "text/plain": [
       "    temperature          type      rate  events  sum_weight  rev_events  \\\n",
       "0             0  (0, 0, 0, 1)  5.565691     965         965         964   \n",
       "36            0  (0, 1, 0, 0)  3.676874     964         964         965   \n",
       "\n",
       "    rev_sum_weight  sym_weight     std_p     std_m     err_m     err_p  \n",
       "0              964        1929  5.693867  5.440401  0.125291  0.128176  \n",
       "36             965        1929  3.761551  3.594103  0.082771  0.084677  "
      ]
     },
     "execution_count": 36,
     "metadata": {},
     "output_type": "execute_result"
    }
   ],
   "source": [
    "md_r_dt_d['1'][(md_r_dt_d['1'].temperature==0) & (md_r_dt_d['1'].type.isin([(0,0,0,1), (0,1,0,0)]))]"
   ]
  },
  {
   "cell_type": "code",
   "execution_count": 37,
   "metadata": {
    "code_folding": [
     0
    ],
    "collapsed": false,
    "run_control": {
     "frozen": false,
     "read_only": false
    },
    "scrolled": true
   },
   "outputs": [
    {
     "data": {
      "text/plain": [
       "array([ 4.96601565,  4.94489464,  4.88224721,  4.78017489,  4.58447705,\n",
       "        4.49067606,  4.05889666,  3.35341708,  2.39031217,  1.15131588,\n",
       "        0.5836962 ,  0.23352401,  0.11676201])"
      ]
     },
     "execution_count": 37,
     "metadata": {},
     "output_type": "execute_result"
    }
   ],
   "source": [
    "inv_lifetime_two_state_lagtime(\n",
    "        md_lagtime_ar*tf, popt_pc[0][0], k_ex_fit)"
   ]
  },
  {
   "cell_type": "markdown",
   "metadata": {
    "run_control": {
     "frozen": false,
     "read_only": false
    }
   },
   "source": [
    "#### REMD"
   ]
  },
  {
   "cell_type": "code",
   "execution_count": 38,
   "metadata": {
    "collapsed": true,
    "run_control": {
     "frozen": false,
     "read_only": false
    }
   },
   "outputs": [],
   "source": [
    "f_remd = lambda t, p: inv_lifetime_two_state_lagtime(t, p, kex_fit_remd)"
   ]
  },
  {
   "cell_type": "code",
   "execution_count": 39,
   "metadata": {
    "collapsed": false,
    "run_control": {
     "frozen": false,
     "read_only": false
    }
   },
   "outputs": [
    {
     "name": "stdout",
     "output_type": "stream",
     "text": [
      "(array([ 0.60907356]), array([[ 0.00046667]]))\n",
      "(array([ 0.40725638]), array([[ 0.00013211]]))\n",
      "0.599287235024 0.400712764976\n"
     ]
    }
   ],
   "source": [
    "popt_pc_remd = curve_fit(f, remd_lagtime_ar[:]*tf, remd_kc_ar[:])\n",
    "print popt_pc_remd\n",
    "popt_ph_remd = curve_fit(f, remd_lagtime_ar[:]*tf, remd_kh_ar[:])\n",
    "print popt_ph_remd\n",
    "pc_remd = popt_pc_remd[0][0] / (popt_pc_remd[0][0] + popt_ph_remd[0][0])\n",
    "ph_remd = popt_ph_remd[0][0] / (popt_pc_remd[0][0] + popt_ph_remd[0][0])\n",
    "print pc_remd, ph_remd"
   ]
  },
  {
   "cell_type": "code",
   "execution_count": 40,
   "metadata": {
    "collapsed": false,
    "run_control": {
     "frozen": false,
     "read_only": false
    }
   },
   "outputs": [
    {
     "data": {
      "text/plain": [
       "(5.2789963439702952, 3.5934359622051137)"
      ]
     },
     "execution_count": 40,
     "metadata": {},
     "output_type": "execute_result"
    }
   ],
   "source": [
    "kex_fit_remd * pc, kex_fit_remd * ph"
   ]
  },
  {
   "cell_type": "markdown",
   "metadata": {
    "run_control": {
     "frozen": false,
     "read_only": false
    }
   },
   "source": [
    "### test plot"
   ]
  },
  {
   "cell_type": "code",
   "execution_count": 41,
   "metadata": {
    "collapsed": false,
    "run_control": {
     "frozen": false,
     "read_only": false
    }
   },
   "outputs": [
    {
     "data": {
      "image/png": "[encoded data removed]",
      "text/plain": [
       "<matplotlib.figure.Figure at 0x7f1f8b25ce90>"
      ]
     },
     "metadata": {},
     "output_type": "display_data"
    }
   ],
   "source": [
    "fig, ax = plt.subplots(1,2, figsize=(6,3))\n",
    "\n",
    "# 1/tau_c = k_c\n",
    "ax[0].plot(md_lagtime_ar*tf, inv_lifetime_two_state_lagtime(\n",
    "        md_lagtime_ar*tf, popt_ph[0][0], k_ex_fit), \"-\",\n",
    "          c=cl[0])\n",
    "\n",
    "ax[0].plot(md_lagtime_ar*tf, inv_lifetime_two_state_lagtime(\n",
    "        md_lagtime_ar*tf, popt_pc[0][0], k_ex_fit),\n",
    "          c=cl[2])\n",
    "\n",
    "for dt, dt_r in md_r_dt_d.items():\n",
    "    md_r = dt_r[(dt_r.temperature==0) & (dt_r.type==(0,0,0,1))]\n",
    "    md_lg = ax[0].errorbar(int(dt)*tf,  md_r.rate.values, yerr=[md_r.err_m.values ,\n",
    "                                                              md_r.err_p.values ],\n",
    "                   c=cl[0], fmt=\".\", label=r\"$h \\rightarrow c$\")\n",
    "    \n",
    "    md_r = dt_r[(dt_r.temperature==0) & (dt_r.type==(0,1,0,0))]\n",
    "    md_lg2 = ax[0].errorbar(int(dt)*tf,  md_r.rate.values, yerr=[md_r.err_m.values ,\n",
    "                                                                  md_r.err_p.values ],\n",
    "                   c=cl[2], fmt=\".\", label=r\"$c \\rightarrow h$\" )\n",
    "    \n",
    "for a in ax:\n",
    "    a.loglog()"
   ]
  },
  {
   "cell_type": "markdown",
   "metadata": {
    "run_control": {
     "frozen": false,
     "read_only": false
    }
   },
   "source": [
    "### Plot\n",
    "* show minor states? (what colours?)\n",
    "* error bars\n",
    "* check that assignment of curves to transitions (are the labels right?)\n",
    "\n",
    "For helical and coil states, I could also show the summed lifetimes."
   ]
  },
  {
   "cell_type": "code",
   "execution_count": 42,
   "metadata": {
    "collapsed": true,
    "run_control": {
     "frozen": false,
     "read_only": false
    }
   },
   "outputs": [],
   "source": [
    "syn_ar = np.genfromtxt(\"from-syn-trj/syn_dt_ala_st3_st4.txt\")"
   ]
  },
  {
   "cell_type": "code",
   "execution_count": 43,
   "metadata": {
    "collapsed": true,
    "run_control": {
     "frozen": false,
     "read_only": false
    }
   },
   "outputs": [],
   "source": [
    "fig_l = [\"A\", \"B\", \"C\", \"D\"]"
   ]
  },
  {
   "cell_type": "code",
   "execution_count": 44,
   "metadata": {
    "collapsed": false,
    "run_control": {
     "frozen": false,
     "read_only": false
    }
   },
   "outputs": [
    {
     "name": "stdout",
     "output_type": "stream",
     "text": [
      "ala_md_remd_r_dt_1.pdf\t ala_md_remd_r_t.png\t    dt_rates_init.ipynb\r\n",
      "ala_md_remd_r_dt_1.png\t ala_md_remd_tau_dt_2.png   dt_rates.ipynb\r\n",
      "ala_md_remd_r_dt_c1.pdf  ala_md_remd_tau_dt_c.png   expon\r\n",
      "ala_md_remd_r_dt_c1.png  ala_md_remd_tau_dt.png     from-syn-trj\r\n",
      "ala_md_remd_r_dt_c2.pdf  alla_md_remd_r_dt.pdf\t    lifetime_ar\r\n",
      "ala_md_remd_r_dt_c2.png  alla_md_remd_tau_dt_2.pdf  lifetime_ar.tar.gz\r\n",
      "ala_md_remd_r_dt_c3.pdf  alla_md_remd_tau_dt_c.pdf  nohup.out\r\n",
      "ala_md_remd_r_dt_c3.png  alla_md_remd_tau_dt.pdf    plots\r\n",
      "ala_md_remd_r_dt.pdf\t alla_md_remd_tdt.pdf\r\n",
      "ala_md_remd_r_dt.png\t av_tau\r\n"
     ]
    }
   ],
   "source": [
    "! mkdir -p plots\n",
    "!ls"
   ]
  },
  {
   "cell_type": "code",
   "execution_count": 45,
   "metadata": {
    "collapsed": false,
    "run_control": {
     "frozen": false,
     "read_only": false
    }
   },
   "outputs": [
    {
     "data": {
      "image/png": "[encoded data removed]",
      "text/plain": [
       "<matplotlib.figure.Figure at 0x7f1f8d491410>"
      ]
     },
     "metadata": {},
     "output_type": "display_data"
    }
   ],
   "source": [
    "fig, ax = plt.subplots(2,2, figsize=(6,6))\n",
    "\n",
    "#mfpt h\n",
    "ax[0,0].plot(md_lagtime_ar*tf, inv_lifetime_two_state_lagtime(\n",
    "        md_lagtime_ar*tf, popt_ph[0][0], k_ex_fit), \"-\",\n",
    "          c=cl[2])\n",
    "#mfpt c\n",
    "ax[0,0].plot(md_lagtime_ar*tf, inv_lifetime_two_state_lagtime(\n",
    "        md_lagtime_ar*tf, popt_pc[0][0], k_ex_fit),\n",
    "          c=cl[0])\n",
    "\n",
    "\n",
    "for dt, dt_r in md_r_dt_d.items():\n",
    "    md_r = dt_r[(dt_r.temperature==0) & (dt_r.type==(0,0,0,1))]\n",
    "    md_lg = ax[0,0].errorbar(int(dt)*tf,  md_r.rate.values, yerr=[md_r.err_m.values ,\n",
    "                                                              md_r.err_p.values ],\n",
    "                   c=cl[0], fmt=\".\", label=r\"$h \\rightarrow c$\")\n",
    "    \n",
    "    md_r = dt_r[(dt_r.temperature==0) & (dt_r.type==(0,1,0,0))]\n",
    "    md_lg2 = ax[0,0].errorbar(int(dt)*tf,  md_r.rate.values, yerr=[md_r.err_m.values ,\n",
    "                                                                  md_r.err_p.values ],\n",
    "                   c=cl[2], fmt=\".\", label=r\"$c \\rightarrow h$\" )\n",
    "      \n",
    "ax[0,0].legend([md_lg, md_lg2], [r\"MD $h \\rightarrow c$\",\n",
    "                               r\"MD $c \\rightarrow h$\"],\n",
    "            loc=3)\n",
    "\n",
    "\n",
    "for dt, dt_r in remd_r_dt_d.items():\n",
    "    md_r = dt_r[(dt_r.temperature==0) & (dt_r.type==(0,0,0,1))]\n",
    "    lg_remd = ax[0,1].errorbar(int(dt)*tf,  md_r.rate.values, yerr=[ md_r.err_m.values ,\n",
    "                                                                   md_r.err_p.values ],\n",
    "                  c=cl[1], fmt=\".\",  label=r\"$h \\rightarrow c$\")\n",
    "    md_r = dt_r[(dt_r.temperature==0) & (dt_r.type==(0,1,0,0))]\n",
    "    \n",
    "    lg_remd2 = ax[0,1].errorbar(int(dt)*tf,  md_r.rate.values, yerr=[md_r.err_m.values ,\n",
    "                                                          md_r.err_p.values ],\n",
    "                  c=cl[3], fmt=\".\", label=r\"$c \\rightarrow h$\" )\n",
    "\n",
    "ax[0,1].legend([lg_remd, lg_remd2], [r\"REMD $h \\rightarrow c$\",\n",
    "                               r\"REMD $c \\rightarrow h$\"], loc=3)\n",
    "\n",
    "# mfpt h\n",
    "ax[0,1].plot(remd_lagtime_ar*tf, inv_lifetime_two_state_lagtime(\n",
    "    remd_lagtime_ar*tf, popt_ph[0][0], kex_fit_remd),\n",
    "          c=cl[3])\n",
    "# mfpt c\n",
    "ax[0,1].plot(remd_lagtime_ar*tf, inv_lifetime_two_state_lagtime(\n",
    "    remd_lagtime_ar*tf, popt_pc[0][0], kex_fit_remd),\n",
    "          c=cl[1])\n",
    "\n",
    "# minor states: light blue and grey?\n",
    "for dt, dt_r in md_r_dt_d.items():\n",
    "    md_r = dt_r[(dt_r.temperature==0) & (dt_r.type.isin(trans_from_10))]\n",
    "    _sum = md_r.rate.sum()\n",
    "    if _sum > 0:\n",
    "        _N = md_r.sym_weight.sum()\n",
    "        lg3, = ax[1,0].plot(int(dt)*tf, _sum, \".\",c=cl[4])\n",
    "        ax[1,0].plot([int(dt)*tf]*2, [ _sum*np.exp(1/_N**0.5), _sum*np.exp(-1/_N**0.5)],\n",
    "                            \"-\", c=cl[4])\n",
    "\n",
    "for dt, dt_r in md_r_dt_d.items():\n",
    "    md_r = dt_r[(dt_r.temperature==0) & (dt_r.type.isin(trans_from_11))]\n",
    "    _sum = md_r.rate.sum()\n",
    "    if _sum > 0:\n",
    "        _N = md_r.sym_weight.sum()\n",
    "        lg4, = ax[1,0].plot(int(dt)*tf, _sum, \".\",c=cl[5])\n",
    "        ax[1,0].plot([int(dt)*tf]*2, [ _sum*np.exp(1/_N**0.5), _sum*np.exp(-1/_N**0.5)],\n",
    "                            \"-\", c=cl[5])\n",
    "        \n",
    "ax[1,0].legend([lg3, lg4], [r'MD $\\sum_{l(\\neq)3}k_{l3}$',\n",
    "                           r'MD $\\sum_{l(\\neq)4}k_{l4}$'],\n",
    "               loc=3, handletextpad=-0.5,handleheight=0.5,\n",
    "              borderaxespad=0.01)\n",
    "        \n",
    "for dt, dt_r in remd_r_dt_d.items():\n",
    "    md_r = dt_r[(dt_r.temperature==0) & (dt_r.type.isin(trans_from_10))]\n",
    "    _sum = md_r.rate.sum()\n",
    "    if _sum > 0:\n",
    "        #_tau = 1.0 / _sum\n",
    "        _N = md_r.sym_weight.sum()\n",
    "        lg3, = ax[1,1].plot(int(dt)*tf, _sum, \".\",c=cl[4])\n",
    "        ax[1,1].plot([int(dt)*tf]*2, [ _sum*np.exp(1/_N**0.5), _sum*np.exp(-1/_N**0.5)],\n",
    "                            \"-\", c=cl[4])        \n",
    "\n",
    "for dt, dt_r in remd_r_dt_d.items():\n",
    "    md_r = dt_r[(dt_r.temperature==0) & (dt_r.type.isin(trans_from_11))]\n",
    "    _sum = md_r.rate.sum()\n",
    "    if _sum > 0:\n",
    "        _N = md_r.sym_weight.sum()\n",
    "        lg4, = ax[1,1].plot(int(dt)*tf, _sum, \".\",c=cl[5])\n",
    "        ax[1,1].plot([int(dt)*tf]*2, [ _sum*np.exp(1/_N**0.5), _sum*np.exp(-1/_N**0.5)],\n",
    "                            \"-\", c=cl[5])\n",
    "\n",
    "ax[1,1].legend([lg3, lg4], [r'REMD $\\sum_{l(\\neq)3}k_{l3}$',\n",
    "                           r'REMD $\\sum_{l(\\neq)4}k_{l4}$'],\n",
    "               loc=3, handletextpad=-0.5,handleheight=0.5,\n",
    "              borderaxespad=0.01)\n",
    "            \n",
    "ax[1,0].plot(syn_ar[:,0], syn_ar[:,1], c='grey')\n",
    "ax[1,0].plot(syn_ar[:,0], syn_ar[:,2], c='black')    \n",
    "ax[1,1].plot(syn_ar[:,0], syn_ar[:,1], c='grey')\n",
    "ax[1,1].plot(syn_ar[:,0], syn_ar[:,2], c='black')\n",
    "    \n",
    "\n",
    "for a in ax.flat:\n",
    "    a.loglog()\n",
    "    a.set_xlabel(\"$\\mathregular{\\Delta t \\, [ns]}$\", fontsize=12)\n",
    "    a.set_xlim(10**-3.2, 10**1)\n",
    "    a.tick_params(axis='both', which='major', labelsize=12)\n",
    "    \n",
    "for i, a in enumerate(fig_l[:2]):\n",
    "    ax.flat[i].text(10**-4.7, 10**1, a, fontsize=20)\n",
    "    ax.flat[i].set_ylabel(r\"$\\mathregular{k \\, [ns]}$\", fontsize=12)\n",
    "\n",
    "    \n",
    "for i, a in enumerate(fig_l[2:]):\n",
    "    ax.flat[i+2].text(10**-4.7, 10**2, a, fontsize=20)\n",
    "    ax.flat[i+2].set_ylabel(r\"$\\mathregular{k \\, [ns]}$\", fontsize=12)\n",
    "    \n",
    "    \n",
    "    \n",
    "fig.tight_layout()\n",
    "fig.savefig(\"plots/k_fit_all2.png\", dpi=600)\n",
    "fig.savefig(\"plots/k_fit_ala2.pdf\" )"
   ]
  },
  {
   "cell_type": "markdown",
   "metadata": {
    "run_control": {
     "frozen": false,
     "read_only": false
    }
   },
   "source": [
    "### Minor states\n",
    "* prepare arrays?\n",
    "* fit data"
   ]
  },
  {
   "cell_type": "code",
   "execution_count": 46,
   "metadata": {
    "collapsed": false,
    "run_control": {
     "frozen": false,
     "read_only": false
    }
   },
   "outputs": [
    {
     "data": {
      "text/plain": [
       "[]"
      ]
     },
     "execution_count": 46,
     "metadata": {},
     "output_type": "execute_result"
    },
    {
     "data": {
      "image/png": "[encoded data removed]",
      "text/plain": [
       "<matplotlib.figure.Figure at 0x7f1f8bd7b0d0>"
      ]
     },
     "metadata": {},
     "output_type": "display_data"
    }
   ],
   "source": [
    "fig, ax = plt.subplots(figsize=(3,3))\n",
    "for dt, dt_r in remd_r_dt_d.items():\n",
    "    md_r = dt_r[(dt_r.temperature==0) & (dt_r.type.isin(trans_from_10))]\n",
    "    _sum = md_r.rate.sum()\n",
    "    if _sum > 0:\n",
    "        #_tau = 1.0 / _sum\n",
    "        _N = md_r.sym_weight.sum()\n",
    "        lg3, = ax.plot(int(dt)*tf, _sum, \".\",c=cl[4])\n",
    "        ax.plot([int(dt)*tf]*2, [ _sum*np.exp(1/_N**0.5), _sum*np.exp(-1/_N**0.5)],\n",
    "                            \"-\", c=cl[4])  \n",
    "\n",
    "plt.loglog()"
   ]
  },
  {
   "cell_type": "markdown",
   "metadata": {
    "run_control": {
     "frozen": false,
     "read_only": false
    }
   },
   "source": [
    "### Parameter comparison"
   ]
  },
  {
   "cell_type": "code",
   "execution_count": 47,
   "metadata": {
    "collapsed": false,
    "run_control": {
     "frozen": false,
     "read_only": false
    }
   },
   "outputs": [
    {
     "data": {
      "text/html": [
       "<div>\n",
       "<table border=\"1\" class=\"dataframe\">\n",
       "  <thead>\n",
       "    <tr style=\"text-align: right;\">\n",
       "      <th></th>\n",
       "      <th>temperature</th>\n",
       "      <th>(0, 0)</th>\n",
       "      <th>(0, 1)</th>\n",
       "      <th>(1, 0)</th>\n",
       "      <th>(1, 1)</th>\n",
       "    </tr>\n",
       "  </thead>\n",
       "  <tbody>\n",
       "    <tr>\n",
       "      <th>0</th>\n",
       "      <td>0</td>\n",
       "      <td>0.385587</td>\n",
       "      <td>0.590193</td>\n",
       "      <td>0.022453</td>\n",
       "      <td>0.001767</td>\n",
       "    </tr>\n",
       "  </tbody>\n",
       "</table>\n",
       "</div>"
      ],
      "text/plain": [
       "   temperature    (0, 0)    (0, 1)    (1, 0)    (1, 1)\n",
       "0            0  0.385587  0.590193  0.022453  0.001767"
      ]
     },
     "execution_count": 47,
     "metadata": {},
     "output_type": "execute_result"
    }
   ],
   "source": [
    "remd_dt1_pt = pd.read_pickle(\"../dt1/remd_dt1/ala_remd_st1_dt1ps__6jan16_pop.pickle\")\n",
    "remd_dt1_pt[(remd_dt1_pt.temperature==0) ]"
   ]
  },
  {
   "cell_type": "code",
   "execution_count": 48,
   "metadata": {
    "collapsed": false,
    "run_control": {
     "frozen": false,
     "read_only": false
    }
   },
   "outputs": [
    {
     "name": "stdout",
     "output_type": "stream",
     "text": [
      "0.599287235024 0.400712764976\n"
     ]
    }
   ],
   "source": [
    "print pc_remd, ph_remd"
   ]
  },
  {
   "cell_type": "code",
   "execution_count": 49,
   "metadata": {
    "collapsed": false,
    "run_control": {
     "frozen": false,
     "read_only": false
    }
   },
   "outputs": [
    {
     "name": "stdout",
     "output_type": "stream",
     "text": [
      "0.594988630152 0.405011369848\n"
     ]
    }
   ],
   "source": [
    "print pc, ph"
   ]
  },
  {
   "cell_type": "markdown",
   "metadata": {
    "run_control": {
     "frozen": false,
     "read_only": false
    }
   },
   "source": [
    "## Looking at some observation intervals"
   ]
  },
  {
   "cell_type": "code",
   "execution_count": 50,
   "metadata": {
    "collapsed": false,
    "run_control": {
     "frozen": false,
     "read_only": false
    }
   },
   "outputs": [
    {
     "data": {
      "text/html": [
       "<div>\n",
       "<table border=\"1\" class=\"dataframe\">\n",
       "  <thead>\n",
       "    <tr style=\"text-align: right;\">\n",
       "      <th></th>\n",
       "      <th>temperature</th>\n",
       "      <th>type</th>\n",
       "      <th>rate</th>\n",
       "      <th>events</th>\n",
       "      <th>sum_weight</th>\n",
       "      <th>rev_events</th>\n",
       "      <th>rev_sum_weight</th>\n",
       "      <th>sym_weight</th>\n",
       "      <th>std_p</th>\n",
       "      <th>std_m</th>\n",
       "      <th>err_m</th>\n",
       "      <th>err_p</th>\n",
       "    </tr>\n",
       "  </thead>\n",
       "  <tbody>\n",
       "    <tr>\n",
       "      <th>0</th>\n",
       "      <td>0</td>\n",
       "      <td>(0, 0, 0, 1)</td>\n",
       "      <td>5.152059</td>\n",
       "      <td>457</td>\n",
       "      <td>300.810137</td>\n",
       "      <td>470</td>\n",
       "      <td>303.934524</td>\n",
       "      <td>604.744661</td>\n",
       "      <td>5.365882</td>\n",
       "      <td>4.946756</td>\n",
       "      <td>0.205303</td>\n",
       "      <td>0.213823</td>\n",
       "    </tr>\n",
       "  </tbody>\n",
       "</table>\n",
       "</div>"
      ],
      "text/plain": [
       "   temperature          type      rate  events  sum_weight  rev_events  \\\n",
       "0            0  (0, 0, 0, 1)  5.152059     457  300.810137         470   \n",
       "\n",
       "   rev_sum_weight  sym_weight     std_p     std_m     err_m     err_p  \n",
       "0      303.934524  604.744661  5.365882  4.946756  0.205303  0.213823  "
      ]
     },
     "execution_count": 50,
     "metadata": {},
     "output_type": "execute_result"
    }
   ],
   "source": [
    "remd_r_dt_d['10'][(remd_r_dt_d['10'].temperature==0) & (remd_r_dt_d['10'].type==(0,0,0,1))]"
   ]
  },
  {
   "cell_type": "code",
   "execution_count": 51,
   "metadata": {
    "collapsed": false,
    "run_control": {
     "frozen": false,
     "read_only": false
    }
   },
   "outputs": [
    {
     "data": {
      "text/html": [
       "<div>\n",
       "<table border=\"1\" class=\"dataframe\">\n",
       "  <thead>\n",
       "    <tr style=\"text-align: right;\">\n",
       "      <th></th>\n",
       "      <th>temperature</th>\n",
       "      <th>type</th>\n",
       "      <th>rate</th>\n",
       "      <th>events</th>\n",
       "      <th>sum_weight</th>\n",
       "      <th>rev_events</th>\n",
       "      <th>rev_sum_weight</th>\n",
       "      <th>sym_weight</th>\n",
       "      <th>std_p</th>\n",
       "      <th>std_m</th>\n",
       "      <th>err_m</th>\n",
       "      <th>err_p</th>\n",
       "    </tr>\n",
       "  </thead>\n",
       "  <tbody>\n",
       "    <tr>\n",
       "      <th>0</th>\n",
       "      <td>0</td>\n",
       "      <td>(0, 0, 0, 1)</td>\n",
       "      <td>2.71739</td>\n",
       "      <td>351</td>\n",
       "      <td>159.202489</td>\n",
       "      <td>362</td>\n",
       "      <td>170.142929</td>\n",
       "      <td>329.345418</td>\n",
       "      <td>2.871328</td>\n",
       "      <td>2.571704</td>\n",
       "      <td>0.145685</td>\n",
       "      <td>0.153938</td>\n",
       "    </tr>\n",
       "  </tbody>\n",
       "</table>\n",
       "</div>"
      ],
      "text/plain": [
       "   temperature          type     rate  events  sum_weight  rev_events  \\\n",
       "0            0  (0, 0, 0, 1)  2.71739     351  159.202489         362   \n",
       "\n",
       "   rev_sum_weight  sym_weight     std_p     std_m     err_m     err_p  \n",
       "0      170.142929  329.345418  2.871328  2.571704  0.145685  0.153938  "
      ]
     },
     "execution_count": 51,
     "metadata": {},
     "output_type": "execute_result"
    }
   ],
   "source": [
    "remd_r_dt_d['100'][(remd_r_dt_d['100'].temperature==0) & (remd_r_dt_d['100'].type==(0,0,0,1))]"
   ]
  },
  {
   "cell_type": "code",
   "execution_count": 52,
   "metadata": {
    "collapsed": false,
    "run_control": {
     "frozen": false,
     "read_only": false
    }
   },
   "outputs": [
    {
     "data": {
      "text/html": [
       "<div>\n",
       "<table border=\"1\" class=\"dataframe\">\n",
       "  <thead>\n",
       "    <tr style=\"text-align: right;\">\n",
       "      <th></th>\n",
       "      <th>temperature</th>\n",
       "      <th>type</th>\n",
       "      <th>rate</th>\n",
       "      <th>events</th>\n",
       "      <th>sum_weight</th>\n",
       "      <th>rev_events</th>\n",
       "      <th>rev_sum_weight</th>\n",
       "      <th>sym_weight</th>\n",
       "      <th>std_p</th>\n",
       "      <th>std_m</th>\n",
       "      <th>err_m</th>\n",
       "      <th>err_p</th>\n",
       "    </tr>\n",
       "  </thead>\n",
       "  <tbody>\n",
       "    <tr>\n",
       "      <th>0</th>\n",
       "      <td>0</td>\n",
       "      <td>(0, 0, 0, 1)</td>\n",
       "      <td>5.003192</td>\n",
       "      <td>875</td>\n",
       "      <td>875</td>\n",
       "      <td>875</td>\n",
       "      <td>875</td>\n",
       "      <td>1750</td>\n",
       "      <td>5.124232</td>\n",
       "      <td>4.885011</td>\n",
       "      <td>0.118181</td>\n",
       "      <td>0.12104</td>\n",
       "    </tr>\n",
       "  </tbody>\n",
       "</table>\n",
       "</div>"
      ],
      "text/plain": [
       "   temperature          type      rate  events  sum_weight  rev_events  \\\n",
       "0            0  (0, 0, 0, 1)  5.003192     875         875         875   \n",
       "\n",
       "   rev_sum_weight  sym_weight     std_p     std_m     err_m    err_p  \n",
       "0             875        1750  5.124232  4.885011  0.118181  0.12104  "
      ]
     },
     "execution_count": 52,
     "metadata": {},
     "output_type": "execute_result"
    }
   ],
   "source": [
    "md_r_dt_d['10'][(md_r_dt_d['10'].temperature==0) & (md_r_dt_d['10'].type==(0,0,0,1))]"
   ]
  },
  {
   "cell_type": "code",
   "execution_count": 53,
   "metadata": {
    "collapsed": false,
    "run_control": {
     "frozen": false,
     "read_only": false
    }
   },
   "outputs": [
    {
     "data": {
      "text/html": [
       "<div>\n",
       "<table border=\"1\" class=\"dataframe\">\n",
       "  <thead>\n",
       "    <tr style=\"text-align: right;\">\n",
       "      <th></th>\n",
       "      <th>temperature</th>\n",
       "      <th>type</th>\n",
       "      <th>rate</th>\n",
       "      <th>events</th>\n",
       "      <th>sum_weight</th>\n",
       "      <th>rev_events</th>\n",
       "      <th>rev_sum_weight</th>\n",
       "      <th>sym_weight</th>\n",
       "      <th>std_p</th>\n",
       "      <th>std_m</th>\n",
       "      <th>err_m</th>\n",
       "      <th>err_p</th>\n",
       "    </tr>\n",
       "  </thead>\n",
       "  <tbody>\n",
       "    <tr>\n",
       "      <th>0</th>\n",
       "      <td>0</td>\n",
       "      <td>(0, 0, 0, 1)</td>\n",
       "      <td>3.527203</td>\n",
       "      <td>643</td>\n",
       "      <td>643</td>\n",
       "      <td>644</td>\n",
       "      <td>644</td>\n",
       "      <td>1287</td>\n",
       "      <td>3.626906</td>\n",
       "      <td>3.430241</td>\n",
       "      <td>0.096962</td>\n",
       "      <td>0.099703</td>\n",
       "    </tr>\n",
       "  </tbody>\n",
       "</table>\n",
       "</div>"
      ],
      "text/plain": [
       "   temperature          type      rate  events  sum_weight  rev_events  \\\n",
       "0            0  (0, 0, 0, 1)  3.527203     643         643         644   \n",
       "\n",
       "   rev_sum_weight  sym_weight     std_p     std_m     err_m     err_p  \n",
       "0             644        1287  3.626906  3.430241  0.096962  0.099703  "
      ]
     },
     "execution_count": 53,
     "metadata": {},
     "output_type": "execute_result"
    }
   ],
   "source": [
    "md_r_dt_d['50'][(md_r_dt_d['50'].temperature==0) & (md_r_dt_d['50'].type==(0,0,0,1))]"
   ]
  },
  {
   "cell_type": "code",
   "execution_count": 54,
   "metadata": {
    "collapsed": false,
    "run_control": {
     "frozen": false,
     "read_only": false
    }
   },
   "outputs": [
    {
     "data": {
      "text/html": [
       "<div>\n",
       "<table border=\"1\" class=\"dataframe\">\n",
       "  <thead>\n",
       "    <tr style=\"text-align: right;\">\n",
       "      <th></th>\n",
       "      <th>temperature</th>\n",
       "      <th>type</th>\n",
       "      <th>rate</th>\n",
       "      <th>events</th>\n",
       "      <th>sum_weight</th>\n",
       "      <th>rev_events</th>\n",
       "      <th>rev_sum_weight</th>\n",
       "      <th>sym_weight</th>\n",
       "      <th>std_p</th>\n",
       "      <th>std_m</th>\n",
       "      <th>err_m</th>\n",
       "      <th>err_p</th>\n",
       "    </tr>\n",
       "  </thead>\n",
       "  <tbody>\n",
       "    <tr>\n",
       "      <th>0</th>\n",
       "      <td>0</td>\n",
       "      <td>(0, 0, 0, 1)</td>\n",
       "      <td>2.531099</td>\n",
       "      <td>473</td>\n",
       "      <td>473</td>\n",
       "      <td>473</td>\n",
       "      <td>473</td>\n",
       "      <td>946</td>\n",
       "      <td>2.614745</td>\n",
       "      <td>2.450129</td>\n",
       "      <td>0.08097</td>\n",
       "      <td>0.083646</td>\n",
       "    </tr>\n",
       "  </tbody>\n",
       "</table>\n",
       "</div>"
      ],
      "text/plain": [
       "   temperature          type      rate  events  sum_weight  rev_events  \\\n",
       "0            0  (0, 0, 0, 1)  2.531099     473         473         473   \n",
       "\n",
       "   rev_sum_weight  sym_weight     std_p     std_m    err_m     err_p  \n",
       "0             473         946  2.614745  2.450129  0.08097  0.083646  "
      ]
     },
     "execution_count": 54,
     "metadata": {},
     "output_type": "execute_result"
    }
   ],
   "source": [
    "md_r_dt_d['100'][(md_r_dt_d['100'].temperature==0) & (md_r_dt_d['100'].type==(0,0,0,1))]"
   ]
  },
  {
   "cell_type": "code",
   "execution_count": 55,
   "metadata": {
    "collapsed": false,
    "run_control": {
     "frozen": false,
     "read_only": false
    }
   },
   "outputs": [
    {
     "data": {
      "text/html": [
       "<div>\n",
       "<table border=\"1\" class=\"dataframe\">\n",
       "  <thead>\n",
       "    <tr style=\"text-align: right;\">\n",
       "      <th></th>\n",
       "      <th>temperature</th>\n",
       "      <th>type</th>\n",
       "      <th>rate</th>\n",
       "      <th>events</th>\n",
       "      <th>sum_weight</th>\n",
       "      <th>rev_events</th>\n",
       "      <th>rev_sum_weight</th>\n",
       "      <th>sym_weight</th>\n",
       "      <th>std_p</th>\n",
       "      <th>std_m</th>\n",
       "      <th>err_m</th>\n",
       "      <th>err_p</th>\n",
       "    </tr>\n",
       "  </thead>\n",
       "  <tbody>\n",
       "    <tr>\n",
       "      <th>0</th>\n",
       "      <td>0</td>\n",
       "      <td>(0, 0, 0, 1)</td>\n",
       "      <td>0.16897</td>\n",
       "      <td>27</td>\n",
       "      <td>27</td>\n",
       "      <td>27</td>\n",
       "      <td>27</td>\n",
       "      <td>54</td>\n",
       "      <td>0.193602</td>\n",
       "      <td>0.147472</td>\n",
       "      <td>0.021498</td>\n",
       "      <td>0.024632</td>\n",
       "    </tr>\n",
       "  </tbody>\n",
       "</table>\n",
       "</div>"
      ],
      "text/plain": [
       "   temperature          type     rate  events  sum_weight  rev_events  \\\n",
       "0            0  (0, 0, 0, 1)  0.16897      27          27          27   \n",
       "\n",
       "   rev_sum_weight  sym_weight     std_p     std_m     err_m     err_p  \n",
       "0              27          54  0.193602  0.147472  0.021498  0.024632  "
      ]
     },
     "execution_count": 55,
     "metadata": {},
     "output_type": "execute_result"
    }
   ],
   "source": [
    "md_r_dt_d['2500'][(md_r_dt_d['2500'].temperature==0) & (md_r_dt_d['2500'].type==(0,0,0,1))]"
   ]
  },
  {
   "cell_type": "markdown",
   "metadata": {
    "run_control": {
     "frozen": false,
     "read_only": false
    }
   },
   "source": [
    "# Second moment of lifetime distribution\n",
    "\n",
    "How exponential are the lifetime distributions?\n",
    "\n",
    "\\begin{equation}\n",
    "\\frac{<\\tau^2> - <\\tau>^2}{<\\tau>^2} =1\n",
    "\\end{equation}\n",
    "\n",
    "\n",
    "## MD"
   ]
  },
  {
   "cell_type": "code",
   "execution_count": 56,
   "metadata": {
    "collapsed": false,
    "run_control": {
     "frozen": false,
     "read_only": false
    },
    "scrolled": true
   },
   "outputs": [],
   "source": [
    "%%capture l\n",
    "\n",
    "! ls ../dt*/md_dt*/\n"
   ]
  },
  {
   "cell_type": "code",
   "execution_count": 57,
   "metadata": {
    "collapsed": false,
    "run_control": {
     "frozen": false,
     "read_only": false
    }
   },
   "outputs": [],
   "source": [
    "%%capture l\n",
    "! ls ../dt*/md_dt*/*__6jan16_blNone_tp.pickle"
   ]
  },
  {
   "cell_type": "code",
   "execution_count": 58,
   "metadata": {
    "collapsed": false,
    "run_control": {
     "frozen": false,
     "read_only": false
    }
   },
   "outputs": [],
   "source": [
    "dt_key_l = list(md_r_dt_d.keys())\n",
    "#dt_key_l.remove(\"1\")"
   ]
  },
  {
   "cell_type": "code",
   "execution_count": 59,
   "metadata": {
    "collapsed": false,
    "run_control": {
     "frozen": false,
     "read_only": false
    }
   },
   "outputs": [],
   "source": [
    "md_dt_tp_d = {}\n",
    "md_dt_state_d = {}\n",
    "\n",
    "#for key in md_r_dt_d.keys():\n",
    "for key in dt_key_l:\n",
    "    #print \"../dt{}/md*/*blNone_tp.pickle\".format(dt)\n",
    "    #dt_tp_l  = [glob.glob(\"../dt{}/md*/md_st{}*blNone_tp.pickle\".format(dt,st))[0] for st in range(1,4)]\n",
    "    _dt_tp_l = []\n",
    "    _dt_st_l = []\n",
    "    for st in range(1,4):\n",
    "        _dt_tp_l.extend(glob.glob(\"../dt{}/md*/md_st{}*__6jan16_blNone_tp.pickle\".format(key,st)))\n",
    "        _dt_st_l.extend(glob.glob(\"../dt{}/md*/md_st{}*__6jan16_blNone_tba.pickle\".format(key,st)))\n",
    "    md_dt_tp_d[key] = _dt_tp_l\n",
    "    md_dt_state_d[key] = _dt_st_l\n",
    "    \n",
    "    #dt_tp_l = glob.glob(\"../dt{}/md*/md_st{}*blNone_tp.pickle\".format(dt))\n",
    "    #print dt_tp_l"
   ]
  },
  {
   "cell_type": "code",
   "execution_count": null,
   "metadata": {
    "collapsed": false,
    "run_control": {
     "frozen": false,
     "read_only": false
    }
   },
   "outputs": [],
   "source": []
  },
  {
   "cell_type": "markdown",
   "metadata": {
    "run_control": {
     "frozen": false,
     "read_only": false
    }
   },
   "source": [
    "need to load tp and state dataframes, for each dt value and each of the three stages."
   ]
  },
  {
   "cell_type": "code",
   "execution_count": 60,
   "metadata": {
    "collapsed": false,
    "run_control": {
     "frozen": false,
     "read_only": false
    }
   },
   "outputs": [
    {
     "name": "stderr",
     "output_type": "stream",
     "text": [
      "0%                          100%\n",
      "[                              ]"
     ]
    },
    {
     "name": "stdout",
     "output_type": "stream",
     "text": [
      "200\n",
      "5000"
     ]
    },
    {
     "name": "stderr",
     "output_type": "stream",
     "text": [
      "[#                             ] | ETA: 00:01:25"
     ]
    },
    {
     "name": "stdout",
     "output_type": "stream",
     "text": [
      "\n",
      "20"
     ]
    },
    {
     "name": "stderr",
     "output_type": "stream",
     "text": [
      "[##                            ] | ETA: 00:03:05"
     ]
    },
    {
     "name": "stdout",
     "output_type": "stream",
     "text": [
      "\n",
      "10"
     ]
    },
    {
     "name": "stderr",
     "output_type": "stream",
     "text": [
      "[###                           ] | ETA: 00:04:01"
     ]
    },
    {
     "name": "stdout",
     "output_type": "stream",
     "text": [
      "\n",
      "50\n",
      "1"
     ]
    },
    {
     "name": "stderr",
     "output_type": "stream",
     "text": [
      "[####                          ] | ETA: 00:05:11"
     ]
    },
    {
     "name": "stdout",
     "output_type": "stream",
     "text": [
      "\n",
      "2"
     ]
    },
    {
     "name": "stderr",
     "output_type": "stream",
     "text": [
      "[#####                         ] | ETA: 00:05:33"
     ]
    },
    {
     "name": "stdout",
     "output_type": "stream",
     "text": [
      "\n",
      "5"
     ]
    },
    {
     "name": "stderr",
     "output_type": "stream",
     "text": [
      "[######                        ] | ETA: 00:05:35"
     ]
    },
    {
     "name": "stdout",
     "output_type": "stream",
     "text": [
      "\n",
      "25\n",
      "100"
     ]
    },
    {
     "name": "stderr",
     "output_type": "stream",
     "text": [
      "[#######                       ] | ETA: 00:05:00"
     ]
    },
    {
     "name": "stdout",
     "output_type": "stream",
     "text": [
      "\n",
      "2500"
     ]
    },
    {
     "name": "stderr",
     "output_type": "stream",
     "text": [
      "[########                      ] | ETA: 00:04:25"
     ]
    },
    {
     "name": "stdout",
     "output_type": "stream",
     "text": [
      "\n",
      "500"
     ]
    },
    {
     "name": "stderr",
     "output_type": "stream",
     "text": [
      "[#########                     ] | ETA: 00:03:59"
     ]
    },
    {
     "name": "stdout",
     "output_type": "stream",
     "text": [
      "\n",
      "1000\n"
     ]
    }
   ],
   "source": [
    "md_dt_hdw_d = {}\n",
    "md_dt_cdw_d = {}\n",
    "md_dt_11dw_d = {}\n",
    "md_dt_10dw_d = {}\n",
    "\n",
    "bar = pyprind.ProgBar(len(dt_key_l)*3)\n",
    "\n",
    "for k, v in md_dt_tp_d.items():\n",
    "    _tba = md_dt_state_d[k]\n",
    "    print k\n",
    "    md_h_l = []\n",
    "    md_c_l = []\n",
    "    md_11_l = []\n",
    "    md_10_l = []\n",
    "    \n",
    "    for i, _tp_fn in enumerate(v):\n",
    "        _st_fn = _tba[i]\n",
    "        \n",
    "        _tp_df = pd.read_pickle(_tp_fn)\n",
    "        _st_df = pd.read_pickle(_st_fn)\n",
    "        \n",
    "        _tp_df0 = _tp_df[_tp_df.temperature==0]\n",
    "        _st_df0 = _st_df[_st_df.temperature==0]\n",
    "        \n",
    "        _dw_h = loop_dwell_trans_temp(_tp_df0,\n",
    "                                      _st_df0, trans_from_h, tu=float(k))\n",
    "        md_h_l.append(_dw_h)\n",
    "        _dw_c = loop_dwell_trans_temp(_tp_df0,\n",
    "                                      _st_df0, trans_from_c, tu=float(k))\n",
    "        md_c_l.append(_dw_c)\n",
    "        \n",
    "        # lifetimes in the minor states\n",
    "        \n",
    "        _dw_10 = loop_dwell_trans_temp(_tp_df0,\n",
    "                                      _st_df0, trans_from_10, tu=float(k))\n",
    "        md_10_l.append(_dw_10)\n",
    "        \n",
    "        _dw_11 = loop_dwell_trans_temp(_tp_df0,\n",
    "                                      _st_df0, trans_from_11, tu=float(k))\n",
    "        md_11_l.append(_dw_11)\n",
    "        \n",
    "    \n",
    "    md_dt_hdw_d[k] = pd.concat(md_h_l)\n",
    "    md_dt_cdw_d[k] = pd.concat(md_c_l)\n",
    "    md_dt_10dw_d[k] = pd.concat(md_10_l)\n",
    "    md_dt_11dw_d[k] = pd.concat(md_11_l)\n",
    "    \n",
    "    bar.update()"
   ]
  },
  {
   "cell_type": "code",
   "execution_count": 61,
   "metadata": {
    "collapsed": true,
    "run_control": {
     "frozen": false,
     "read_only": false
    }
   },
   "outputs": [],
   "source": [
    "_blog = np.logspace(-3,1, 5000)"
   ]
  },
  {
   "cell_type": "code",
   "execution_count": 62,
   "metadata": {
    "collapsed": false,
    "run_control": {
     "frozen": false,
     "read_only": false
    }
   },
   "outputs": [
    {
     "data": {
      "image/png": "[encoded data removed]",
      "text/plain": [
       "<matplotlib.figure.Figure at 0x7f1f8ca2af90>"
      ]
     },
     "metadata": {},
     "output_type": "display_data"
    }
   ],
   "source": [
    "fig, ax = plt.subplots(1,2, figsize=(12,3))\n",
    "\n",
    "tf = 1.0 / 1000\n",
    "\n",
    "_ = fit_plot_cdf(ax[0], md_dt_hdw_d['1'].wait_T * tf, bins=_blog)\n",
    "_ = fit_plot_cdf(ax[0], md_dt_hdw_d['5'].wait_T * tf, bins=_blog, plot_fit=False)\n",
    "_ = fit_plot_cdf(ax[0], md_dt_hdw_d['10'].wait_T * tf, bins=_blog, plot_fit=False)\n",
    "\n",
    "_ = fit_plot_cdf(ax[0], md_dt_hdw_d['20'].wait_T * tf, bins=_blog, plot_fit=False)\n",
    "\n",
    "_ = fit_plot_cdf(ax[1], md_dt_cdw_d['5'].wait_T * tf, bins=_blog)\n",
    "_ = fit_plot_cdf(ax[1], md_dt_hdw_d['5'].wait_T * tf, bins=_blog)\n",
    "\n",
    "#_ = fit_plot_cdf(ax[1], md_dt_cdw_d['10'].wait_T * tf, bins=_blog, plot_fit=False)\n",
    "#_ = fit_plot_cdf(ax[1], md_dt_cdw_d['20'].wait_T * tf, bins=_blog, plot_fit=False)\n",
    "\n",
    "for a in ax:\n",
    "    a.semilogx()"
   ]
  },
  {
   "cell_type": "code",
   "execution_count": 63,
   "metadata": {
    "collapsed": false,
    "run_control": {
     "frozen": false,
     "read_only": false
    }
   },
   "outputs": [
    {
     "data": {
      "text/plain": [
       "(0.031339272344492457, 0.062990794818652857)"
      ]
     },
     "execution_count": 63,
     "metadata": {},
     "output_type": "execute_result"
    }
   ],
   "source": [
    "np.mean( (md_dt_hdw_d['1'].wait_T.values / 1000.0))**2, np.mean((md_dt_hdw_d['1'].wait_T.values / 1000.0)**2)"
   ]
  },
  {
   "cell_type": "code",
   "execution_count": 64,
   "metadata": {
    "collapsed": false,
    "run_control": {
     "frozen": false,
     "read_only": false
    }
   },
   "outputs": [
    {
     "data": {
      "text/plain": [
       "(0.032181108575273634, 0.064244387776606959)"
      ]
     },
     "execution_count": 64,
     "metadata": {},
     "output_type": "execute_result"
    }
   ],
   "source": [
    " np.mean((md_dt_hdw_d['2'].wait_T.values / 1000.0))**2, np.mean((md_dt_hdw_d['2'].wait_T.values / 1000.0)**2)\n"
   ]
  },
  {
   "cell_type": "code",
   "execution_count": 65,
   "metadata": {
    "collapsed": false,
    "run_control": {
     "frozen": false,
     "read_only": false
    }
   },
   "outputs": [
    {
     "data": {
      "text/plain": [
       "0.99633855453845854"
      ]
     },
     "execution_count": 65,
     "metadata": {},
     "output_type": "execute_result"
    }
   ],
   "source": [
    "  (np.mean((md_dt_hdw_d['2'].wait_T.values / 1000.0)**2) - np.mean((md_dt_hdw_d['2'].wait_T.values / 1000.0))**2) / np.mean((md_dt_hdw_d['2'].wait_T.values / 1000.0))**2"
   ]
  },
  {
   "cell_type": "code",
   "execution_count": 66,
   "metadata": {
    "collapsed": false,
    "run_control": {
     "frozen": false,
     "read_only": false
    }
   },
   "outputs": [
    {
     "data": {
      "text/plain": [
       "0.9386983526467505"
      ]
     },
     "execution_count": 66,
     "metadata": {},
     "output_type": "execute_result"
    }
   ],
   "source": [
    "  (np.mean((md_dt_cdw_d['2'].wait_T.values / 1000.0)**2) - np.mean((md_dt_cdw_d['2'].wait_T.values / 1000.0))**2) / np.mean((md_dt_cdw_d['2'].wait_T.values / 1000.0))**2"
   ]
  },
  {
   "cell_type": "code",
   "execution_count": 67,
   "metadata": {
    "collapsed": false,
    "run_control": {
     "frozen": false,
     "read_only": false
    }
   },
   "outputs": [
    {
     "data": {
      "text/html": [
       "<div>\n",
       "<table border=\"1\" class=\"dataframe\">\n",
       "  <thead>\n",
       "    <tr style=\"text-align: right;\">\n",
       "      <th></th>\n",
       "      <th>temperature</th>\n",
       "      <th>type</th>\n",
       "      <th>rate</th>\n",
       "      <th>events</th>\n",
       "      <th>sum_weight</th>\n",
       "      <th>rev_events</th>\n",
       "      <th>rev_sum_weight</th>\n",
       "      <th>sym_weight</th>\n",
       "      <th>std_p</th>\n",
       "      <th>std_m</th>\n",
       "      <th>err_m</th>\n",
       "      <th>err_p</th>\n",
       "    </tr>\n",
       "  </thead>\n",
       "  <tbody>\n",
       "    <tr>\n",
       "      <th>0</th>\n",
       "      <td>0</td>\n",
       "      <td>(0, 0, 0, 1)</td>\n",
       "      <td>5.470084</td>\n",
       "      <td>949</td>\n",
       "      <td>949</td>\n",
       "      <td>948</td>\n",
       "      <td>948</td>\n",
       "      <td>1897</td>\n",
       "      <td>5.597129</td>\n",
       "      <td>5.345924</td>\n",
       "      <td>0.124161</td>\n",
       "      <td>0.127044</td>\n",
       "    </tr>\n",
       "  </tbody>\n",
       "</table>\n",
       "</div>"
      ],
      "text/plain": [
       "   temperature          type      rate  events  sum_weight  rev_events  \\\n",
       "0            0  (0, 0, 0, 1)  5.470084     949         949         948   \n",
       "\n",
       "   rev_sum_weight  sym_weight     std_p     std_m     err_m     err_p  \n",
       "0             948        1897  5.597129  5.345924  0.124161  0.127044  "
      ]
     },
     "execution_count": 67,
     "metadata": {},
     "output_type": "execute_result"
    }
   ],
   "source": [
    "md_r_dt_d['2'][(md_r_dt_d['2'].temperature==0) & (md_r_dt_d['2'].type==(0,0,0,1))]"
   ]
  },
  {
   "cell_type": "code",
   "execution_count": 68,
   "metadata": {
    "collapsed": false,
    "run_control": {
     "frozen": false,
     "read_only": false
    },
    "scrolled": true
   },
   "outputs": [
    {
     "name": "stdout",
     "output_type": "stream",
     "text": [
      "200 0.935154622657\n",
      "5000 0.836762688615\n",
      "20 0.884312109007\n",
      "10 0.950875362757\n",
      "50 0.79603216747\n",
      "1 1.00996354115\n",
      "2 0.996338554538\n",
      "5 0.973786170209\n",
      "25 0.903920504617\n",
      "100 0.847097685423\n",
      "1000 0.890311111111\n",
      "500 0.76576491658\n",
      "2500 0.474817377932\n"
     ]
    },
    {
     "data": {
      "image/png": "[encoded data removed]",
      "text/plain": [
       "<matplotlib.figure.Figure at 0x7f1f8bb0ca50>"
      ]
     },
     "metadata": {},
     "output_type": "display_data"
    }
   ],
   "source": [
    "fig, ax = plt.subplots(1,2, figsize=(6,3))\n",
    "\n",
    "for k, v in md_dt_hdw_d.items():\n",
    "    \n",
    "    msq_tau = np.mean(v.wait_T.values**2)\n",
    "    sqm_tau = np.mean(v.wait_T.values)**2\n",
    "    \n",
    "    _exp = (msq_tau - sqm_tau)/ sqm_tau\n",
    "    \n",
    "    print k,_exp\n",
    "    \n",
    "    ax[0].plot(k, _exp , \"o\", c=cl[0])   \n",
    "    \n",
    "    \n",
    "for k, v in md_dt_cdw_d.items():\n",
    "    \n",
    "    msq_tau = np.mean(v.wait_T.values**2)\n",
    "    sqm_tau = np.mean(v.wait_T.values)**2\n",
    "    \n",
    "    _exp = (msq_tau - sqm_tau)/ sqm_tau\n",
    "    \n",
    "    #print k,_exp\n",
    "    \n",
    "    ax[1].plot(k, _exp , \"o\", c=cl[2])   \n",
    "    \n",
    "ax[0].semilogx()\n",
    "ax[1].semilogx()\n",
    "\n",
    "for a in ax:\n",
    "    a.loglog()\n",
    "    a.set_ylim(10**-1, 10**2)\n",
    "    a.set_xlim(10**-0.1, 10**4)\n",
    "    a.set_ylabel(r\"$< \\tau^2> - <\\tau>^2/<\\tau>^2$\")\n",
    "    a.set_xlabel(\"$\\Delta t \\, [ps]$\")\n",
    "fig.tight_layout()"
   ]
  },
  {
   "cell_type": "markdown",
   "metadata": {
    "run_control": {
     "frozen": false,
     "read_only": false
    }
   },
   "source": [
    "### observation interval dependence for the lifetime in the helical state in MD"
   ]
  },
  {
   "cell_type": "code",
   "execution_count": 69,
   "metadata": {
    "collapsed": false,
    "run_control": {
     "frozen": false,
     "read_only": false
    }
   },
   "outputs": [
    {
     "name": "stdout",
     "output_type": "stream",
     "text": [
      "1.86\n"
     ]
    },
    {
     "data": {
      "image/png": "[encoded data removed]",
      "text/plain": [
       "<matplotlib.figure.Figure at 0x7f1f8bbeb850>"
      ]
     },
     "metadata": {},
     "output_type": "display_data"
    }
   ],
   "source": [
    "fig, ax = plt.subplots(figsize=(7.5,3))\n",
    "\n",
    "x,y = cumulative_hist_binfree(md_dt_hdw_d['5'].wait_T * tf)\n",
    "plt.plot(x,y)\n",
    "plt.semilogx()\n",
    "\n",
    "print x.max()"
   ]
  },
  {
   "cell_type": "code",
   "execution_count": 70,
   "metadata": {
    "collapsed": false,
    "run_control": {
     "frozen": false,
     "read_only": false
    }
   },
   "outputs": [
    {
     "data": {
      "image/png": "[encoded data removed]",
      "text/plain": [
       "<matplotlib.figure.Figure at 0x7f1f8bf6ad10>"
      ]
     },
     "metadata": {},
     "output_type": "display_data"
    }
   ],
   "source": [
    "fig, ax = plt.subplots(2,2, figsize=(15,6))\n",
    "\n",
    "tf = 1.0 / 1000\n",
    "\n",
    "_ = fit_plot_cdf(ax[0,0], md_dt_hdw_d['1'].wait_T * tf, bins=_blog,\n",
    "                dist_label=\"$h$, dt=1 ps\", )\n",
    "_ = fit_plot_cdf(ax[0,1], md_dt_hdw_d['5'].wait_T * tf, bins=_blog, plot_fit=False,\n",
    "                dist_label=\"$h$, dt=5 ps\")\n",
    "ax[0,1].plot(x,y, c=cl[5])\n",
    " \n",
    "_ = fit_plot_cdf(ax[1,0], md_dt_hdw_d['10'].wait_T * tf, bins=_blog, plot_fit=True,\n",
    "                dist_label=\"$h$, dt=10 ps\")\n",
    "\n",
    "_ = fit_plot_cdf(ax[1,1], md_dt_hdw_d['25'].wait_T * tf, bins=_blog, plot_fit=True,\n",
    "                dist_label=\"$h$, dt=25 ps\")\n",
    "#_ = fit_plot_cdf(ax[2,1], md_dt_hdw_d['50'].wait_T * tf, bins=_blog, plot_fit=True)\n",
    "\n",
    "\n",
    "_ = fit_plot_cdf(ax[0,0], md_dt_cdw_d['1'].wait_T * tf, bins=_blog,\n",
    "                dist_label=\"$c$, dt=1 ps\")\n",
    "_ = fit_plot_cdf(ax[0,1], md_dt_cdw_d['5'].wait_T * tf, bins=_blog, plot_fit=True,\n",
    "                dist_label=\"$c$, dt=5 ps\")\n",
    "_ = fit_plot_cdf(ax[1,0], md_dt_cdw_d['10'].wait_T * tf, bins=_blog, plot_fit=True,\n",
    "                dist_label=\"$c$, dt=10 ps\")\n",
    "\n",
    "_ = fit_plot_cdf(ax[1,1], md_dt_cdw_d['25'].wait_T * tf, bins=_blog, plot_fit=True,\n",
    "                dist_label=\"$c$, dt=25 ps\")\n",
    "#_ = fit_plot_cdf(ax[2,1], md_dt_cdw_d['50'].wait_T * tf, bins=_blog, plot_fit=True)\n",
    "\n",
    "\n",
    "for a in ax.flat:\n",
    "    a.semilogx()\n",
    "    a.legend(loc=2)"
   ]
  },
  {
   "cell_type": "code",
   "execution_count": 71,
   "metadata": {
    "collapsed": false,
    "run_control": {
     "frozen": false,
     "read_only": false
    }
   },
   "outputs": [
    {
     "data": {
      "text/plain": [
       "(count     920.000000\n",
       " mean      183.554348\n",
       " std       181.231062\n",
       " min         5.000000\n",
       " 25%        55.000000\n",
       " 50%       125.000000\n",
       " 75%       255.000000\n",
       " max      1860.000000\n",
       " Name: wait_T, dtype: float64, count     965.000000\n",
       " mean      177.029016\n",
       " std       178.001000\n",
       " min         1.000000\n",
       " 25%        53.000000\n",
       " 50%       120.000000\n",
       " 75%       251.000000\n",
       " max      1869.000000\n",
       " Name: wait_T, dtype: float64, count     875.000000\n",
       " mean      190.720000\n",
       " std       186.082849\n",
       " min        10.000000\n",
       " 25%        60.000000\n",
       " 50%       130.000000\n",
       " 75%       265.000000\n",
       " max      1860.000000\n",
       " Name: wait_T, dtype: float64)"
      ]
     },
     "execution_count": 71,
     "metadata": {},
     "output_type": "execute_result"
    }
   ],
   "source": [
    "md_dt_hdw_d['5'].wait_T.describe(), md_dt_hdw_d['1'].wait_T.describe(), md_dt_hdw_d['10'].wait_T.describe()"
   ]
  },
  {
   "cell_type": "code",
   "execution_count": 72,
   "metadata": {
    "collapsed": false,
    "run_control": {
     "frozen": false,
     "read_only": false
    }
   },
   "outputs": [
    {
     "data": {
      "text/plain": [
       "(1.0110112211736162, 31684.356003697863, 177.02901554404144)"
      ]
     },
     "execution_count": 72,
     "metadata": {},
     "output_type": "execute_result"
    }
   ],
   "source": [
    "md_dt_hdw_d['1'].wait_T.var() / md_dt_hdw_d['1'].wait_T.mean()**2, md_dt_hdw_d['1'].wait_T.var(), md_dt_hdw_d['1'].wait_T.mean()"
   ]
  },
  {
   "cell_type": "code",
   "execution_count": 73,
   "metadata": {
    "collapsed": false,
    "run_control": {
     "frozen": false,
     "read_only": false
    }
   },
   "outputs": [
    {
     "data": {
      "text/plain": [
       "(0.9748457851926746, 32844.697804797244, 183.55434782608697)"
      ]
     },
     "execution_count": 73,
     "metadata": {},
     "output_type": "execute_result"
    }
   ],
   "source": [
    "md_dt_hdw_d['5'].wait_T.var() / md_dt_hdw_d['5'].wait_T.mean()**2, md_dt_hdw_d['5'].wait_T.var(),  md_dt_hdw_d['5'].wait_T.mean()"
   ]
  },
  {
   "cell_type": "code",
   "execution_count": 74,
   "metadata": {
    "collapsed": false,
    "run_control": {
     "frozen": false,
     "read_only": false
    }
   },
   "outputs": [
    {
     "data": {
      "text/html": [
       "<div>\n",
       "<table border=\"1\" class=\"dataframe\">\n",
       "  <thead>\n",
       "    <tr style=\"text-align: right;\">\n",
       "      <th></th>\n",
       "      <th>temperature</th>\n",
       "      <th>type</th>\n",
       "      <th>traj</th>\n",
       "      <th>start</th>\n",
       "      <th>stop</th>\n",
       "      <th>weight</th>\n",
       "      <th>wait_T</th>\n",
       "      <th>wait</th>\n",
       "      <th>prev_state</th>\n",
       "    </tr>\n",
       "  </thead>\n",
       "  <tbody>\n",
       "  </tbody>\n",
       "</table>\n",
       "</div>"
      ],
      "text/plain": [
       "Empty DataFrame\n",
       "Columns: [temperature, type, traj, start, stop, weight, wait_T, wait, prev_state]\n",
       "Index: []"
      ]
     },
     "execution_count": 74,
     "metadata": {},
     "output_type": "execute_result"
    }
   ],
   "source": [
    "md_dt_hdw_d['5'][md_dt_hdw_d['5'].wait_T == 30365]"
   ]
  },
  {
   "cell_type": "code",
   "execution_count": 75,
   "metadata": {
    "collapsed": false,
    "run_control": {
     "frozen": false,
     "read_only": false
    }
   },
   "outputs": [
    {
     "data": {
      "text/html": [
       "<div>\n",
       "<table border=\"1\" class=\"dataframe\">\n",
       "  <thead>\n",
       "    <tr style=\"text-align: right;\">\n",
       "      <th></th>\n",
       "      <th>temperature</th>\n",
       "      <th>type</th>\n",
       "      <th>traj</th>\n",
       "      <th>start</th>\n",
       "      <th>stop</th>\n",
       "      <th>weight</th>\n",
       "      <th>wait_T</th>\n",
       "      <th>wait</th>\n",
       "      <th>prev_state</th>\n",
       "    </tr>\n",
       "  </thead>\n",
       "  <tbody>\n",
       "    <tr>\n",
       "      <th>159</th>\n",
       "      <td>0</td>\n",
       "      <td>(0.0, 0.0, 0.0, 1.0)</td>\n",
       "      <td>0</td>\n",
       "      <td>372727</td>\n",
       "      <td>374670</td>\n",
       "      <td>1</td>\n",
       "      <td>1869</td>\n",
       "      <td>1943</td>\n",
       "      <td>NaN</td>\n",
       "    </tr>\n",
       "  </tbody>\n",
       "</table>\n",
       "</div>"
      ],
      "text/plain": [
       "     temperature                  type  traj   start    stop  weight  wait_T  \\\n",
       "159            0  (0.0, 0.0, 0.0, 1.0)     0  372727  374670       1    1869   \n",
       "\n",
       "     wait  prev_state  \n",
       "159  1943         NaN  "
      ]
     },
     "execution_count": 75,
     "metadata": {},
     "output_type": "execute_result"
    }
   ],
   "source": [
    "md_dt_hdw_d['1'][md_dt_hdw_d['1'].wait_T == 1869]"
   ]
  },
  {
   "cell_type": "code",
   "execution_count": 76,
   "metadata": {
    "collapsed": false,
    "run_control": {
     "frozen": false,
     "read_only": false
    }
   },
   "outputs": [
    {
     "data": {
      "text/plain": [
       "['../dt5/md_dt5_st1/md_st1md_dt5__6jan16_blNone_tba.pickle',\n",
       " '../dt5/md_dt5_st2/md_st2md_dt5__6jan16_blNone_tba.pickle',\n",
       " '../dt5/md_dt5_st3/md_st3md_dt5__6jan16_blNone_tba.pickle']"
      ]
     },
     "execution_count": 76,
     "metadata": {},
     "output_type": "execute_result"
    }
   ],
   "source": [
    "md_dt_state_d['5']"
   ]
  },
  {
   "cell_type": "code",
   "execution_count": 77,
   "metadata": {
    "collapsed": true,
    "run_control": {
     "frozen": false,
     "read_only": false
    }
   },
   "outputs": [],
   "source": [
    "md_dt5_st_st3 = pd.read_pickle(md_dt_state_d['5'][2])\n",
    "\n",
    "md_dt5_tp_st1 = pd.read_pickle(md_dt_tp_d['5'][0])\n",
    "md_dt5_tp_st2 = pd.read_pickle(md_dt_tp_d['5'][1])\n",
    "md_dt5_tp_st3 = pd.read_pickle(md_dt_tp_d['5'][2])"
   ]
  },
  {
   "cell_type": "code",
   "execution_count": 78,
   "metadata": {
    "collapsed": false,
    "run_control": {
     "frozen": false,
     "read_only": false
    }
   },
   "outputs": [
    {
     "data": {
      "text/html": [
       "<div>\n",
       "<table border=\"1\" class=\"dataframe\">\n",
       "  <thead>\n",
       "    <tr style=\"text-align: right;\">\n",
       "      <th></th>\n",
       "      <th>temperature</th>\n",
       "      <th>type</th>\n",
       "      <th>traj</th>\n",
       "      <th>start</th>\n",
       "      <th>stop</th>\n",
       "      <th>fraction</th>\n",
       "    </tr>\n",
       "  </thead>\n",
       "  <tbody>\n",
       "    <tr>\n",
       "      <th>0</th>\n",
       "      <td>0</td>\n",
       "      <td>(0.0, 0.0, 0.0, 1.0)</td>\n",
       "      <td>0</td>\n",
       "      <td>372716</td>\n",
       "      <td>372736</td>\n",
       "      <td>1</td>\n",
       "    </tr>\n",
       "  </tbody>\n",
       "</table>\n",
       "</div>"
      ],
      "text/plain": [
       "   temperature                  type  traj   start    stop  fraction\n",
       "0            0  (0.0, 0.0, 0.0, 1.0)     0  372716  372736         1"
      ]
     },
     "execution_count": 78,
     "metadata": {},
     "output_type": "execute_result"
    }
   ],
   "source": [
    "md_dt5_tp_st3[(md_dt5_tp_st3.temperature==0) & (md_dt5_tp_st3.type==(0,0,0,1)) & (md_dt5_tp_st3.start==372716)]"
   ]
  },
  {
   "cell_type": "code",
   "execution_count": 79,
   "metadata": {
    "collapsed": false,
    "run_control": {
     "frozen": false,
     "read_only": false
    }
   },
   "outputs": [
    {
     "name": "stdout",
     "output_type": "stream",
     "text": [
      "[(0.0, 0.0, 0.0, 1.0)]\n",
      "4\n",
      "[(0.0, 0.0, 0.0, 1.0)]\n",
      "4\n",
      "[(0.0, 0.0, 0.0, 1.0)]\n",
      "4\n",
      "[(0.0, 0.0, 0.0, 1.0)]\n",
      "4\n",
      "[(0.0, 0.0, 0.0, 1.0)]\n",
      "4\n",
      "[(0.0, 0.0, 0.0, 1.0)]\n",
      "4\n",
      "[(0.0, 0.0, 0.0, 1.0)]\n",
      "4\n",
      "[(0.0, 0.0, 0.0, 1.0)]\n",
      "4\n",
      "[(0.0, 0.0, 0.0, 1.0)]\n",
      "4\n",
      "[(0.0, 0.0, 0.0, 1.0)]\n",
      "4\n",
      "[(0.0, 0.0, 0.0, 1.0)]\n",
      "4\n",
      "[(0.0, 0.0, 0.0, 1.0)]\n",
      "4\n"
     ]
    }
   ],
   "source": [
    "test_dt5_dw_st3 = loop_dwell_trans_temp(md_dt5_tp_st3, md_dt5_st_st3, [(0,0,0,1)], tu=5.0, verbose=True)"
   ]
  },
  {
   "cell_type": "code",
   "execution_count": 80,
   "metadata": {
    "collapsed": false,
    "run_control": {
     "frozen": false,
     "read_only": false
    }
   },
   "outputs": [
    {
     "data": {
      "text/html": [
       "<div>\n",
       "<table border=\"1\" class=\"dataframe\">\n",
       "  <thead>\n",
       "    <tr style=\"text-align: right;\">\n",
       "      <th></th>\n",
       "      <th>temperature</th>\n",
       "      <th>type</th>\n",
       "      <th>traj</th>\n",
       "      <th>start</th>\n",
       "      <th>stop</th>\n",
       "      <th>weight</th>\n",
       "      <th>wait_T</th>\n",
       "      <th>wait</th>\n",
       "      <th>prev_state</th>\n",
       "    </tr>\n",
       "  </thead>\n",
       "  <tbody>\n",
       "    <tr>\n",
       "      <th>149</th>\n",
       "      <td>0</td>\n",
       "      <td>(0.0, 0.0, 0.0, 1.0)</td>\n",
       "      <td>0</td>\n",
       "      <td>372136</td>\n",
       "      <td>372716</td>\n",
       "      <td>1</td>\n",
       "      <td>405</td>\n",
       "      <td>580</td>\n",
       "      <td>NaN</td>\n",
       "    </tr>\n",
       "  </tbody>\n",
       "</table>\n",
       "</div>"
      ],
      "text/plain": [
       "     temperature                  type  traj   start    stop  weight  wait_T  \\\n",
       "149            0  (0.0, 0.0, 0.0, 1.0)     0  372136  372716       1     405   \n",
       "\n",
       "     wait  prev_state  \n",
       "149   580         NaN  "
      ]
     },
     "execution_count": 80,
     "metadata": {},
     "output_type": "execute_result"
    }
   ],
   "source": [
    "test_dt5_dw_st3[(test_dt5_dw_st3.temperature==0) & (test_dt5_dw_st3.stop==372716)]"
   ]
  },
  {
   "cell_type": "code",
   "execution_count": 81,
   "metadata": {
    "collapsed": false,
    "run_control": {
     "frozen": false,
     "read_only": false
    }
   },
   "outputs": [
    {
     "data": {
      "text/html": [
       "<div>\n",
       "<table border=\"1\" class=\"dataframe\">\n",
       "  <thead>\n",
       "    <tr style=\"text-align: right;\">\n",
       "      <th></th>\n",
       "      <th>temperature</th>\n",
       "      <th>type</th>\n",
       "      <th>traj</th>\n",
       "      <th>start</th>\n",
       "      <th>stop</th>\n",
       "      <th>fraction</th>\n",
       "    </tr>\n",
       "  </thead>\n",
       "  <tbody>\n",
       "    <tr>\n",
       "      <th>0</th>\n",
       "      <td>0</td>\n",
       "      <td>(0.0, 0.0, 0.0, 1.0)</td>\n",
       "      <td>0</td>\n",
       "      <td>372716</td>\n",
       "      <td>372736</td>\n",
       "      <td>1</td>\n",
       "    </tr>\n",
       "  </tbody>\n",
       "</table>\n",
       "</div>"
      ],
      "text/plain": [
       "   temperature                  type  traj   start    stop  fraction\n",
       "0            0  (0.0, 0.0, 0.0, 1.0)     0  372716  372736         1"
      ]
     },
     "execution_count": 81,
     "metadata": {},
     "output_type": "execute_result"
    }
   ],
   "source": [
    "md_dt5_tp_st3[(md_dt5_tp_st3.temperature==0) & (md_dt5_tp_st3.start==372716) ]"
   ]
  },
  {
   "cell_type": "code",
   "execution_count": 82,
   "metadata": {
    "collapsed": false,
    "run_control": {
     "frozen": false,
     "read_only": false
    }
   },
   "outputs": [
    {
     "name": "stdout",
     "output_type": "stream",
     "text": [
      "0 temperature                       0\n",
      "type           (0.0, 0.0, 0.0, 1.0)\n",
      "traj                              0\n",
      "start                        372716\n",
      "stop                         372736\n",
      "fraction                          1\n",
      "Name: 0, dtype: object\n"
     ]
    }
   ],
   "source": [
    "for ri, row in md_dt5_tp_st3[(md_dt5_tp_st3.temperature==0) & (md_dt5_tp_st3.type==(0,0,0,1))].sort_values(by='start').iterrows():\n",
    "    if ri==0:\n",
    "        print ri, row"
   ]
  },
  {
   "cell_type": "code",
   "execution_count": 83,
   "metadata": {
    "collapsed": false,
    "run_control": {
     "frozen": false,
     "read_only": false
    }
   },
   "outputs": [
    {
     "data": {
      "text/plain": [
       "(0    3.527203\n",
       " Name: rate, dtype: float64, 0    5.565691\n",
       " Name: rate, dtype: float64)"
      ]
     },
     "execution_count": 83,
     "metadata": {},
     "output_type": "execute_result"
    }
   ],
   "source": [
    "md_r_dt_d['50'][(md_r_dt_d['50'].temperature==0) & (md_r_dt_d['50'].type==(0,0,0,1)) ].rate, md_r_dt_d['1'][(md_r_dt_d['1'].temperature==0) & (md_r_dt_d['1'].type==(0,0,0,1)) ].rate"
   ]
  },
  {
   "cell_type": "code",
   "execution_count": 84,
   "metadata": {
    "collapsed": false,
    "run_control": {
     "frozen": false,
     "read_only": false
    }
   },
   "outputs": [
    {
     "data": {
      "text/plain": [
       "(0.7704704056813818, 1003.592, 963.8021739130435, 1.0796707507683565)"
      ]
     },
     "execution_count": 84,
     "metadata": {},
     "output_type": "execute_result"
    }
   ],
   "source": [
    "1.0 /(md_dt_hdw_d['50'].wait.mean()/ 1000), md_dt_hdw_d['10'].wait.mean(), md_dt_hdw_d['5'].wait.mean(), 1.0 / (md_dt_hdw_d['1'].wait.mean() /1000)"
   ]
  },
  {
   "cell_type": "markdown",
   "metadata": {
    "run_control": {
     "frozen": false,
     "read_only": false
    }
   },
   "source": [
    "Problem in calculation stems from a single event. The event is very long, skewing the variance, but does not change the shape of the CDF."
   ]
  },
  {
   "cell_type": "code",
   "execution_count": 85,
   "metadata": {
    "collapsed": false,
    "run_control": {
     "frozen": false,
     "read_only": false
    }
   },
   "outputs": [
    {
     "data": {
      "text/plain": [
       "(1292.905864197531, 998.5943181818182, 961.032502708559, 921.9731958762886)"
      ]
     },
     "execution_count": 85,
     "metadata": {},
     "output_type": "execute_result"
    }
   ],
   "source": [
    "md_dt_cdw_d['50'].wait.mean(), md_dt_cdw_d['10'].wait.mean(), md_dt_cdw_d['5'].wait.mean(), md_dt_cdw_d['1'].wait.mean()"
   ]
  },
  {
   "cell_type": "code",
   "execution_count": 86,
   "metadata": {
    "collapsed": false,
    "run_control": {
     "frozen": false,
     "read_only": false
    }
   },
   "outputs": [
    {
     "data": {
      "text/plain": [
       "(920, 25, 16)"
      ]
     },
     "execution_count": 86,
     "metadata": {},
     "output_type": "execute_result"
    }
   ],
   "source": [
    "len (md_dt_hdw_d['5'].wait_T ), len(md_dt_hdw_d['5'][md_dt_hdw_d['5'].wait_T < 10]), len(md_dt_cdw_d['5'][md_dt_cdw_d['5'].wait_T < 10])"
   ]
  },
  {
   "cell_type": "markdown",
   "metadata": {
    "run_control": {
     "frozen": false,
     "read_only": false
    }
   },
   "source": [
    "why do the lifetimes in the helical-like state look non-exponential for most values of $\\Delta t $?\n",
    "\n",
    "Perhaps I have use my correction to the transition path calculation?\n",
    "\n",
    "## REMD"
   ]
  },
  {
   "cell_type": "code",
   "execution_count": 87,
   "metadata": {
    "collapsed": false,
    "run_control": {
     "frozen": false,
     "read_only": false
    }
   },
   "outputs": [
    {
     "name": "stdout",
     "output_type": "stream",
     "text": [
      "../dt1000/remd_dt1000/ala_remd_st1_dt1000ps__6jan16_tp.pickle\r\n",
      "../dt100/remd_dt100/ala_remd_st1_dt100ps__6jan16_tp.pickle\r\n",
      "../dt10/remd_dt10/ala_remd_st1_dt10ps__6jan16_tp.pickle\r\n",
      "../dt1/remd_dt1/ala_remd_st1_dt1ps__6jan16_tp.pickle\r\n",
      "../dt200/remd_dt200/ala_remd_st1_dt200ps__6jan16_tp.pickle\r\n",
      "../dt20/remd_dt20/ala_remd_st1_dt20ps__6jan16_tp.pickle\r\n",
      "../dt2500/remd_dt2500/ala_remd_st1_dt2500ps__6jan16_tp.pickle\r\n",
      "../dt25/remd_dt25/ala_remd_st1_dt25ps__6jan16_tp.pickle\r\n",
      "../dt2/remd_dt2/ala_remd_st1_dt2ps__6jan16_tp.pickle\r\n",
      "../dt5000/remd_dt5000/ala_remd_st1_dt5000ps__6jan16_tp.pickle\r\n",
      "../dt500/remd_dt500/ala_remd_st1_dt500ps__6jan16_tp.pickle\r\n",
      "../dt50/remd_dt50/ala_remd_st1_dt50ps__6jan16_tp.pickle\r\n",
      "../dt5/remd_dt5/ala_remd_st1_dt5ps__6jan16_tp.pickle\r\n"
     ]
    }
   ],
   "source": [
    "ls ../dt*/remd_dt*/*__6jan16_tp.pickle"
   ]
  },
  {
   "cell_type": "markdown",
   "metadata": {
    "run_control": {
     "frozen": false,
     "read_only": false
    }
   },
   "source": [
    "take the latest version of the calculation for $\\Delta t=1$ ps"
   ]
  },
  {
   "cell_type": "code",
   "execution_count": 88,
   "metadata": {
    "collapsed": false,
    "run_control": {
     "frozen": false,
     "read_only": false
    }
   },
   "outputs": [
    {
     "data": {
      "text/plain": [
       "['../dt2500/remd_dt2500/ala_remd_st1_dt2500ps__6jan16_tp.pickle',\n",
       " '../dt500/remd_dt500/ala_remd_st1_dt500ps__6jan16_tp.pickle',\n",
       " '../dt200/remd_dt200/ala_remd_st1_dt200ps__6jan16_tp.pickle',\n",
       " '../dt20/remd_dt20/ala_remd_st1_dt20ps__6jan16_tp.pickle',\n",
       " '../dt2/remd_dt2/ala_remd_st1_dt2ps__6jan16_tp.pickle',\n",
       " '../dt50/remd_dt50/ala_remd_st1_dt50ps__6jan16_tp.pickle',\n",
       " '../dt5/remd_dt5/ala_remd_st1_dt5ps__6jan16_tp.pickle',\n",
       " '../dt25/remd_dt25/ala_remd_st1_dt25ps__6jan16_tp.pickle',\n",
       " '../dt100/remd_dt100/ala_remd_st1_dt100ps__6jan16_tp.pickle',\n",
       " '../dt10/remd_dt10/ala_remd_st1_dt10ps__6jan16_tp.pickle',\n",
       " '../dt5000/remd_dt5000/ala_remd_st1_dt5000ps__6jan16_tp.pickle',\n",
       " '../dt1000/remd_dt1000/ala_remd_st1_dt1000ps__6jan16_tp.pickle',\n",
       " '../dt1/remd_dt1/ala_remd_st1_dt1ps__6jan16_tp.pickle']"
      ]
     },
     "execution_count": 88,
     "metadata": {},
     "output_type": "execute_result"
    }
   ],
   "source": [
    "remd_dt_tp_l = glob.glob(\"../dt*/remd_dt*/*_6jan16_tp.pickle\")\n",
    "#remd_dt_tp_l.remove(\"../dt1/remd_dt1/ala_remd_st1_dt1ps_20dec16_tp.pickle\")\n",
    "remd_dt_tp_l"
   ]
  },
  {
   "cell_type": "code",
   "execution_count": 89,
   "metadata": {
    "collapsed": false,
    "run_control": {
     "frozen": false,
     "read_only": false
    }
   },
   "outputs": [
    {
     "name": "stdout",
     "output_type": "stream",
     "text": [
      "../dt1000/remd_dt1000/ala_remd_st1_dt1000ps__6jan16_tba.pickle\r\n",
      "../dt100/remd_dt100/ala_remd_st1_dt100ps__6jan16_tba.pickle\r\n",
      "../dt10/remd_dt10/ala_remd_st1_dt10ps__6jan16_tba.pickle\r\n",
      "../dt1/remd_dt1/ala_remd_st1_dt1ps__6jan16_tba.pickle\r\n",
      "../dt200/remd_dt200/ala_remd_st1_dt200ps__6jan16_tba.pickle\r\n",
      "../dt20/remd_dt20/ala_remd_st1_dt20ps__6jan16_tba.pickle\r\n",
      "../dt2500/remd_dt2500/ala_remd_st1_dt2500ps__6jan16_tba.pickle\r\n",
      "../dt25/remd_dt25/ala_remd_st1_dt25ps__6jan16_tba.pickle\r\n",
      "../dt2/remd_dt2/ala_remd_st1_dt2ps__6jan16_tba.pickle\r\n",
      "../dt5000/remd_dt5000/ala_remd_st1_dt5000ps__6jan16_tba.pickle\r\n",
      "../dt500/remd_dt500/ala_remd_st1_dt500ps__6jan16_tba.pickle\r\n",
      "../dt50/remd_dt50/ala_remd_st1_dt50ps__6jan16_tba.pickle\r\n",
      "../dt5/remd_dt5/ala_remd_st1_dt5ps__6jan16_tba.pickle\r\n"
     ]
    }
   ],
   "source": [
    "ls ../dt*/remd_dt*/*_6jan16_tba.pickle"
   ]
  },
  {
   "cell_type": "code",
   "execution_count": 90,
   "metadata": {
    "collapsed": false,
    "run_control": {
     "frozen": false,
     "read_only": false
    }
   },
   "outputs": [
    {
     "data": {
      "text/plain": [
       "['../dt2500/remd_dt2500/ala_remd_st1_dt2500ps__6jan16_tba.pickle',\n",
       " '../dt500/remd_dt500/ala_remd_st1_dt500ps__6jan16_tba.pickle',\n",
       " '../dt200/remd_dt200/ala_remd_st1_dt200ps__6jan16_tba.pickle',\n",
       " '../dt20/remd_dt20/ala_remd_st1_dt20ps__6jan16_tba.pickle',\n",
       " '../dt2/remd_dt2/ala_remd_st1_dt2ps__6jan16_tba.pickle',\n",
       " '../dt50/remd_dt50/ala_remd_st1_dt50ps__6jan16_tba.pickle',\n",
       " '../dt5/remd_dt5/ala_remd_st1_dt5ps__6jan16_tba.pickle',\n",
       " '../dt25/remd_dt25/ala_remd_st1_dt25ps__6jan16_tba.pickle',\n",
       " '../dt100/remd_dt100/ala_remd_st1_dt100ps__6jan16_tba.pickle',\n",
       " '../dt10/remd_dt10/ala_remd_st1_dt10ps__6jan16_tba.pickle',\n",
       " '../dt5000/remd_dt5000/ala_remd_st1_dt5000ps__6jan16_tba.pickle',\n",
       " '../dt1000/remd_dt1000/ala_remd_st1_dt1000ps__6jan16_tba.pickle',\n",
       " '../dt1/remd_dt1/ala_remd_st1_dt1ps__6jan16_tba.pickle']"
      ]
     },
     "execution_count": 90,
     "metadata": {},
     "output_type": "execute_result"
    }
   ],
   "source": [
    "remd_dt_st_l = glob.glob(\"../dt*/remd_dt*/*_6jan16_tba.pickle\")\n",
    "#remd_dt_st_l.remove(\"../dt1/remd_dt1/ala_remd_st1_dt1ps_20dec16_tba.pickle\")\n",
    "remd_dt_st_l"
   ]
  },
  {
   "cell_type": "code",
   "execution_count": 91,
   "metadata": {
    "collapsed": false,
    "run_control": {
     "frozen": false,
     "read_only": false
    }
   },
   "outputs": [],
   "source": [
    "remd_dt_tp_d = {}\n",
    "remd_dt_st_d = {}\n",
    "\n",
    "for fn in remd_dt_tp_l:\n",
    "    dt = fn.split(\"/\")[1][2:]\n",
    "    #print dt\n",
    "    remd_dt_tp_d[dt] = pd.read_pickle(fn)\n",
    "\n",
    "for fn in remd_dt_st_l:\n",
    "    dt = fn.split(\"/\")[1][2:]\n",
    "    remd_dt_st_d[dt] = pd.read_pickle(fn)"
   ]
  },
  {
   "cell_type": "markdown",
   "metadata": {
    "run_control": {
     "frozen": false,
     "read_only": false
    }
   },
   "source": [
    "calculate lifetimes."
   ]
  },
  {
   "cell_type": "code",
   "execution_count": 92,
   "metadata": {
    "collapsed": false,
    "run_control": {
     "frozen": false,
     "read_only": false
    }
   },
   "outputs": [
    {
     "name": "stderr",
     "output_type": "stream",
     "text": [
      "0%                          100%\n",
      "[#######                       ] | ETA: 00:02:33"
     ]
    }
   ],
   "source": [
    "remd_dt_hdw_d = {}\n",
    "remd_dt_cdw_d = {}\n",
    "remd_dt_10w_d = {}\n",
    "remd_dt_11dw_d = {}\n",
    "\n",
    "bar = pyprind.ProgBar(len(remd_dt_tp_l)*4)\n",
    "\n",
    "for k, _tp in remd_dt_tp_d.items():\n",
    "    _tba = remd_dt_st_d[k]\n",
    "    _tp0 = _tp[_tp.temperature==0]\n",
    "    _tba0 = _tba[_tba.temperature==0]\n",
    "    \n",
    "    _dw_h = loop_dwell_trans_temp(_tp0,\n",
    "                                  _tba0, trans_from_h, tu=float(k))\n",
    "    \n",
    "    _dw_c = loop_dwell_trans_temp(_tp0,\n",
    "                                  _tba0, trans_from_c, tu=float(k))\n",
    "    remd_dt_hdw_d[k] = _dw_h\n",
    "    remd_dt_cdw_d[k] = _dw_c\n",
    "    \n",
    "    remd_dt_10w_d[k] = loop_dwell_trans_temp(_tp0, _tba0,\n",
    "                                            trans_from_10,\n",
    "                                            tu=float(k))\n",
    "    remd_dt_11dw_d[k] = loop_dwell_trans_temp(_tp0, _tba0,\n",
    "                                             trans_from_11,\n",
    "                                             tu=float(k))\n",
    "    \n",
    "    bar.update()\n"
   ]
  },
  {
   "cell_type": "code",
   "execution_count": 93,
   "metadata": {
    "collapsed": false,
    "run_control": {
     "frozen": false,
     "read_only": false
    }
   },
   "outputs": [
    {
     "data": {
      "text/html": [
       "<div>\n",
       "<table border=\"1\" class=\"dataframe\">\n",
       "  <thead>\n",
       "    <tr style=\"text-align: right;\">\n",
       "      <th></th>\n",
       "      <th>temperature</th>\n",
       "      <th>type</th>\n",
       "      <th>traj</th>\n",
       "      <th>start</th>\n",
       "      <th>stop</th>\n",
       "      <th>weight</th>\n",
       "      <th>wait_T</th>\n",
       "      <th>wait</th>\n",
       "      <th>prev_state</th>\n",
       "    </tr>\n",
       "  </thead>\n",
       "  <tbody>\n",
       "    <tr>\n",
       "      <th>0</th>\n",
       "      <td>0</td>\n",
       "      <td>(1.0, 1.0, 1.0, 0.0)</td>\n",
       "      <td>6</td>\n",
       "      <td>0</td>\n",
       "      <td>3003</td>\n",
       "      <td>1.000000</td>\n",
       "      <td>14</td>\n",
       "      <td>3003</td>\n",
       "      <td>NaN</td>\n",
       "    </tr>\n",
       "    <tr>\n",
       "      <th>1</th>\n",
       "      <td>0</td>\n",
       "      <td>(1.0, 1.0, 1.0, 0.0)</td>\n",
       "      <td>8</td>\n",
       "      <td>3005</td>\n",
       "      <td>16153</td>\n",
       "      <td>1.000000</td>\n",
       "      <td>9</td>\n",
       "      <td>13148</td>\n",
       "      <td>NaN</td>\n",
       "    </tr>\n",
       "    <tr>\n",
       "      <th>2</th>\n",
       "      <td>0</td>\n",
       "      <td>(1.0, 1.0, 1.0, 0.0)</td>\n",
       "      <td>8</td>\n",
       "      <td>16157</td>\n",
       "      <td>19423</td>\n",
       "      <td>1.000000</td>\n",
       "      <td>65</td>\n",
       "      <td>3266</td>\n",
       "      <td>NaN</td>\n",
       "    </tr>\n",
       "    <tr>\n",
       "      <th>3</th>\n",
       "      <td>0</td>\n",
       "      <td>(1.0, 1.0, 1.0, 0.0)</td>\n",
       "      <td>11</td>\n",
       "      <td>19424</td>\n",
       "      <td>32804</td>\n",
       "      <td>1.000000</td>\n",
       "      <td>22</td>\n",
       "      <td>13380</td>\n",
       "      <td>NaN</td>\n",
       "    </tr>\n",
       "    <tr>\n",
       "      <th>4</th>\n",
       "      <td>0</td>\n",
       "      <td>(1.0, 1.0, 1.0, 0.0)</td>\n",
       "      <td>5</td>\n",
       "      <td>32806</td>\n",
       "      <td>59968</td>\n",
       "      <td>0.300000</td>\n",
       "      <td>12</td>\n",
       "      <td>27162</td>\n",
       "      <td>NaN</td>\n",
       "    </tr>\n",
       "    <tr>\n",
       "      <th>5</th>\n",
       "      <td>0</td>\n",
       "      <td>(1.0, 1.0, 1.0, 0.0)</td>\n",
       "      <td>10</td>\n",
       "      <td>59977</td>\n",
       "      <td>67708</td>\n",
       "      <td>0.363636</td>\n",
       "      <td>14</td>\n",
       "      <td>7731</td>\n",
       "      <td>NaN</td>\n",
       "    </tr>\n",
       "    <tr>\n",
       "      <th>6</th>\n",
       "      <td>0</td>\n",
       "      <td>(1.0, 1.0, 1.0, 0.0)</td>\n",
       "      <td>10</td>\n",
       "      <td>67718</td>\n",
       "      <td>85646</td>\n",
       "      <td>0.818182</td>\n",
       "      <td>2</td>\n",
       "      <td>17928</td>\n",
       "      <td>NaN</td>\n",
       "    </tr>\n",
       "    <tr>\n",
       "      <th>7</th>\n",
       "      <td>0</td>\n",
       "      <td>(1.0, 1.0, 1.0, 0.0)</td>\n",
       "      <td>11</td>\n",
       "      <td>85656</td>\n",
       "      <td>100859</td>\n",
       "      <td>1.000000</td>\n",
       "      <td>1</td>\n",
       "      <td>15203</td>\n",
       "      <td>NaN</td>\n",
       "    </tr>\n",
       "    <tr>\n",
       "      <th>8</th>\n",
       "      <td>0</td>\n",
       "      <td>(1.0, 1.0, 1.0, 0.0)</td>\n",
       "      <td>4</td>\n",
       "      <td>100886</td>\n",
       "      <td>117499</td>\n",
       "      <td>1.000000</td>\n",
       "      <td>15</td>\n",
       "      <td>16613</td>\n",
       "      <td>NaN</td>\n",
       "    </tr>\n",
       "    <tr>\n",
       "      <th>9</th>\n",
       "      <td>0</td>\n",
       "      <td>(1.0, 1.0, 1.0, 0.0)</td>\n",
       "      <td>0</td>\n",
       "      <td>117512</td>\n",
       "      <td>126482</td>\n",
       "      <td>0.480000</td>\n",
       "      <td>0</td>\n",
       "      <td>8970</td>\n",
       "      <td>NaN</td>\n",
       "    </tr>\n",
       "    <tr>\n",
       "      <th>10</th>\n",
       "      <td>0</td>\n",
       "      <td>(1.0, 1.0, 1.0, 0.0)</td>\n",
       "      <td>4</td>\n",
       "      <td>126506</td>\n",
       "      <td>132767</td>\n",
       "      <td>0.727273</td>\n",
       "      <td>25</td>\n",
       "      <td>6261</td>\n",
       "      <td>NaN</td>\n",
       "    </tr>\n",
       "    <tr>\n",
       "      <th>11</th>\n",
       "      <td>0</td>\n",
       "      <td>(1.0, 1.0, 1.0, 0.0)</td>\n",
       "      <td>4</td>\n",
       "      <td>132777</td>\n",
       "      <td>132813</td>\n",
       "      <td>0.600000</td>\n",
       "      <td>0</td>\n",
       "      <td>36</td>\n",
       "      <td>NaN</td>\n",
       "    </tr>\n",
       "    <tr>\n",
       "      <th>12</th>\n",
       "      <td>0</td>\n",
       "      <td>(1.0, 1.0, 1.0, 0.0)</td>\n",
       "      <td>6</td>\n",
       "      <td>132817</td>\n",
       "      <td>137644</td>\n",
       "      <td>0.523810</td>\n",
       "      <td>9</td>\n",
       "      <td>4827</td>\n",
       "      <td>NaN</td>\n",
       "    </tr>\n",
       "    <tr>\n",
       "      <th>13</th>\n",
       "      <td>0</td>\n",
       "      <td>(1.0, 1.0, 1.0, 0.0)</td>\n",
       "      <td>7</td>\n",
       "      <td>137664</td>\n",
       "      <td>144253</td>\n",
       "      <td>0.800000</td>\n",
       "      <td>0</td>\n",
       "      <td>6589</td>\n",
       "      <td>NaN</td>\n",
       "    </tr>\n",
       "  </tbody>\n",
       "</table>\n",
       "</div>"
      ],
      "text/plain": [
       "    temperature                  type  traj   start    stop    weight  wait_T  \\\n",
       "0             0  (1.0, 1.0, 1.0, 0.0)     6       0    3003  1.000000      14   \n",
       "1             0  (1.0, 1.0, 1.0, 0.0)     8    3005   16153  1.000000       9   \n",
       "2             0  (1.0, 1.0, 1.0, 0.0)     8   16157   19423  1.000000      65   \n",
       "3             0  (1.0, 1.0, 1.0, 0.0)    11   19424   32804  1.000000      22   \n",
       "4             0  (1.0, 1.0, 1.0, 0.0)     5   32806   59968  0.300000      12   \n",
       "5             0  (1.0, 1.0, 1.0, 0.0)    10   59977   67708  0.363636      14   \n",
       "6             0  (1.0, 1.0, 1.0, 0.0)    10   67718   85646  0.818182       2   \n",
       "7             0  (1.0, 1.0, 1.0, 0.0)    11   85656  100859  1.000000       1   \n",
       "8             0  (1.0, 1.0, 1.0, 0.0)     4  100886  117499  1.000000      15   \n",
       "9             0  (1.0, 1.0, 1.0, 0.0)     0  117512  126482  0.480000       0   \n",
       "10            0  (1.0, 1.0, 1.0, 0.0)     4  126506  132767  0.727273      25   \n",
       "11            0  (1.0, 1.0, 1.0, 0.0)     4  132777  132813  0.600000       0   \n",
       "12            0  (1.0, 1.0, 1.0, 0.0)     6  132817  137644  0.523810       9   \n",
       "13            0  (1.0, 1.0, 1.0, 0.0)     7  137664  144253  0.800000       0   \n",
       "\n",
       "     wait  prev_state  \n",
       "0    3003         NaN  \n",
       "1   13148         NaN  \n",
       "2    3266         NaN  \n",
       "3   13380         NaN  \n",
       "4   27162         NaN  \n",
       "5    7731         NaN  \n",
       "6   17928         NaN  \n",
       "7   15203         NaN  \n",
       "8   16613         NaN  \n",
       "9    8970         NaN  \n",
       "10   6261         NaN  \n",
       "11     36         NaN  \n",
       "12   4827         NaN  \n",
       "13   6589         NaN  "
      ]
     },
     "execution_count": 93,
     "metadata": {},
     "output_type": "execute_result"
    }
   ],
   "source": [
    " remd_dt_11dw_d['1']"
   ]
  },
  {
   "cell_type": "markdown",
   "metadata": {
    "run_control": {
     "frozen": false,
     "read_only": false
    }
   },
   "source": [
    "## Exponentiality figure\n",
    "\n",
    "Figure needs visual improvements\n",
    "\n",
    "* legend, annotation\n",
    "* tick label size\n",
    "\n",
    "\\begin{equation}\n",
    "var(\\tau) = <\\tau^2>-<\\tau>^2 = <(\\tau-<\\tau>)^2>\n",
    "\\end{equation}\n",
    "\n",
    "\\begin{equation}\n",
    "<\\tau>= \\sum_\\alpha w(\\alpha) \\tau_\\alpha\n",
    "\\end{equation}\n",
    "\n",
    "\\begin{equation}\n",
    "<\\tau^2> = \\sum_\\alpha w(\\alpha) {\\tau_\\alpha}^2\n",
    "\\end{equation}\n",
    "\n",
    "\\begin{equation}\n",
    "<(\\tau-<\\tau>))^2> = \\sum_\\alpha w(\\alpha) (\\tau_\\alpha-<\\tau>)^2\n",
    "\\end{equation}\n",
    "\n",
    "N.B.: my weights are not normalized"
   ]
  },
  {
   "cell_type": "code",
   "execution_count": 94,
   "metadata": {
    "collapsed": false,
    "run_control": {
     "frozen": false,
     "read_only": false
    }
   },
   "outputs": [
    {
     "data": {
      "text/plain": [
       "148.20724424735494"
      ]
     },
     "execution_count": 94,
     "metadata": {},
     "output_type": "execute_result"
    }
   ],
   "source": [
    "tau_h_dt1_av = sum( remd_dt_hdw_d['1'].weight / remd_dt_hdw_d['1'].weight.sum()  * remd_dt_hdw_d['1'].wait_T)\n",
    "tau_h_dt1_av"
   ]
  },
  {
   "cell_type": "code",
   "execution_count": 95,
   "metadata": {
    "collapsed": false,
    "run_control": {
     "frozen": false,
     "read_only": false
    }
   },
   "outputs": [
    {
     "data": {
      "text/plain": [
       "1.0311768488893056"
      ]
     },
     "execution_count": 95,
     "metadata": {},
     "output_type": "execute_result"
    }
   ],
   "source": [
    "var_tau_h_dt1 = sum(remd_dt_hdw_d['1'].weight / remd_dt_hdw_d['1'].weight.sum() *(remd_dt_hdw_d['1'].wait_T -  tau_h_dt1_av)**2 )\n",
    "\n",
    "var_tau_h_dt1 / tau_h_dt1_av**2"
   ]
  },
  {
   "cell_type": "code",
   "execution_count": 96,
   "metadata": {
    "collapsed": true,
    "run_control": {
     "frozen": false,
     "read_only": false
    }
   },
   "outputs": [],
   "source": [
    "def weights_first_second_moment(w_a, tau_a):\n",
    "    tau_av = sum(w_a / sum(w_a) * tau_a)\n",
    "    var_tau = sum(w_a / sum(w_a) * (tau_a - tau_av)**2)\n",
    "    return tau_av, var_tau\n",
    "\n",
    "def weights_first_second_moment2(values, weights):\n",
    "    \"\"\"\n",
    "    http://stackoverflow.com/questions/2413522/weighted-standard-deviation-in-numpy\n",
    "    \"\"\"\n",
    "    av = np.average(values, weights=weights)\n",
    "    var = np.average((values-av)**2, weights=weights)  # Fast and numerically precise\n",
    "    return av, var\n",
    "\n",
    "def check_exp(w_a, tau_a):\n",
    "    tau_av, var_tau = weights_first_second_moment(w_a, tau_a)\n",
    "    #tau_av, var_tau = weights_first_second_moment2(tau_a/w_a, w_a)\n",
    "    return var_tau / tau_av**2"
   ]
  },
  {
   "cell_type": "code",
   "execution_count": 97,
   "metadata": {
    "collapsed": false,
    "run_control": {
     "frozen": false,
     "read_only": false
    }
   },
   "outputs": [
    {
     "data": {
      "image/png": "[encoded data removed]",
      "text/plain": [
       "<matplotlib.figure.Figure at 0x7f1f8c6868d0>"
      ]
     },
     "metadata": {},
     "output_type": "display_data"
    }
   ],
   "source": [
    "fig, ax = plt.subplots(2,2, figsize=(6,6))\n",
    "\n",
    "for k, v in remd_dt_hdw_d.items():\n",
    "    #_exp = second_moment_exponentiality(v.wait_T / v.weight)\n",
    "    _exp = check_exp(v.weight, v.wait_T)\n",
    "    lg1_remd, = ax[0,0].plot(int(k)*tf, _exp , \"s\", c=cl[1])   \n",
    "    \n",
    "for k, v in remd_dt_cdw_d.items():\n",
    "    _exp = check_exp(v.weight, v.wait_T)\n",
    "    lg2_remd, = ax[0,1].plot(int(k)*tf, _exp , \"s\", c=cl[3])   \n",
    "        \n",
    "for k, v in remd_dt_10w_d.items():\n",
    "    _temp =v.wait_T / v.weight\n",
    "    if np.any(_temp.values > 0):\n",
    "        _exp = check_exp(v.weight, v.wait_T)\n",
    "        lg3_remd, = ax[1,0].plot(int(k)*tf, _exp , \"s\", c=cl[4], mew=1.0, mfc=\"None\", mec=cl[4])   \n",
    "    \n",
    "for k, v in remd_dt_11dw_d.items():\n",
    "    _temp =v.wait_T / v.weight\n",
    "    if np.any(_temp.values > 0):\n",
    "        _exp = check_exp(v.weight, v.wait_T)\n",
    "        lg4_remd, = ax[1,1].plot(int(k)*tf, _exp , \"s\", c=cl[5], mew=1.0, mfc=\"None\", mec=cl[5])     \n",
    "    \n",
    "    \n",
    "for k, v in md_dt_hdw_d.items():\n",
    "    _exp = second_moment_exponentiality(v.wait_T)\n",
    "    lg1_md, = ax[0,0].plot(int(k)*tf, _exp, \"o\", c=cl[0])\n",
    "    \n",
    "for k, v in md_dt_cdw_d.items():\n",
    "    _exp = second_moment_exponentiality(v.wait_T)\n",
    "    lg2_md, = ax[0,1].plot(int(k)*tf, _exp, \"o\", c=cl[2])\n",
    "    \n",
    "for k, v in md_dt_10dw_d.items():\n",
    "    _exp = second_moment_exponentiality(v.wait_T)\n",
    "    lg3_md, = ax[1,0].plot(int(k)*tf, _exp, \"o\", c=cl[4],  mfc=cl[4], mec=cl[4])\n",
    "\n",
    "for k, v in md_dt_11dw_d.items():\n",
    "    _exp = second_moment_exponentiality(v.wait_T)\n",
    "    lg4_md, = ax[1,1].plot(int(k)*tf, _exp, \"o\", c=cl[5],  mfc=cl[5], mec=cl[5])\n",
    "    \n",
    "ax[0,0].legend([lg1_md, lg1_remd], [r'MD $\\mathregular{\\tau_h}$',\n",
    "                                   r'REMD $\\mathregular{\\tau_h}$'],\n",
    "               loc=3, handletextpad=-0.1, borderaxespad=0.1,\n",
    "              frameon=True)\n",
    "ax[0,1].legend([lg2_md, lg2_remd], [r'MD $\\mathregular{\\tau_c}$',\n",
    "                                   r'REMD $\\mathregular{\\tau_c}$'],\n",
    "               loc=3,handletextpad=-0.1, borderaxespad=0.1,\n",
    "              frameon=True)\n",
    "\n",
    "ax[1,0].legend([lg3_md, lg3_remd], [r'MD $\\mathregular{\\tau_3}$',\n",
    "                                   r'REMD $\\mathregular{\\tau_3}$'],\n",
    "               loc=1,handletextpad=-0.1, borderaxespad=0.1,\n",
    "              frameon=True)\n",
    "ax[1,1].legend([lg4_md, lg4_remd], [r'MD $\\mathregular{\\tau_4}$',\n",
    "                                   r'REMD $\\mathregular{\\tau_4}$'],\n",
    "               loc=1,handletextpad=-0.1, borderaxespad=0.01,\n",
    "              frameon=True)\n",
    "    \n",
    "for a in ax.flat:\n",
    "    a.loglog()\n",
    "    a.set_ylim(10**-1, 10**1)\n",
    "    a.set_xlim(10**-3.1, 10**1)\n",
    "    a.set_ylabel(r\"$\\mathregular{< \\tau^2> - <\\tau>^2 / <\\tau>^2}$\",\n",
    "                fontsize=12)\n",
    "    a.set_xlabel(\"$\\mathregular{\\Delta t \\, [ns]}$\", fontsize=12)\n",
    "    a.tick_params(axis='both', which='major', labelsize=12)\n",
    "    \n",
    "for i, l in enumerate(fig_l):\n",
    "    ax.flat[i].text(10**-4.8, 10**1, l, fontsize=20)\n",
    "    \n",
    "fig.tight_layout()\n",
    "fig.savefig(\"plots/exp_ala_md_remd_2.png\", dpi=600)\n",
    "fig.savefig(\"plots/exp_ala_md_remd_2.pdf\")"
   ]
  },
  {
   "cell_type": "code",
   "execution_count": 98,
   "metadata": {
    "collapsed": true
   },
   "outputs": [],
   "source": [
    "def check_exp2(tau_a, w_a):\n",
    "    _av = np.average( tau_a / w_a, weights=w_a)\n",
    "    _var = np.sum( (tau_a - _av)**2 / (np.sum(w_a)) )\n",
    "    return _var/ _av**2\n",
    "\n",
    "def check_exp3(tau_a, w_a):\n",
    "    #_av = np.average( tau_a / w_a, weights=w_a)\n",
    "    _av = np.sum(tau_a) / np.sum(w_a)\n",
    "    #_var = np.sum( w_a*(tau_a/w_a - _av)**2) / (np.sum(w_a)) \n",
    "    _s = np.sum(w_a)\n",
    "    _var = np.sum(tau_a**2/w_a )/ _s - _av**2\n",
    "    return _var/ _av**2"
   ]
  },
  {
   "cell_type": "code",
   "execution_count": 99,
   "metadata": {
    "collapsed": false
   },
   "outputs": [
    {
     "data": {
      "image/png": "[encoded data removed]",
      "text/plain": [
       "<matplotlib.figure.Figure at 0x7f1f8b84bad0>"
      ]
     },
     "metadata": {},
     "output_type": "display_data"
    }
   ],
   "source": [
    "fig, ax = plt.subplots(2,2, figsize=(6,6))\n",
    "\n",
    "for k, v in remd_dt_hdw_d.items():\n",
    "    _exp = check_exp3(v.wait_T.astype(float), v.weight.astype(float))\n",
    "    lg1_remd, = ax[0,0].plot(int(k)*tf, _exp, \"s\", c=cl[1])\n",
    "    #ax[0,0].plot([10**-3, 10**1], [1]*2) \n",
    "    \n",
    "#for dt, dt_r in remd_r_dt_d.items():\n",
    "#    md_r = dt_r[(dt_r.temperature==0) & (dt_r.type==(0,0,0,1))]\n",
    "#    if np.isfinite(md_r.rate.values):\n",
    "#        lg_remd = ax[0,0].errorbar(float(dt)*tf,  md_r.rate.values, \n",
    "#                  c=cl[1], fmt=\".\",  label=r\"$h \\rightarrow c$\")\n",
    "\n",
    "for k, v in remd_dt_cdw_d.items():\n",
    "    _exp = check_exp3(v.wait_T.astype(float), v.weight.astype(float))\n",
    "    \n",
    "    #_av2 = np.average( v.wait_T / v.weight, weights=v.weight)\n",
    "    #_var5 = np.sum( (v.wait_T - _av2)**2 / (np.sum(v.weight)) )\n",
    "    lg2_remd, = ax[0,1].plot(int(k)*tf, _exp, \"s\", c=cl[3])   \n",
    "    #ax[0,1].plot([10**-3, 10**1], [1]*2) \n",
    "\n",
    "for k, v in remd_dt_10w_d.items():\n",
    "    _temp =v.wait_T / v.weight\n",
    "    if np.any(_temp.values > 0):\n",
    "        _exp = check_exp3(v.wait_T, v.weight)\n",
    "        lg3_remd, = ax[1,0].plot(int(k)*tf, _exp , \"s\", c=cl[4], mew=1.0, mfc=\"None\", mec=cl[4])   \n",
    "    \n",
    "for k, v in remd_dt_11dw_d.items():\n",
    "    _temp =v.wait_T / v.weight\n",
    "    if np.any(_temp.values > 0):\n",
    "        _exp = check_exp3(v.wait_T, v.weight)\n",
    "        lg4_remd, = ax[1,1].plot(int(k)*tf, _exp, \"s\", c=cl[5], mew=1.0, mfc=\"None\", mec=cl[5])   \n",
    "        \n",
    "\n",
    "for k, v in md_dt_hdw_d.items():\n",
    "    #_exp = second_moment_exponentiality(v.wait_T)\n",
    "    _exp = check_exp3(v.wait_T, v.weight)\n",
    "    lg1_md, = ax[0,0].plot(int(k)*tf, _exp, \"o\", c=cl[0])\n",
    "    \n",
    "for k, v in md_dt_cdw_d.items():\n",
    "    _exp = check_exp3(v.wait_T, v.weight)\n",
    "    lg2_md, = ax[0,1].plot(int(k)*tf, _exp, \"o\", c=cl[2])\n",
    "    \n",
    "for k, v in md_dt_10dw_d.items():\n",
    "    if np.any(v.wait_T >0):\n",
    "        _exp = check_exp3(v.wait_T, v.weight)\n",
    "        lg3_md, = ax[1,0].plot(int(k)*tf, _exp, \"o\", c=cl[4],  mfc=cl[4], mec=cl[4])\n",
    "\n",
    "for k, v in md_dt_11dw_d.items():\n",
    "    if np.any(v.wait_T >0):\n",
    "        _exp = check_exp3(v.wait_T, v.weight)\n",
    "        lg4_md, = ax[1,1].plot(int(k)*tf, _exp, \"o\", c=cl[5],  mfc=cl[5], mec=cl[5])\n",
    "    \n",
    "ax[0,0].legend([lg1_md, lg1_remd], [r'MD $\\mathregular{\\tau_h}$',\n",
    "                                   r'REMD $\\mathregular{\\tau_h}$'],\n",
    "               loc=3, handletextpad=-0.1, borderaxespad=0.1,\n",
    "              frameon=True)\n",
    "ax[0,1].legend([lg2_md, lg2_remd], [r'MD $\\mathregular{\\tau_c}$',\n",
    "                                   r'REMD $\\mathregular{\\tau_c}$'],\n",
    "               loc=3,handletextpad=-0.1, borderaxespad=0.1,\n",
    "              frameon=True)\n",
    "\n",
    "ax[1,0].legend([lg3_md, lg3_remd], [r'MD $\\mathregular{\\tau_3}$',\n",
    "                                   r'REMD $\\mathregular{\\tau_3}$'],\n",
    "               loc=3,handletextpad=-0.1, borderaxespad=0.1,\n",
    "              frameon=True)\n",
    "ax[1,1].legend([lg4_md, lg4_remd], [r'MD $\\mathregular{\\tau_4}$',\n",
    "                                   r'REMD $\\mathregular{\\tau_4}$'],\n",
    "               loc=4,handletextpad=-0.1, borderaxespad=0.01,\n",
    "              frameon=True)\n",
    "\n",
    "\n",
    "for a in ax.flat:\n",
    "    a.loglog()\n",
    "    #a.set_ylim(10**-1, 10**1)\n",
    "    a.set_xlim(10**-3.1, 10**1)\n",
    "    a.set_ylabel(r\"$\\mathregular{< \\tau^2> - <\\tau>^2 / <\\tau>^2}$\",\n",
    "                fontsize=12)\n",
    "    a.set_xlabel(\"$\\mathregular{\\Delta t \\, [ns]}$\", fontsize=12)\n",
    "    a.tick_params(axis='both', which='major', labelsize=12)\n",
    "    \n",
    "    \n",
    "for i, l in enumerate(fig_l):\n",
    "    ax.flat[i].text(10**-4.8, 10**1, l, fontsize=20)\n",
    "\n",
    "fig.tight_layout()\n",
    "fig.savefig('av_tau/plots/exp_ala_md_remd_3.png')\n",
    "fig.savefig('av_tau/plots/exp_ala_md_remd_3.pdf')"
   ]
  },
  {
   "cell_type": "code",
   "execution_count": 100,
   "metadata": {
    "collapsed": false
   },
   "outputs": [
    {
     "data": {
      "image/png": "[encoded data removed]",
      "text/plain": [
       "<matplotlib.figure.Figure at 0x7f1f8cb4ac90>"
      ]
     },
     "metadata": {},
     "output_type": "display_data"
    }
   ],
   "source": [
    "fig, ax = plt.subplots(1,2, figsize=(12,3))\n",
    "\n",
    "for k, v in remd_dt_hdw_d.items():\n",
    "    av, var = weights_first_second_moment(v.weight, v.wait_T)\n",
    "    _av2 = np.average( v.wait_T / v.weight, weights=v.weight)\n",
    "    _var1  = sum(v.weight/ sum(v.weight)*(v.wait_T / v.weight-_av2)**2)\n",
    "    _var2 = np.average((v.wait_T / v.weight-_av2)**2, weights=v.weight)\n",
    "    #_var3 = np.average((v.wait_T / v.weight-_av2)**2)\n",
    "    _var = np.sum(v.wait_T**2) / np.sum(v.weight)\n",
    "    _var4 = _var - _av2**2\n",
    "    \n",
    "    _var5 = np.sum( (v.wait_T - _av2)**2 / (np.sum(v.weight)) )\n",
    "    \n",
    "    #_exp = check_exp(v.weight, v.wait_T)\n",
    "    lg1_remd, = ax[1].plot(int(k)*tf, var / av**2 , \"s\", c=cl[1]) \n",
    "    lg1_remd, = ax[0].plot(int(k)*tf, 1/av*1000 , \"s\", c=cl[1])  \n",
    "    lg1_remd, = ax[0].plot(int(k)*tf, 1/_av2*1000 , \"o\", c=cl[2]) \n",
    "    ax[1].plot(int(k)*tf, _var5/ _av2**2, \"D\", c='red')\n",
    "    \n",
    "\n",
    "ax[1].plot([10**-3, 10**1], [1]*2)    \n",
    "    \n",
    "ax[0].loglog()  \n",
    "#ax[1].semilogx()\n",
    "ax[1].loglog()\n",
    "    \n",
    "fig.tight_layout()"
   ]
  },
  {
   "cell_type": "code",
   "execution_count": 101,
   "metadata": {
    "collapsed": false,
    "run_control": {
     "frozen": false,
     "read_only": false
    }
   },
   "outputs": [
    {
     "name": "stdout",
     "output_type": "stream",
     "text": [
      "coil   lifetimes_coil.tar.gz   raw_weights_lifetimes\r\n",
      "helix  lifetimes_helix.tar.gz\r\n"
     ]
    }
   ],
   "source": [
    "! mkdir -p lifetime_ar/coil\n",
    "! mkdir -p lifetime_ar/helix\n",
    "! ls lifetime_ar/\n"
   ]
  },
  {
   "cell_type": "code",
   "execution_count": 102,
   "metadata": {
    "collapsed": false
   },
   "outputs": [
    {
     "data": {
      "text/plain": [
       "[1, 2, 5, 10, 20, 25, 50, 100, 200, 500, 1000, 2500, 5000]"
      ]
     },
     "execution_count": 102,
     "metadata": {},
     "output_type": "execute_result"
    }
   ],
   "source": [
    "md_lagtime_l"
   ]
  },
  {
   "cell_type": "markdown",
   "metadata": {},
   "source": [
    "## save lifetime distributions"
   ]
  },
  {
   "cell_type": "code",
   "execution_count": 103,
   "metadata": {
    "collapsed": false,
    "run_control": {
     "frozen": false,
     "read_only": false
    }
   },
   "outputs": [],
   "source": [
    "for k, v in remd_dt_hdw_d.items():\n",
    "    #print k\n",
    "    wa_tau_a_ar = np.column_stack((v.weight.values, v.weight.values / sum(v.weight.values),  v.wait_T.values))\n",
    "    np.savetxt(\"lifetime_ar/helix/lifetime_dt{}_ala_h.txt\".format(k), wa_tau_a_ar)\n",
    "    \n",
    "for k, v in remd_dt_cdw_d.items():\n",
    "    #print k\n",
    "    wa_tau_a_ar = np.column_stack((v.weight.values, v.weight.values / sum(v.weight.values), v.wait_T.values))\n",
    "    np.savetxt(\"lifetime_ar/coil/lifetime_dt{}_ala_h.txt\".format(k), wa_tau_a_ar)"
   ]
  },
  {
   "cell_type": "code",
   "execution_count": 104,
   "metadata": {
    "collapsed": true
   },
   "outputs": [],
   "source": [
    "for k, v in md_dt_hdw_d.items():\n",
    "    ar = np.column_stack((v.weight.values, v.weight.values / sum(v.weight.values),  v.wait_T.values ))\n",
    "    np.savetxt(\"lifetime_ar/helix/lifetime_dt{}_ala_h_md.txt\".format(k), ar)\n",
    "    \n",
    "for k, v in md_dt_cdw_d.items():\n",
    "    ar = np.column_stack((v.weight.values,v.weight.values / sum(v.weight.values),  v.wait_T.values ))\n",
    "    np.savetxt(\"lifetime_ar/coil/lifetime_dt{}_ala_c_md.txt\".format(k), ar)"
   ]
  },
  {
   "cell_type": "markdown",
   "metadata": {
    "run_control": {
     "frozen": false,
     "read_only": false
    }
   },
   "source": [
    "# First moment directly from the lifetimes\n",
    "\n",
    "TO DO: add errors via counts"
   ]
  },
  {
   "cell_type": "code",
   "execution_count": 105,
   "metadata": {
    "collapsed": false
   },
   "outputs": [
    {
     "data": {
      "text/html": [
       "<div>\n",
       "<table border=\"1\" class=\"dataframe\">\n",
       "  <thead>\n",
       "    <tr style=\"text-align: right;\">\n",
       "      <th></th>\n",
       "      <th>temperature</th>\n",
       "      <th>type</th>\n",
       "      <th>rate</th>\n",
       "      <th>events</th>\n",
       "      <th>sum_weight</th>\n",
       "      <th>rev_events</th>\n",
       "      <th>rev_sum_weight</th>\n",
       "      <th>sym_weight</th>\n",
       "      <th>std_p</th>\n",
       "      <th>std_m</th>\n",
       "      <th>err_m</th>\n",
       "      <th>err_p</th>\n",
       "    </tr>\n",
       "  </thead>\n",
       "  <tbody>\n",
       "    <tr>\n",
       "      <th>0</th>\n",
       "      <td>0</td>\n",
       "      <td>(0, 0, 0, 1)</td>\n",
       "      <td>0.819295</td>\n",
       "      <td>119</td>\n",
       "      <td>51.609524</td>\n",
       "      <td>103</td>\n",
       "      <td>45.066667</td>\n",
       "      <td>96.676190</td>\n",
       "      <td>0.907006</td>\n",
       "      <td>0.740066</td>\n",
       "      <td>0.079229</td>\n",
       "      <td>0.087711</td>\n",
       "    </tr>\n",
       "    <tr>\n",
       "      <th>1</th>\n",
       "      <td>1</td>\n",
       "      <td>(0, 0, 0, 1)</td>\n",
       "      <td>0.810426</td>\n",
       "      <td>109</td>\n",
       "      <td>46.422222</td>\n",
       "      <td>107</td>\n",
       "      <td>46.776190</td>\n",
       "      <td>93.198413</td>\n",
       "      <td>0.898876</td>\n",
       "      <td>0.730680</td>\n",
       "      <td>0.079746</td>\n",
       "      <td>0.088450</td>\n",
       "    </tr>\n",
       "    <tr>\n",
       "      <th>2</th>\n",
       "      <td>2</td>\n",
       "      <td>(0, 0, 0, 1)</td>\n",
       "      <td>0.700050</td>\n",
       "      <td>99</td>\n",
       "      <td>41.772222</td>\n",
       "      <td>102</td>\n",
       "      <td>44.333333</td>\n",
       "      <td>86.105556</td>\n",
       "      <td>0.779707</td>\n",
       "      <td>0.628531</td>\n",
       "      <td>0.071519</td>\n",
       "      <td>0.079657</td>\n",
       "    </tr>\n",
       "    <tr>\n",
       "      <th>3</th>\n",
       "      <td>3</td>\n",
       "      <td>(0, 0, 0, 1)</td>\n",
       "      <td>0.662623</td>\n",
       "      <td>109</td>\n",
       "      <td>45.927778</td>\n",
       "      <td>113</td>\n",
       "      <td>46.176190</td>\n",
       "      <td>92.103968</td>\n",
       "      <td>0.735393</td>\n",
       "      <td>0.597054</td>\n",
       "      <td>0.065569</td>\n",
       "      <td>0.072770</td>\n",
       "    </tr>\n",
       "    <tr>\n",
       "      <th>4</th>\n",
       "      <td>4</td>\n",
       "      <td>(0, 0, 0, 1)</td>\n",
       "      <td>0.777334</td>\n",
       "      <td>100</td>\n",
       "      <td>41.892857</td>\n",
       "      <td>114</td>\n",
       "      <td>47.500000</td>\n",
       "      <td>89.392857</td>\n",
       "      <td>0.864056</td>\n",
       "      <td>0.699317</td>\n",
       "      <td>0.078017</td>\n",
       "      <td>0.086721</td>\n",
       "    </tr>\n",
       "  </tbody>\n",
       "</table>\n",
       "</div>"
      ],
      "text/plain": [
       "   temperature          type      rate  events  sum_weight  rev_events  \\\n",
       "0            0  (0, 0, 0, 1)  0.819295     119   51.609524         103   \n",
       "1            1  (0, 0, 0, 1)  0.810426     109   46.422222         107   \n",
       "2            2  (0, 0, 0, 1)  0.700050      99   41.772222         102   \n",
       "3            3  (0, 0, 0, 1)  0.662623     109   45.927778         113   \n",
       "4            4  (0, 0, 0, 1)  0.777334     100   41.892857         114   \n",
       "\n",
       "   rev_sum_weight  sym_weight     std_p     std_m     err_m     err_p  \n",
       "0       45.066667   96.676190  0.907006  0.740066  0.079229  0.087711  \n",
       "1       46.776190   93.198413  0.898876  0.730680  0.079746  0.088450  \n",
       "2       44.333333   86.105556  0.779707  0.628531  0.071519  0.079657  \n",
       "3       46.176190   92.103968  0.735393  0.597054  0.065569  0.072770  \n",
       "4       47.500000   89.392857  0.864056  0.699317  0.078017  0.086721  "
      ]
     },
     "execution_count": 105,
     "metadata": {},
     "output_type": "execute_result"
    }
   ],
   "source": [
    "remd_r_dt_d['500'].head()"
   ]
  },
  {
   "cell_type": "code",
   "execution_count": 106,
   "metadata": {
    "collapsed": true
   },
   "outputs": [],
   "source": [
    "def _count_err_from_rate_calc(tau, r_df, trans):\n",
    "    md_r = r_df[(r_df.type.isin(trans))]\n",
    "    _sum = md_r.rate.sum()\n",
    "    if _sum > 0:\n",
    "        _N = md_r.sym_weight.sum()\n",
    "    return tau*np.exp(1/_N**0.5), tau*np.exp(-1/_N**0.5)  \n",
    "\n",
    "\n",
    "def _count_err_at_temp(r_df, trans, temp):\n",
    "    p, m = _count_err_from_rate_calc(r_df[r_df.temperature==temp], trans)\n",
    "    return m, p"
   ]
  },
  {
   "cell_type": "code",
   "execution_count": 107,
   "metadata": {
    "collapsed": false,
    "run_control": {
     "frozen": false,
     "read_only": false
    }
   },
   "outputs": [
    {
     "data": {
      "image/png": "[encoded data removed]",
      "text/plain": [
       "<matplotlib.figure.Figure at 0x7f1f8c8def10>"
      ]
     },
     "metadata": {},
     "output_type": "display_data"
    }
   ],
   "source": [
    "fig, ax = plt.subplots(2,2, figsize=(6,6))\n",
    "\n",
    "for k, v in remd_dt_hdw_d.items():\n",
    "    dt_r = remd_r_dt_d[str(k)]\n",
    "    md_r = dt_r[(dt_r.temperature==0) & (dt_r.type==(0,0,0,1))]\n",
    "    tau_av = np.average(v.wait_T/ v.weight, weights=v.weight)\n",
    "    lg1_remd = ax[0,1].errorbar(int(k)*tf,  1.0/tau_av*1000.0, yerr=[md_r.err_m.values ,\n",
    "                                 md_r.err_p.values ],c=cl[1], fmt=\".\",\n",
    "                                 label=r\"$h \\rightarrow c$\")\n",
    "    \n",
    "for k, v in remd_dt_cdw_d.items():\n",
    "    dt_r = remd_r_dt_d[str(k)]\n",
    "    md_r = dt_r[(dt_r.temperature==0) & (dt_r.type==(0,1,0,0))]\n",
    "    tau_av = np.average(v.wait_T/ v.weight, weights=v.weight)\n",
    "    #lg2_remd, = ax[0,1].plot(int(k)*tf, 1.0 / tau_av*1000.0 , \"s\", c=cl[3])   \n",
    "    lg2_remd = ax[0,1].errorbar(int(k)*tf,  1.0/tau_av*1000.0, yerr=[md_r.err_m.values ,\n",
    "                                 md_r.err_p.values ],c=cl[3], fmt=\".\",\n",
    "                                 label=r\"$c \\rightarrow h$\")\n",
    "        \n",
    "for k, v in remd_dt_10w_d.items():\n",
    "    dt_r = remd_r_dt_d[str(k)]\n",
    "    md_r = dt_r[(dt_r.temperature==0) & (dt_r.type.isin(trans_from_10))]\n",
    "    \n",
    "    if np.any(v.wait_T > 0) and md_r.rate.sum() > 0 :\n",
    "        tau_av = np.average(v.wait_T/ v.weight, weights=v.weight)\n",
    "        \n",
    "        _m, _p = _count_err_from_rate_calc( 1.0/ tau_av * 1000.0,\n",
    "                                           md_r, trans_from_10)\n",
    "        ax[1,1].plot([int(k)*tf]*2, [ _m,  _p], \"-\", c=cl[4] )\n",
    "        lg3_remd, = ax[1,1].plot(int(k)*tf, 1.0/ tau_av * 1000.0 , \".\", c=cl[4], mec=cl[4]) #  mew=1.0, mfc=\"None\"\n",
    "    \n",
    "for k, v in remd_dt_11dw_d.items():\n",
    "    dt_r = remd_r_dt_d[str(k)]\n",
    "    md_r = dt_r[(dt_r.temperature==0) & (dt_r.type.isin(trans_from_11))]\n",
    "    if np.any(v.wait_T.values > 0) and md_r.rate.sum() > 0 :\n",
    "\n",
    "        tau_av = np.average(v.wait_T/ v.weight, weights=v.weight)\n",
    "        _m, _p = _count_err_from_rate_calc( 1.0/ tau_av * 1000.0,\n",
    "                                           md_r, trans_from_11)\n",
    "        ax[1,1].plot([int(k)*tf]*2, [ _m,  _p], \"-\", c=cl[5] )\n",
    "        lg4_remd, = ax[1,1].plot(int(k)*tf, 1.0/ tau_av * 1000.0 , \".\", c=cl[5], mec=cl[5]) #  mew=1.0, mfc=\"None\"  \n",
    "        \n",
    "# mfpt h\n",
    "ax[0,1].plot(remd_lagtime_ar*tf, inv_lifetime_two_state_lagtime(\n",
    "    remd_lagtime_ar*tf, popt_ph[0][0], kex_fit_remd),\n",
    "          c=cl[3])\n",
    "# mfpt c\n",
    "ax[0,1].plot(remd_lagtime_ar*tf, inv_lifetime_two_state_lagtime(\n",
    "    remd_lagtime_ar*tf, popt_pc[0][0], kex_fit_remd),\n",
    "          c=cl[1])\n",
    "    \n",
    "    \n",
    "for k, v in md_dt_hdw_d.items():\n",
    "    dt_r = md_r_dt_d[str(k)]\n",
    "    md_r = dt_r[(dt_r.temperature==0) & (dt_r.type==(0,0,0,1))]\n",
    "  \n",
    "    _temp =v.wait_T / v.weight\n",
    "    if np.any(_temp.values > 0):\n",
    "        tau_av, var_tau = weights_first_second_moment(v.weight, v.wait_T)\n",
    "        #lg1_md, = ax[0,0].plot(int(k)*tf, 1.0/tau_av*1000.0, \"o\", c=cl[0])\n",
    "        lg1_md = ax[0,0].errorbar(int(k)*tf,  1.0/tau_av*1000.0, yerr=[md_r.err_m.values ,\n",
    "                                 md_r.err_p.values ],c=cl[0], fmt=\".\",\n",
    "                                 label=r\"$h \\rightarrow c$\")\n",
    "        \n",
    "ax[0,0].legend([md_lg, md_lg2], [r\"MD $h \\rightarrow c$\",\n",
    "                               r\"MD $c \\rightarrow h$\"],\n",
    "            loc=3)\n",
    "    \n",
    "for k, v in md_dt_cdw_d.items():\n",
    "    dt_r = md_r_dt_d[str(k)]\n",
    "    md_r = dt_r[(dt_r.temperature==0) & (dt_r.type==(0,1,0,0))]\n",
    "    _temp =v.wait_T / v.weight\n",
    "    if np.any(_temp.values > 0):\n",
    "        tau_av, var_tau = weights_first_second_moment(v.weight, v.wait_T)\n",
    "        #lg2_md, = ax[0,0].plot(int(k)*tf, 1.0/tau_av*1000.0, \"o\", c=cl[2])\n",
    "        lg2_md = ax[0,0].errorbar(int(k)*tf,  1.0/tau_av*1000.0, yerr=[md_r.err_m.values ,\n",
    "                                 md_r.err_p.values ],c=cl[2], fmt=\".\",\n",
    "                                 label=r\"$c \\rightarrow h$\")\n",
    "        \n",
    "ax[0,1].legend([lg_remd, lg_remd2], [r\"REMD $h \\rightarrow c$\",\n",
    "                               r\"REMD $c \\rightarrow h$\"], loc=3)       \n",
    "    \n",
    "for k, v in md_dt_10dw_d.items():\n",
    "    dt_r = md_r_dt_d[str(k)]\n",
    "    md_r = dt_r[(dt_r.temperature==0) & (dt_r.type.isin(trans_from_10))]\n",
    "    if np.any(v.wait_T > 0) and md_r.rate.sum() > 0 :\n",
    "        tau_av = np.average(v.wait_T/ v.weight, weights=v.weight)\n",
    "        \n",
    "        _m, _p = _count_err_from_rate_calc( 1.0/ tau_av * 1000.0,\n",
    "                                           md_r, trans_from_10)\n",
    "        ax[1,0].plot([int(k)*tf]*2, [ _m,  _p], \"-\", c=cl[4] )\n",
    "        #tau_av, var_tau = weights_first_second_moment(v.weight, v.wait_T)  \n",
    "        lg3_md, = ax[1,0].plot(int(k)*tf, 1.0/tau_av*1000.0, \".\", c=cl[4],  mfc=cl[4], mec=cl[4])\n",
    "        \n",
    "\n",
    "ax[1,0].legend([lg3, lg4], [r'MD $\\sum_{l(\\neq)3}k_{l3}$',\n",
    "                           r'MD $\\sum_{l(\\neq)4}k_{l4}$'],\n",
    "               loc=3, handletextpad=-0.5,handleheight=0.5,\n",
    "              borderaxespad=0.01)\n",
    "\n",
    "for k, v in md_dt_11dw_d.items():\n",
    "    \n",
    "    dt_r = md_r_dt_d[str(k)]\n",
    "    md_r = dt_r[(dt_r.temperature==0) & (dt_r.type.isin(trans_from_11))]\n",
    "    \n",
    "    if np.any(v.wait_T > 0) and md_r.rate.sum() > 0 :\n",
    "        tau_av = np.average(v.wait_T/ v.weight, weights=v.weight)\n",
    "        \n",
    "        _m, _p = _count_err_from_rate_calc( 1.0/ tau_av * 1000.0,\n",
    "                                           md_r, trans_from_11)\n",
    "        ax[1,0].plot([int(k)*tf]*2, [ _m,  _p], \"-\", c=cl[5] )\n",
    "        #tau_av, var_tau = weights_first_second_moment(v.weight, v.wait_T)\n",
    "        lg4_md, = ax[1,0].plot(int(k)*tf,  1.0/tau_av*1000.0, \".\", c=cl[5],  mfc=cl[5], mec=cl[5])\n",
    "        \n",
    "\n",
    "#mfpt h\n",
    "ax[0,0].plot(md_lagtime_ar*tf, inv_lifetime_two_state_lagtime(\n",
    "        md_lagtime_ar*tf, popt_ph[0][0], k_ex_fit), \"-\",\n",
    "          c=cl[2])\n",
    "#mfpt c\n",
    "ax[0,0].plot(md_lagtime_ar*tf, inv_lifetime_two_state_lagtime(\n",
    "        md_lagtime_ar*tf, popt_pc[0][0], k_ex_fit),\n",
    "          c=cl[0])       \n",
    "        \n",
    "ax[1,1].legend([lg3, lg4], [r'REMD $\\sum_{l(\\neq)3}k_{l3}$',\n",
    "                           r'REMD $\\sum_{l(\\neq)4}k_{l4}$'],\n",
    "               loc=3, handletextpad=-0.5,handleheight=0.5,\n",
    "              borderaxespad=0.01)\n",
    "            \n",
    "    \n",
    "\n",
    "for a in ax.flat:\n",
    "    a.loglog()\n",
    "    a.set_xlabel(\"$\\mathregular{\\Delta t \\, [ns]}$\", fontsize=12)\n",
    "    a.set_xlim(10**-3.2, 10**1)\n",
    "    a.tick_params(axis='both', which='major', labelsize=12)\n",
    "    \n",
    "for i, a in enumerate(fig_l[:2]):\n",
    "    ax.flat[i].text(10**-4.7, 10**1, a, fontsize=20)\n",
    "    ax.flat[i].set_ylabel(r\"$\\mathregular{k \\, [ns^{-1}]}$\", fontsize=12)\n",
    "\n",
    "    \n",
    "for i, a in enumerate(fig_l[2:]):\n",
    "    ax.flat[i+2].text(10**-4.7, 10**2, a, fontsize=20)\n",
    "    ax.flat[i+2].set_ylabel(r\"$\\mathregular{k \\, [ns^{-1}]}$\", fontsize=12)\n",
    "    \n",
    "    \n",
    "ax[1,0].plot(syn_ar[:,0], syn_ar[:,1], c='grey')\n",
    "ax[1,0].plot(syn_ar[:,0], syn_ar[:,2], c='black')    \n",
    "ax[1,1].plot(syn_ar[:,0], syn_ar[:,1], c='grey')\n",
    "ax[1,1].plot(syn_ar[:,0], syn_ar[:,2], c='black')\n",
    "    \n",
    "fig.tight_layout()\n",
    "fig.savefig('av_tau/plots/av_tau.png')\n",
    "fig.savefig('av_tau/plots/av_tau.pdf')"
   ]
  },
  {
   "cell_type": "code",
   "execution_count": 108,
   "metadata": {
    "collapsed": false
   },
   "outputs": [
    {
     "data": {
      "text/plain": [
       "u'/home/tb/lustelzl/Projects/kinetics/alanine-dipeptide/compare_remd_md/dt-comparison/comparison'"
      ]
     },
     "execution_count": 108,
     "metadata": {},
     "output_type": "execute_result"
    }
   ],
   "source": [
    "pwd"
   ]
  },
  {
   "cell_type": "markdown",
   "metadata": {
    "run_control": {
     "frozen": false,
     "read_only": false
    }
   },
   "source": []
  },
  {
   "cell_type": "code",
   "execution_count": null,
   "metadata": {
    "collapsed": false,
    "run_control": {
     "frozen": false,
     "read_only": false
    }
   },
   "outputs": [],
   "source": []
  },
  {
   "cell_type": "code",
   "execution_count": null,
   "metadata": {
    "collapsed": false,
    "run_control": {
     "frozen": false,
     "read_only": false
    }
   },
   "outputs": [],
   "source": []
  },
  {
   "cell_type": "code",
   "execution_count": null,
   "metadata": {
    "collapsed": false,
    "run_control": {
     "frozen": false,
     "read_only": false
    }
   },
   "outputs": [],
   "source": []
  },
  {
   "cell_type": "code",
   "execution_count": null,
   "metadata": {
    "collapsed": false,
    "run_control": {
     "frozen": false,
     "read_only": false
    }
   },
   "outputs": [],
   "source": []
  },
  {
   "cell_type": "code",
   "execution_count": null,
   "metadata": {
    "collapsed": false,
    "run_control": {
     "frozen": false,
     "read_only": false
    }
   },
   "outputs": [],
   "source": []
  },
  {
   "cell_type": "code",
   "execution_count": null,
   "metadata": {
    "collapsed": false,
    "run_control": {
     "frozen": false,
     "read_only": false
    }
   },
   "outputs": [],
   "source": []
  },
  {
   "cell_type": "code",
   "execution_count": null,
   "metadata": {
    "collapsed": false,
    "run_control": {
     "frozen": false,
     "read_only": false
    }
   },
   "outputs": [],
   "source": []
  },
  {
   "cell_type": "code",
   "execution_count": null,
   "metadata": {
    "collapsed": false,
    "run_control": {
     "frozen": false,
     "read_only": false
    }
   },
   "outputs": [],
   "source": []
  },
  {
   "cell_type": "code",
   "execution_count": null,
   "metadata": {
    "collapsed": false,
    "run_control": {
     "frozen": false,
     "read_only": false
    }
   },
   "outputs": [],
   "source": []
  },
  {
   "cell_type": "code",
   "execution_count": null,
   "metadata": {
    "collapsed": true,
    "run_control": {
     "frozen": false,
     "read_only": false
    }
   },
   "outputs": [],
   "source": []
  }
 ],
 "metadata": {
  "kernelspec": {
   "display_name": "Python [Root]",
   "language": "python",
   "name": "Python [Root]"
  },
  "language_info": {
   "codemirror_mode": {
    "name": "ipython",
    "version": 2
   },
   "file_extension": ".py",
   "mimetype": "text/x-python",
   "name": "python",
   "nbconvert_exporter": "python",
   "pygments_lexer": "ipython2",
   "version": "2.7.11"
  },
  "toc": {
   "colors": {
    "hover_highlight": "#DAA520",
    "running_highlight": "#FF0000",
    "selected_highlight": "#FFD700"
   },
   "moveMenuLeft": true,
   "nav_menu": {
    "height": "138px",
    "width": "252px"
   },
   "navigate_menu": true,
   "number_sections": true,
   "sideBar": true,
   "threshold": 4,
   "toc_cell": false,
   "toc_position": {
    "height": "869px",
    "left": "0px",
    "right": "1827px",
    "top": "107px",
    "width": "317px"
   },
   "toc_section_display": "block",
   "toc_window_display": true
  }
 },
 "nbformat": 4,
 "nbformat_minor": 0
}

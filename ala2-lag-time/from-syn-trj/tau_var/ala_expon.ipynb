{
 "cells": [
  {
   "cell_type": "markdown",
   "metadata": {
    "toc": "true"
   },
   "source": [
    "# Table of Contents\n",
    " <p><div class=\"lev1 toc-item\"><a href=\"#Exponentiality-of-the-lifetimes-distributions\" data-toc-modified-id=\"Exponentiality-of-the-lifetimes-distributions-1\"><span class=\"toc-item-num\">1&nbsp;&nbsp;</span>Exponentiality of the lifetimes distributions</a></div><div class=\"lev2 toc-item\"><a href=\"#load-data\" data-toc-modified-id=\"load-data-11\"><span class=\"toc-item-num\">1.1&nbsp;&nbsp;</span>load data</a></div><div class=\"lev2 toc-item\"><a href=\"#Calculate-first-and-second-moments-of-lifetime-distributions\" data-toc-modified-id=\"Calculate-first-and-second-moments-of-lifetime-distributions-12\"><span class=\"toc-item-num\">1.2&nbsp;&nbsp;</span>Calculate first and second moments of lifetime distributions</a></div><div class=\"lev1 toc-item\"><a href=\"#Visual-check-of-the-lifetime-distribution\" data-toc-modified-id=\"Visual-check-of-the-lifetime-distribution-2\"><span class=\"toc-item-num\">2&nbsp;&nbsp;</span>Visual check of the lifetime distribution</a></div>"
   ]
  },
  {
   "cell_type": "code",
   "execution_count": 110,
   "metadata": {
    "collapsed": false
   },
   "outputs": [],
   "source": [
    "%matplotlib inline"
   ]
  },
  {
   "cell_type": "markdown",
   "metadata": {
    "run_control": {
     "frozen": false,
     "read_only": false
    }
   },
   "source": [
    "# Exponentiality of the lifetimes distributions\n",
    "\n",
    "## load data"
   ]
  },
  {
   "cell_type": "code",
   "execution_count": 111,
   "metadata": {
    "collapsed": false
   },
   "outputs": [
    {
     "name": "stdout",
     "output_type": "stream",
     "text": [
      "-rw-r--r-- 1 lustelzl tb 66000 Jan 27 13:26 lifetime_dt10_ala_c_md.txt\r\n",
      "-rw-r--r-- 1 lustelzl tb 48600 Jan 27 13:26 lifetime_dt50_ala_c_md.txt\r\n",
      "-rw-r--r-- 1 lustelzl tb 72750 Jan 27 13:26 lifetime_dt1_ala_c_md.txt\r\n",
      "-rw-r--r-- 1 lustelzl tb 71475 Jan 27 13:26 lifetime_dt2_ala_c_md.txt\r\n",
      "-rw-r--r-- 1 lustelzl tb 69225 Jan 27 13:26 lifetime_dt5_ala_c_md.txt\r\n",
      "-rw-r--r-- 1 lustelzl tb 57900 Jan 27 13:26 lifetime_dt25_ala_c_md.txt\r\n",
      "-rw-r--r-- 1 lustelzl tb 35775 Jan 27 13:26 lifetime_dt100_ala_c_md.txt\r\n",
      "-rw-r--r-- 1 lustelzl tb  4575 Jan 27 13:26 lifetime_dt1000_ala_c_md.txt\r\n",
      "-rw-r--r-- 1 lustelzl tb  9750 Jan 27 13:26 lifetime_dt500_ala_c_md.txt\r\n",
      "-rw-r--r-- 1 lustelzl tb  2100 Jan 27 13:26 lifetime_dt2500_ala_c_md.txt\r\n"
     ]
    }
   ],
   "source": [
    "! ls -lrt  ../lifetime_ar/*/ | tail"
   ]
  },
  {
   "cell_type": "code",
   "execution_count": 112,
   "metadata": {
    "collapsed": true
   },
   "outputs": [],
   "source": [
    "lag_time_l = [1, 2, 5, 10, 20, 25, 50, 100, 200, 500, 1000, 2500, 5000]"
   ]
  },
  {
   "cell_type": "code",
   "execution_count": 113,
   "metadata": {
    "collapsed": false
   },
   "outputs": [],
   "source": [
    "remd_dt_hdw_d = {}\n",
    "remd_dt_cdw_d = {}\n",
    "\n",
    "for k in lag_time_l:\n",
    "    #print k\n",
    "    #wa_tau_a_ar = np.column_stack((v.weight.values, v.weight.values / sum(v.weight.values),  v.wait_T.values))\n",
    "    w_tau_a_ar = np.genfromtxt(\"../lifetime_ar/helix/lifetime_dt{}_ala_h.txt\".format(k))\n",
    "    remd_dt_hdw_d[k] = w_tau_a_ar\n",
    "    \n",
    "    w_tau_a_ar = np.genfromtxt(\"../lifetime_ar/coil/lifetime_dt{}_ala_h.txt\".format(k))\n",
    "    #np.savetxt(\"lifetime_ar/coil/lifetime_dt{}_ala_h.txt\".format(k), wa_tau_a_ar)\n",
    "    remd_dt_cdw_d[k] = w_tau_a_ar "
   ]
  },
  {
   "cell_type": "code",
   "execution_count": 114,
   "metadata": {
    "collapsed": true
   },
   "outputs": [],
   "source": [
    "md_dt_hdw_d = {}\n",
    "md_dt_cdw_d = {}\n",
    "\n",
    "for k in lag_time_l:\n",
    "    w_tau_a_ar = np.genfromtxt(\"../lifetime_ar/helix/lifetime_dt{}_ala_h_md.txt\".format(k))\n",
    "    md_dt_hdw_d[k] = w_tau_a_ar  \n",
    "    \n",
    "    ar = np.genfromtxt(\"../lifetime_ar/coil/lifetime_dt{}_ala_c_md.txt\".format(k))\n",
    "    md_dt_cdw_d[k] = ar"
   ]
  },
  {
   "cell_type": "markdown",
   "metadata": {},
   "source": [
    "should also load the lifetimes distributions presented in Figure $."
   ]
  },
  {
   "cell_type": "markdown",
   "metadata": {},
   "source": [
    "## Calculate first and second moments of lifetime distributions\n",
    "\n",
    "The lifetimes are scaled by $w_i$, to constitute a the wait for a single transition event.\n",
    "\n",
    "\\begin{equation}\n",
    "\\tau_i = \\frac{\\tilde{\\tau}_i}{w_i}\n",
    "\\end{equation}\n",
    "\n",
    "$\\tau_i$ enters the lifetime distribution with weight $w_i$\n",
    "\n",
    "\\begin{equation}\n",
    "\\langle \\tau \\rangle = \\frac{\\sum_i w_i \\tau_i}{\\sum_i w_i} = \\frac{\\sum_i \\tilde{\\tau}_i}{\\sum_i w_i}\n",
    "\\end{equation}\n",
    "\n",
    "This is equivalent to the definition of $k_{mn} = N_{mn}/t_n $. Entering the lifetimes with a weight $w_i$ thus ensures that the mean lifetime is equal to the inverse rate coefficient.\n",
    "\n",
    "\\begin{equation}\n",
    "\\langle \\tau^2 \\rangle = \\frac{\\sum_i \\tau_i^2}{\\sum_i w_i} =  \\frac{\\sum_i \\frac{\\tilde{\\tau}^2}{w_i}}{\\sum_i{w_i}}\n",
    "\\end{equation}\n",
    "\n",
    "Calculating the variance.\n",
    "\n",
    "\\begin{equation}\n",
    "\\langle \\tau^2 \\rangle - \\langle \\tau \\rangle^2 = \\langle (\\tau - \\langle \\tau \\rangle )^2 \\rangle = \\frac{\\sum w_i (\\tau_i - \\langle \\tau \\rangle)^2}{\\sum_i w_i} =   \\frac{\\sum_i w_i ( \\frac{\\tilde{\\tau_i}}{w_i} -  \\langle \\tau \\rangle)^2}{\\sum_i w_i}\n",
    "\\end{equation}"
   ]
  },
  {
   "cell_type": "code",
   "execution_count": 115,
   "metadata": {
    "collapsed": true
   },
   "outputs": [],
   "source": [
    "def check_exp_unw(tau_a, w_a, return_mom=False):\n",
    "    \"\"\"\n",
    "    variance is not weighted. This should give the wrong result\n",
    "    \"\"\"\n",
    "    #_av = np.average( tau_a / w_a, weights=w_a)\n",
    "    _av = np.sum(tau_a) / np.sum(w_a)\n",
    "    _var = np.sum( (tau_a - _av)**2 / (np.sum(w_a)) )\n",
    "    exp = _var/ _av**2\n",
    "    if return_mom:\n",
    "        return exp, (_av, _var)\n",
    "    else:\n",
    "         return exp\n",
    "\n",
    "def check_exp_w(tau_a, w_a, return_mom=False):\n",
    "    \"\"\"\n",
    "    Calculate weighted mean and variance for the lifetimes\n",
    "    \"\"\"\n",
    "    #_av = np.average( tau_a / w_a, weights=w_a)\n",
    "    _av = np.sum(tau_a) / np.sum(w_a)\n",
    "    _var = np.sum( w_a*(tau_a/w_a - _av)**2) / (np.sum(w_a) )\n",
    "    exp = _var/ _av**2\n",
    "    if return_mom:\n",
    "        return exp, (_av, _var)\n",
    "    else:\n",
    "         return exp"
   ]
  },
  {
   "cell_type": "code",
   "execution_count": 116,
   "metadata": {
    "collapsed": true
   },
   "outputs": [],
   "source": [
    "tf = 1.0/ 1000.0"
   ]
  },
  {
   "cell_type": "code",
   "execution_count": 117,
   "metadata": {
    "collapsed": false
   },
   "outputs": [
    {
     "data": {
      "image/png": "[encoded data removed]",
      "text/plain": [
       "<matplotlib.figure.Figure at 0x7fdec9d73510>"
      ]
     },
     "metadata": {},
     "output_type": "display_data"
    }
   ],
   "source": [
    "fig, ax = plt.subplots(1,2, figsize=(6,3))\n",
    "\n",
    "for k, v in remd_dt_hdw_d.items():\n",
    "    _exp = check_exp_w(v[:,2], v[:,0])\n",
    "    lg1_remd, = ax[0].plot(int(k)*tf, _exp, \"s\", c=cl[1])\n",
    "\n",
    "for k, v in remd_dt_cdw_d.items():\n",
    "    _exp = check_exp_w(v[:,2], v[:,0])\n",
    "\n",
    "    lg2_remd, = ax[1].plot(int(k)*tf, _exp, \"s\", c=cl[3])   \n",
    "\n",
    "for k, v in md_dt_hdw_d.items():\n",
    "    _exp = check_exp_w(v[:,2], v[:,0])\n",
    "    ax[0].plot(int(k)*tf, _exp, \"o\", c=cl[0])\n",
    "\n",
    "    \n",
    "for k, v in md_dt_cdw_d.items():\n",
    "    _exp = check_exp_w(v[:,2], v[:,0])\n",
    "    ax[1].plot(int(k)*tf, _exp, \"o\", c=cl[2])    \n",
    "    \n",
    "ax[0].legend([lg1_remd], [r'REMD $\\mathregular{\\tau_h}$'],\n",
    "               loc=3, handletextpad=-0.1, borderaxespad=0.1,\n",
    "              frameon=True)\n",
    "ax[1].legend([ lg2_remd], [r'REMD $\\mathregular{\\tau_c}$'],\n",
    "               loc=3,handletextpad=-0.1, borderaxespad=0.1,\n",
    "              frameon=True)\n",
    "\n",
    "\n",
    "\n",
    "\n",
    "for a in ax.flat:\n",
    "    a.loglog()\n",
    "    #a.set_ylim(10**-1, 10**1)\n",
    "    a.plot([10**-3, 10**1], [1]*2, \"-\")\n",
    "    a.set_xlim(10**-3.1, 10**1)\n",
    "    a.set_ylabel(r\"$\\mathregular{< \\tau^2> - <\\tau>^2 / <\\tau>^2}$\",\n",
    "                fontsize=12)\n",
    "    a.set_xlabel(\"$\\mathregular{\\Delta t \\, [ns]}$\", fontsize=12)\n",
    "    a.tick_params(axis='both', which='major', labelsize=12)\n",
    "    \n",
    "fig.tight_layout()"
   ]
  },
  {
   "cell_type": "code",
   "execution_count": 142,
   "metadata": {
    "collapsed": false
   },
   "outputs": [
    {
     "data": {
      "image/png": "[encoded data removed]",
      "text/plain": [
       "<matplotlib.figure.Figure at 0x7fdeca65d750>"
      ]
     },
     "metadata": {},
     "output_type": "display_data"
    }
   ],
   "source": [
    "fig, ax = plt.subplots(1,2, figsize=(6,3))\n",
    "\n",
    "for k, v in remd_dt_hdw_d.items():\n",
    "    _exp = check_exp_w(v[:,2], v[:,0], return_mom=True)\n",
    "    lg1_remd, = ax[0].plot(int(k)*tf, _exp[1][1], \"s\", c=cl[1])\n",
    "\n",
    "for k, v in remd_dt_cdw_d.items():\n",
    "    _exp = check_exp_w(v[:,2], v[:,0], return_mom=True)\n",
    "\n",
    "    lg2_remd, = ax[1].plot(int(k)*tf, _exp[1][1], \"s\", c=cl[3])   \n",
    "\n",
    "for k, v in md_dt_hdw_d.items():\n",
    "    _exp = check_exp_w(v[:,2], v[:,0], return_mom=True)\n",
    "    ax[0].plot(int(k)*tf, _exp[1][1], \"o\", c=cl[0])\n",
    "\n",
    "    \n",
    "for k, v in md_dt_cdw_d.items():\n",
    "    _exp = check_exp_w(v[:,2], v[:,0], return_mom=True)\n",
    "    ax[1].plot(int(k)*tf, _exp[1][1], \"o\", c=cl[2])    \n",
    "    \n",
    "ax[0].legend([lg1_remd], [r'REMD $\\mathregular{\\tau_h}$'],\n",
    "               loc=3, handletextpad=-0.1, borderaxespad=0.1,\n",
    "              frameon=True)\n",
    "ax[1].legend([ lg2_remd], [r'REMD $\\mathregular{\\tau_c}$'],\n",
    "               loc=3,handletextpad=-0.1, borderaxespad=0.1,\n",
    "              frameon=True)\n",
    "\n",
    "\n",
    "\n",
    "\n",
    "for a in ax.flat:\n",
    "    a.loglog()\n",
    "    a.set_ylim(10**3, 10**9)\n",
    "    #a.plot([10**-3, 10**1], [1]*2, \"-\")\n",
    "    a.set_xlim(10**-3.1, 10**1)\n",
    "    a.set_ylabel(r\"$\\mathregular{\\langle \\tau^2 \\rangle - \\langle \\tau^2 \\rangle \\, [ns^2]}$\",\n",
    "                fontsize=12)\n",
    "    a.set_xlabel(\"$\\mathregular{\\Delta t \\, [ns]}$\", fontsize=12)\n",
    "    a.tick_params(axis='both', which='major', labelsize=12)\n",
    "    \n",
    "fig.tight_layout()"
   ]
  },
  {
   "cell_type": "markdown",
   "metadata": {},
   "source": [
    "# Visual check of the lifetime distribution\n",
    "\n",
    "* need to compare to MD"
   ]
  },
  {
   "cell_type": "code",
   "execution_count": 118,
   "metadata": {
    "collapsed": true
   },
   "outputs": [],
   "source": [
    "from kinetics.ala_kinetics import *\n",
    "from kinetics.waiting_time import *"
   ]
  },
  {
   "cell_type": "code",
   "execution_count": 119,
   "metadata": {
    "collapsed": true
   },
   "outputs": [],
   "source": [
    "ala_t_factor = 1.0/ 1000.0\n",
    "_blog = np.logspace(-3,1, 5000)"
   ]
  },
  {
   "cell_type": "code",
   "execution_count": 120,
   "metadata": {
    "collapsed": false
   },
   "outputs": [],
   "source": [
    "mh_1 = remd_dt_hdw_d[1][:,2] > 0\n",
    "mh_50 = remd_dt_hdw_d[50][:,2] > 0"
   ]
  },
  {
   "cell_type": "code",
   "execution_count": 121,
   "metadata": {
    "collapsed": true
   },
   "outputs": [],
   "source": [
    "fit_plot_cdf??"
   ]
  },
  {
   "cell_type": "code",
   "execution_count": 122,
   "metadata": {
    "collapsed": false
   },
   "outputs": [
    {
     "name": "stdout",
     "output_type": "stream",
     "text": [
      "2977.0\n",
      "91677.5419681 43746.9958621\n"
     ]
    }
   ],
   "source": [
    "print np.max(remd_dt_hdw_d[1][:,2][mh_1] / remd_dt_hdw_d[1][:,0][mh_1])\n",
    "print np.var(remd_dt_hdw_d[1][:,2][mh_1] / remd_dt_hdw_d[1][:,0][mh_1]), \\\n",
    "check_exp_w(remd_dt_hdw_d[1][:,2][mh_1], remd_dt_hdw_d[1][:,0][mh_1], return_mom=True)[1][1]"
   ]
  },
  {
   "cell_type": "code",
   "execution_count": 123,
   "metadata": {
    "collapsed": false
   },
   "outputs": [
    {
     "name": "stdout",
     "output_type": "stream",
     "text": [
      "31651.5224742\n"
     ]
    }
   ],
   "source": [
    "np.max(md_dt_hdw_d[1][:,2])\n",
    "print np.var(md_dt_hdw_d[1][:,2])"
   ]
  },
  {
   "cell_type": "code",
   "execution_count": 124,
   "metadata": {
    "collapsed": false
   },
   "outputs": [
    {
     "data": {
      "image/png": "[encoded data removed]",
      "text/plain": [
       "<matplotlib.figure.Figure at 0x7fdec9f91fd0>"
      ]
     },
     "metadata": {},
     "output_type": "display_data"
    }
   ],
   "source": [
    "fig, ax = plt.subplots(1,2, figsize=(15,3))\n",
    "ax[0], b, l = fit_plot_cdf(ax[0], remd_dt_hdw_d[1][:,2][mh_1] / remd_dt_hdw_d[1][:,0][mh_1] * ala_t_factor , \n",
    "                 weights=remd_dt_hdw_d[1][:,0][mh_1],\n",
    "                bins=_blog)\n",
    "\n",
    "ax[1], b, l = fit_plot_cdf(ax[1], md_dt_hdw_d[1][:,2] * ala_t_factor , \n",
    "                bins=_blog)\n",
    "\n",
    "for a in ax:\n",
    "    a.semilogx()"
   ]
  },
  {
   "cell_type": "code",
   "execution_count": 125,
   "metadata": {
    "collapsed": true
   },
   "outputs": [],
   "source": [
    "mc_1 = remd_dt_cdw_d[1][:,2] > 0"
   ]
  },
  {
   "cell_type": "code",
   "execution_count": 126,
   "metadata": {
    "collapsed": false
   },
   "outputs": [
    {
     "name": "stdout",
     "output_type": "stream",
     "text": [
      "4527.0\n",
      "237747.650485 97716.1784696\n"
     ]
    }
   ],
   "source": [
    "print np.max(remd_dt_cdw_d[1][:,2][mc_1] / remd_dt_cdw_d[1][:,0][mc_1])\n",
    "print np.var(remd_dt_cdw_d[1][:,2][mc_1] / remd_dt_cdw_d[1][:,0][mc_1]), \\\n",
    "check_exp_w(remd_dt_cdw_d[1][:,2][mc_1], remd_dt_cdw_d[1][:,0][mc_1], return_mom=True)[1][1]"
   ]
  },
  {
   "cell_type": "code",
   "execution_count": 127,
   "metadata": {
    "collapsed": false
   },
   "outputs": [
    {
     "name": "stdout",
     "output_type": "stream",
     "text": [
      "68072.3526156\n"
     ]
    }
   ],
   "source": [
    "np.max(md_dt_cdw_d[1][:,2])\n",
    "print np.var(md_dt_cdw_d[1][:,2])"
   ]
  },
  {
   "cell_type": "code",
   "execution_count": 128,
   "metadata": {
    "collapsed": false
   },
   "outputs": [
    {
     "data": {
      "image/png": "[encoded data removed]",
      "text/plain": [
       "<matplotlib.figure.Figure at 0x7fdec98f1390>"
      ]
     },
     "metadata": {},
     "output_type": "display_data"
    }
   ],
   "source": [
    "fig, ax = plt.subplots(1,2, figsize=(18,4))\n",
    "ax[0], b, l = fit_plot_cdf(ax[0], remd_dt_cdw_d[1][:,2][mc_1] / remd_dt_cdw_d[1][:,0][mc_1] * ala_t_factor , \n",
    "                 weights=remd_dt_cdw_d[1][:,0][mc_1],\n",
    "                bins=_blog)\n",
    "\n",
    "ax[1], b, l = fit_plot_cdf(ax[1], md_dt_cdw_d[1][:,2] * ala_t_factor , \n",
    "                bins=_blog)\n",
    "\n",
    "for a in ax:\n",
    "    a.semilogx()"
   ]
  },
  {
   "cell_type": "code",
   "execution_count": 129,
   "metadata": {
    "collapsed": false
   },
   "outputs": [
    {
     "data": {
      "text/plain": [
       "[]"
      ]
     },
     "execution_count": 129,
     "metadata": {},
     "output_type": "execute_result"
    },
    {
     "data": {
      "image/png": "[encoded data removed]",
      "text/plain": [
       "<matplotlib.figure.Figure at 0x7fdeca228410>"
      ]
     },
     "metadata": {},
     "output_type": "display_data"
    }
   ],
   "source": [
    "fig, ax = plt.subplots(figsize=(10,3))\n",
    "_ = fit_plot_cdf(ax, remd_dt_hdw_d[50][:,2][mh_50] / remd_dt_hdw_d[50][:,0][mh_50] * ala_t_factor , \n",
    "                 weights=remd_dt_hdw_d[50][:,0][mh_50],\n",
    "                bins=_blog)\n",
    "ax.semilogx()"
   ]
  },
  {
   "cell_type": "code",
   "execution_count": null,
   "metadata": {
    "collapsed": true
   },
   "outputs": [],
   "source": []
  },
  {
   "cell_type": "code",
   "execution_count": null,
   "metadata": {
    "collapsed": true
   },
   "outputs": [],
   "source": []
  }
 ],
 "metadata": {
  "anaconda-cloud": {},
  "kernelspec": {
   "display_name": "Python [Root]",
   "language": "python",
   "name": "Python [Root]"
  },
  "language_info": {
   "codemirror_mode": {
    "name": "ipython",
    "version": 2
   },
   "file_extension": ".py",
   "mimetype": "text/x-python",
   "name": "python",
   "nbconvert_exporter": "python",
   "pygments_lexer": "ipython2",
   "version": "2.7.11"
  },
  "toc": {
   "colors": {
    "hover_highlight": "#DAA520",
    "running_highlight": "#FF0000",
    "selected_highlight": "#FFD700"
   },
   "moveMenuLeft": true,
   "nav_menu": {
    "height": "101px",
    "width": "252px"
   },
   "navigate_menu": true,
   "number_sections": true,
   "sideBar": true,
   "threshold": 4,
   "toc_cell": true,
   "toc_section_display": "block",
   "toc_window_display": true
  }
 },
 "nbformat": 4,
 "nbformat_minor": 0
}

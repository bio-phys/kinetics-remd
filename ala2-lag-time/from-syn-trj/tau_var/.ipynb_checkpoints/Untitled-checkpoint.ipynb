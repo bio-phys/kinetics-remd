{
 "cells": [
  {
   "cell_type": "code",
   "execution_count": 32,
   "metadata": {
    "collapsed": false
   },
   "outputs": [],
   "source": [
    "%matplotlib inline\n",
    "import numpy as np\n",
    "import matplotlib.pyplot as plt\n",
    "import seaborn as sns"
   ]
  },
  {
   "cell_type": "code",
   "execution_count": 8,
   "metadata": {
    "collapsed": false
   },
   "outputs": [
    {
     "name": "stdout",
     "output_type": "stream",
     "text": [
      "-rw-r--r--  1 lukas  staff  14100 Jan 27 13:26 lifetime_dt200_ala_h.txt\r\n",
      "-rw-r--r--  1 lukas  staff  22425 Jan 27 13:26 lifetime_dt200_ala_c_md.txt\r\n",
      "-rw-r--r--  1 lukas  staff  29325 Jan 27 13:26 lifetime_dt1_ala_h.txt\r\n",
      "-rw-r--r--  1 lukas  staff  72750 Jan 27 13:26 lifetime_dt1_ala_c_md.txt\r\n",
      "-rw-r--r--  1 lukas  staff  35400 Jan 27 13:26 lifetime_dt10_ala_h.txt\r\n",
      "-rw-r--r--  1 lukas  staff  66000 Jan 27 13:26 lifetime_dt10_ala_c_md.txt\r\n",
      "-rw-r--r--  1 lukas  staff  23175 Jan 27 13:26 lifetime_dt100_ala_h.txt\r\n",
      "-rw-r--r--  1 lukas  staff  35775 Jan 27 13:26 lifetime_dt100_ala_c_md.txt\r\n",
      "-rw-r--r--  1 lukas  staff   2925 Jan 27 13:26 lifetime_dt1000_ala_h.txt\r\n",
      "-rw-r--r--  1 lukas  staff   4575 Jan 27 13:26 lifetime_dt1000_ala_c_md.txt\r\n"
     ]
    }
   ],
   "source": [
    "! ls -lrt  ../comparison/lifetime_ar/*/ | tail"
   ]
  },
  {
   "cell_type": "code",
   "execution_count": 9,
   "metadata": {
    "collapsed": true
   },
   "outputs": [],
   "source": [
    "lag_time_l = [1, 2, 5, 10, 20, 25, 50, 100, 200, 500, 1000, 2500, 5000]"
   ]
  },
  {
   "cell_type": "code",
   "execution_count": 10,
   "metadata": {
    "collapsed": false
   },
   "outputs": [],
   "source": [
    "remd_dt_hdw_d = {}\n",
    "remd_dt_cdw_d = {}\n",
    "\n",
    "for k in lag_time_l:\n",
    "    #print k\n",
    "    #wa_tau_a_ar = np.column_stack((v.weight.values, v.weight.values / sum(v.weight.values),  v.wait_T.values))\n",
    "    w_tau_a_ar = np.genfromtxt(\"../comparison/lifetime_ar/helix/lifetime_dt{}_ala_h.txt\".format(k))\n",
    "    remd_dt_hdw_d[k] = w_tau_a_ar\n",
    "    \n",
    "    w_tau_a_ar = np.genfromtxt(\"../comparison/lifetime_ar/coil/lifetime_dt{}_ala_h.txt\".format(k))\n",
    "    #np.savetxt(\"lifetime_ar/coil/lifetime_dt{}_ala_h.txt\".format(k), wa_tau_a_ar)\n",
    "    remd_dt_cdw_d[k] = w_tau_a_ar "
   ]
  },
  {
   "cell_type": "code",
   "execution_count": 12,
   "metadata": {
    "collapsed": false
   },
   "outputs": [],
   "source": [
    "md_dt_hdw_d = {}\n",
    "md_dt_cdw_d = {}\n",
    "\n",
    "for k in lag_time_l:\n",
    "    w_tau_a_ar = np.genfromtxt(\"../comparison/lifetime_ar/helix/lifetime_dt{}_ala_h_md.txt\".format(k))\n",
    "    md_dt_hdw_d[k] = w_tau_a_ar  \n",
    "    \n",
    "    ar = np.genfromtxt(\"../comparison/lifetime_ar/coil/lifetime_dt{}_ala_c_md.txt\".format(k))\n",
    "    md_dt_cdw_d[k] = ar"
   ]
  },
  {
   "cell_type": "code",
   "execution_count": 13,
   "metadata": {
    "collapsed": true
   },
   "outputs": [],
   "source": [
    "def mean_tau_w(tau_a, w_a):\n",
    "    return np.average( tau_a / w_a, weights=w_a)\n",
    "\n",
    "def var_tau_w(tau_a, w_a, av):\n",
    "    return np.sum( w_a*(tau_a/w_a - av)**2) / (np.sum(w_a) )\n",
    "\n",
    "\n",
    "def check_moments_w(tau_a, w_a):\n",
    "    _av = mean_tau_w(tau_a, w_a)\n",
    "    _var = var_tau_w(tau_a, w_a, _av)\n",
    "    return _av, _var"
   ]
  },
  {
   "cell_type": "code",
   "execution_count": 14,
   "metadata": {
    "collapsed": false
   },
   "outputs": [
    {
     "data": {
      "text/plain": [
       "u'/Users/lukas/Projects/kinetics/delta_obs/ala2/tau_var'"
      ]
     },
     "execution_count": 14,
     "metadata": {},
     "output_type": "execute_result"
    }
   ],
   "source": [
    "pwd"
   ]
  },
  {
   "cell_type": "code",
   "execution_count": 16,
   "metadata": {
    "collapsed": false
   },
   "outputs": [
    {
     "name": "stdout",
     "output_type": "stream",
     "text": [
      "var_lifetimes_c.txt   var_lifetimes_st3.txt\r\n",
      "var_lifetimes_h.txt   var_lifetimes_st4.txt\r\n"
     ]
    }
   ],
   "source": [
    "! ls ../synthetic/var_dt/"
   ]
  },
  {
   "cell_type": "code",
   "execution_count": 35,
   "metadata": {
    "collapsed": true
   },
   "outputs": [],
   "source": [
    "mcmc_var_h = np.genfromtxt(\"../synthetic/var_dt/var_lifetimes_h.txt\")\n",
    "mcmc_var_c = np.genfromtxt(\"../synthetic/var_dt/var_lifetimes_c.txt\")"
   ]
  },
  {
   "cell_type": "code",
   "execution_count": 24,
   "metadata": {
    "collapsed": false
   },
   "outputs": [
    {
     "data": {
      "text/plain": [
       "array([[  1.00000000e+00,   1.03626943e-03,   6.30000000e+01],\n",
       "       [  1.00000000e+00,   1.03626943e-03,   1.49000000e+02],\n",
       "       [  1.00000000e+00,   1.03626943e-03,   1.14000000e+02],\n",
       "       ..., \n",
       "       [  1.00000000e+00,   1.03626943e-03,   1.01000000e+02],\n",
       "       [  1.00000000e+00,   1.03626943e-03,   8.00000000e+00],\n",
       "       [  1.00000000e+00,   1.03626943e-03,   1.05000000e+02]])"
      ]
     },
     "execution_count": 24,
     "metadata": {},
     "output_type": "execute_result"
    }
   ],
   "source": [
    "md_dt_hdw_d[1]"
   ]
  },
  {
   "cell_type": "code",
   "execution_count": 33,
   "metadata": {
    "collapsed": true
   },
   "outputs": [],
   "source": [
    "cl = sns.color_palette()"
   ]
  },
  {
   "cell_type": "code",
   "execution_count": 53,
   "metadata": {
    "collapsed": false
   },
   "outputs": [
    {
     "data": {
      "image/png": "[encoded data removed]",
      "text/plain": [
       "<matplotlib.figure.Figure at 0x1174f8cd0>"
      ]
     },
     "metadata": {},
     "output_type": "display_data"
    }
   ],
   "source": [
    "fig, ax = plt.subplots(2,2, figsize=(6,6))\n",
    "sns.set_style('ticks')\n",
    "\n",
    "for k, v in md_dt_hdw_d.items():\n",
    "    _a, _v = check_moments_w(v[:,-1], v[:,0])\n",
    "    ax[0,0].plot(k, _v, \"o\", c=cl[0])\n",
    "    \n",
    "\n",
    "\n",
    "for k, v in md_dt_cdw_d.items():\n",
    "    _a, _v = check_moments_w(v[:,-1], v[:,0])\n",
    "    ax[0,0].plot(k, _v, \"o\", c=cl[2])\n",
    "    \n",
    "\n",
    "\n",
    "for k, v in remd_dt_hdw_d.items():\n",
    "    _a, _v = check_moments_w(v[:,-1], v[:,0])\n",
    "    ax[0,1].plot(k, _v, \"s\", c=cl[1])\n",
    "    \n",
    "for k, v in remd_dt_cdw_d.items():\n",
    "    _a, _v = check_moments_w(v[:,-1], v[:,0])\n",
    "    ax[0,1].plot(k, _v, \"s\", c=cl[3])\n",
    "\n",
    "for a in ax[0,:]:\n",
    "    a.plot(mcmc_var_h[:,0], mcmc_var_h[:,1], c='gray', lw=1.1)\n",
    "    a.plot(mcmc_var_c[:,0], mcmc_var_c[:,1], c='k', lw=1.1)\n",
    "    \n",
    "for a in ax[0,:]:\n",
    "    a.loglog()\n",
    "    \n",
    "fig.tight_layout()"
   ]
  },
  {
   "cell_type": "code",
   "execution_count": null,
   "metadata": {
    "collapsed": true
   },
   "outputs": [],
   "source": []
  }
 ],
 "metadata": {
  "kernelspec": {
   "display_name": "Python [Root]",
   "language": "python",
   "name": "Python [Root]"
  },
  "language_info": {
   "codemirror_mode": {
    "name": "ipython",
    "version": 2
   },
   "file_extension": ".py",
   "mimetype": "text/x-python",
   "name": "python",
   "nbconvert_exporter": "python",
   "pygments_lexer": "ipython2",
   "version": "2.7.11"
  },
  "toc": {
   "colors": {
    "hover_highlight": "#DAA520",
    "running_highlight": "#FF0000",
    "selected_highlight": "#FFD700"
   },
   "moveMenuLeft": true,
   "nav_menu": {
    "height": "12px",
    "width": "252px"
   },
   "navigate_menu": true,
   "number_sections": true,
   "sideBar": true,
   "threshold": 4,
   "toc_cell": false,
   "toc_section_display": "block",
   "toc_window_display": false
  }
 },
 "nbformat": 4,
 "nbformat_minor": 0
}
